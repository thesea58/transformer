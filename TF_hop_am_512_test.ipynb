{
  "nbformat": 4,
  "nbformat_minor": 0,
  "metadata": {
    "colab": {
      "provenance": [],
      "include_colab_link": true
    },
    "kernelspec": {
      "name": "python3",
      "display_name": "Python 3"
    },
    "language_info": {
      "name": "python"
    },
    "accelerator": "GPU",
    "gpuClass": "standard"
  },
  "cells": [
    {
      "cell_type": "markdown",
      "metadata": {
        "id": "view-in-github",
        "colab_type": "text"
      },
      "source": [
        "<a href=\"https://colab.research.google.com/github/thesea58/transformer/blob/main/TF_hop_am_512_test.ipynb\" target=\"_parent\"><img src=\"https://colab.research.google.com/assets/colab-badge.svg\" alt=\"Open In Colab\"/></a>"
      ]
    },
    {
      "cell_type": "code",
      "execution_count": null,
      "metadata": {
        "colab": {
          "base_uri": "https://localhost:8080/"
        },
        "id": "WFJ08pGswa1u",
        "outputId": "874af1dd-e458-4823-c60e-7ec83fb0c219"
      },
      "outputs": [
        {
          "output_type": "stream",
          "name": "stdout",
          "text": [
            "Mon Apr 17 13:00:27 2023       \n",
            "+-----------------------------------------------------------------------------+\n",
            "| NVIDIA-SMI 525.85.12    Driver Version: 525.85.12    CUDA Version: 12.0     |\n",
            "|-------------------------------+----------------------+----------------------+\n",
            "| GPU  Name        Persistence-M| Bus-Id        Disp.A | Volatile Uncorr. ECC |\n",
            "| Fan  Temp  Perf  Pwr:Usage/Cap|         Memory-Usage | GPU-Util  Compute M. |\n",
            "|                               |                      |               MIG M. |\n",
            "|===============================+======================+======================|\n",
            "|   0  Tesla T4            Off  | 00000000:00:04.0 Off |                    0 |\n",
            "| N/A   58C    P8    11W /  70W |      0MiB / 15360MiB |      0%      Default |\n",
            "|                               |                      |                  N/A |\n",
            "+-------------------------------+----------------------+----------------------+\n",
            "                                                                               \n",
            "+-----------------------------------------------------------------------------+\n",
            "| Processes:                                                                  |\n",
            "|  GPU   GI   CI        PID   Type   Process name                  GPU Memory |\n",
            "|        ID   ID                                                   Usage      |\n",
            "|=============================================================================|\n",
            "|  No running processes found                                                 |\n",
            "+-----------------------------------------------------------------------------+\n"
          ]
        }
      ],
      "source": [
        "!nvidia-smi"
      ]
    },
    {
      "cell_type": "markdown",
      "metadata": {
        "id": "_gsNDqxImJPO"
      },
      "source": [
        "# cài dặt và import thư viện"
      ]
    },
    {
      "cell_type": "code",
      "execution_count": 2,
      "metadata": {
        "id": "wVxjyX0BL7he"
      },
      "outputs": [],
      "source": [
        "import os\n",
        "import math\n",
        "import time\n",
        "import json\n",
        "import music21 as m21\n",
        "import numpy as np\n",
        "import pandas as pd\n",
        "import glob\n",
        "import pickle\n",
        "from tqdm import tqdm\n",
        "import tensorflow as tf\n",
        "# from tensorflow.keras.utils import pad_sequences\n",
        "from typing import Collection, List"
      ]
    },
    {
      "cell_type": "code",
      "source": [
        "from google.colab import drive\n",
        "drive.mount('/content/drive')"
      ],
      "metadata": {
        "colab": {
          "base_uri": "https://localhost:8080/"
        },
        "id": "zSX-px-cUGIX",
        "outputId": "7908accd-6f0b-45df-9cdb-7e770052eb56"
      },
      "execution_count": 3,
      "outputs": [
        {
          "output_type": "stream",
          "name": "stdout",
          "text": [
            "Mounted at /content/drive\n"
          ]
        }
      ]
    },
    {
      "cell_type": "code",
      "execution_count": 4,
      "metadata": {
        "colab": {
          "base_uri": "https://localhost:8080/"
        },
        "id": "rzb_jkRSJofZ",
        "outputId": "172e6788-298e-4bae-895d-54fc3ad66184"
      },
      "outputs": [
        {
          "output_type": "stream",
          "name": "stdout",
          "text": [
            "/content/drive/.shortcut-targets-by-id/1tM9cmHbycv0M-AtDYBu9bQ0sv5sb4e6W/AI nhac viet/code\n",
            "/content/drive/.shortcut-targets-by-id/1tM9cmHbycv0M-AtDYBu9bQ0sv5sb4e6W/AI nhac viet\n"
          ]
        }
      ],
      "source": [
        "%cd /content/drive/MyDrive/Colab Notebooks/AI nhac viet/code/\n",
        "import convert \n",
        "import convert_goc\n",
        "import vocab \n",
        "import numpy_encode \n",
        "import transformer_tf as transf_tf\n",
        "import transformer\n",
        "from  transformer import TransformerDecoder, TransformerMusicGenerator, MusicGenerator,ExportMusicGenerator\n",
        "from  transformer import *\n",
        "import tokenizer_dataset \n",
        "# import playmidi \n",
        "\n",
        "%cd .."
      ]
    },
    {
      "cell_type": "markdown",
      "source": [
        "# dataset"
      ],
      "metadata": {
        "id": "QMsYRM-Lwzjo"
      }
    },
    {
      "cell_type": "code",
      "source": [
        "max_len = 512\n",
        "transpose = 6\n",
        "batch_size = 40\n",
        "created_vocab = convert_goc.MusicVocab.create()\n",
        "print(f'vocabulary size: {len(created_vocab)}')\n",
        "fp = './ai-music/midi_songs'\n",
        "\n",
        "train_ds = convert_goc.create_dataset(fp, created_vocab, max_len, batch_size, transpose)\n",
        "val_ds = convert_goc.create_dataset('./ai-music/midi_songs_val/', created_vocab, max_len, batch_size, transpose, shuffle=False)\n",
        "\n",
        "# # Load the dataset from the file\n",
        "# train_ds = tf.data.Dataset.load(f\"./ai-music/dataset_MEGA_512_{batch_size}\")\n",
        "\n",
        "# # Prefetch the data to optimize performance\n",
        "# train_ds = train_ds.prefetch(batch_size)\n",
        "# print(f\"có {len(train_ds)} batch\")"
      ],
      "metadata": {
        "colab": {
          "base_uri": "https://localhost:8080/"
        },
        "id": "HhmlJ3ctw2Yw",
        "outputId": "0d8c5e52-8625-4e4f-f5c2-1b5b74814703"
      },
      "execution_count": 5,
      "outputs": [
        {
          "output_type": "stream",
          "name": "stdout",
          "text": [
            "vocabulary size: 298\n",
            "tìm thấy 73 file \n",
            "0đã load lại: /content/drive/.shortcut-targets-by-id/1tM9cmHbycv0M-AtDYBu9bQ0sv5sb4e6W/AI nhac viet/ai-music/midi_songs/Cids.mid.txt\n",
            "1đã load lại: /content/drive/.shortcut-targets-by-id/1tM9cmHbycv0M-AtDYBu9bQ0sv5sb4e6W/AI nhac viet/ai-music/midi_songs/DOS.mid.txt\n",
            "2đã load lại: /content/drive/.shortcut-targets-by-id/1tM9cmHbycv0M-AtDYBu9bQ0sv5sb4e6W/AI nhac viet/ai-music/midi_songs/FF4.mid.txt\n",
            "3đã load lại: /content/drive/.shortcut-targets-by-id/1tM9cmHbycv0M-AtDYBu9bQ0sv5sb4e6W/AI nhac viet/ai-music/midi_songs/FFIII_Edgar_And_Sabin_Piano.mid.txt\n",
            "4đã load lại: /content/drive/.shortcut-targets-by-id/1tM9cmHbycv0M-AtDYBu9bQ0sv5sb4e6W/AI nhac viet/ai-music/midi_songs/FFIXQuMarshP.mid.txt\n",
            "5đã load lại: /content/drive/.shortcut-targets-by-id/1tM9cmHbycv0M-AtDYBu9bQ0sv5sb4e6W/AI nhac viet/ai-music/midi_songs/FFIX_Piano.mid.txt\n",
            "6đã load lại: /content/drive/.shortcut-targets-by-id/1tM9cmHbycv0M-AtDYBu9bQ0sv5sb4e6W/AI nhac viet/ai-music/midi_songs/FFX_-_Ending_Theme_(Piano_Version)_-_by_Angel_FF.mid.txt\n",
            "7đã load lại: /content/drive/.shortcut-targets-by-id/1tM9cmHbycv0M-AtDYBu9bQ0sv5sb4e6W/AI nhac viet/ai-music/midi_songs/Final_Fantasy_Matouyas_Cave_Piano.mid.txt\n",
            "8đã load lại: /content/drive/.shortcut-targets-by-id/1tM9cmHbycv0M-AtDYBu9bQ0sv5sb4e6W/AI nhac viet/ai-music/midi_songs/Finalfantasy6fanfarecomplete.mid.txt\n",
            "9đã load lại: /content/drive/.shortcut-targets-by-id/1tM9cmHbycv0M-AtDYBu9bQ0sv5sb4e6W/AI nhac viet/ai-music/midi_songs/Gold_Silver_Rival_Battle.mid.txt\n",
            "10đã load lại: /content/drive/.shortcut-targets-by-id/1tM9cmHbycv0M-AtDYBu9bQ0sv5sb4e6W/AI nhac viet/ai-music/midi_songs/HighwindTakestotheSkies.mid.txt\n",
            "11đã load lại: /content/drive/.shortcut-targets-by-id/1tM9cmHbycv0M-AtDYBu9bQ0sv5sb4e6W/AI nhac viet/ai-music/midi_songs/In_Zanarkand.mid.txt\n",
            "12đã load lại: /content/drive/.shortcut-targets-by-id/1tM9cmHbycv0M-AtDYBu9bQ0sv5sb4e6W/AI nhac viet/ai-music/midi_songs/Life_Stream.mid.txt\n",
            "13đã load lại: /content/drive/.shortcut-targets-by-id/1tM9cmHbycv0M-AtDYBu9bQ0sv5sb4e6W/AI nhac viet/ai-music/midi_songs/OTD5YA.mid.txt\n",
            "14đã load lại: /content/drive/.shortcut-targets-by-id/1tM9cmHbycv0M-AtDYBu9bQ0sv5sb4e6W/AI nhac viet/ai-music/midi_songs/Rydia_pc.mid.txt\n",
            "15đã load lại: /content/drive/.shortcut-targets-by-id/1tM9cmHbycv0M-AtDYBu9bQ0sv5sb4e6W/AI nhac viet/ai-music/midi_songs/Still_Alive-1.mid.txt\n",
            "16đã load lại: /content/drive/.shortcut-targets-by-id/1tM9cmHbycv0M-AtDYBu9bQ0sv5sb4e6W/AI nhac viet/ai-music/midi_songs/ahead_on_our_way_piano.mid.txt\n",
            "17đã load lại: /content/drive/.shortcut-targets-by-id/1tM9cmHbycv0M-AtDYBu9bQ0sv5sb4e6W/AI nhac viet/ai-music/midi_songs/bcm.mid.txt\n",
            "18đã load lại: /content/drive/.shortcut-targets-by-id/1tM9cmHbycv0M-AtDYBu9bQ0sv5sb4e6W/AI nhac viet/ai-music/midi_songs/cosmo.mid.txt\n",
            "19đã load lại: /content/drive/.shortcut-targets-by-id/1tM9cmHbycv0M-AtDYBu9bQ0sv5sb4e6W/AI nhac viet/ai-music/midi_songs/costadsol.mid.txt\n",
            "20đã load lại: /content/drive/.shortcut-targets-by-id/1tM9cmHbycv0M-AtDYBu9bQ0sv5sb4e6W/AI nhac viet/ai-music/midi_songs/dayafter.mid.txt\n",
            "21đã load lại: /content/drive/.shortcut-targets-by-id/1tM9cmHbycv0M-AtDYBu9bQ0sv5sb4e6W/AI nhac viet/ai-music/midi_songs/dontbeafraid.mid.txt\n",
            "22đã load lại: /content/drive/.shortcut-targets-by-id/1tM9cmHbycv0M-AtDYBu9bQ0sv5sb4e6W/AI nhac viet/ai-music/midi_songs/ff11_awakening_piano.mid.txt\n",
            "23đã load lại: /content/drive/.shortcut-targets-by-id/1tM9cmHbycv0M-AtDYBu9bQ0sv5sb4e6W/AI nhac viet/ai-music/midi_songs/ff4-fight1.mid.txt\n",
            "24đã load lại: /content/drive/.shortcut-targets-by-id/1tM9cmHbycv0M-AtDYBu9bQ0sv5sb4e6W/AI nhac viet/ai-music/midi_songs/ff4-town.mid.txt\n",
            "25đã load lại: /content/drive/.shortcut-targets-by-id/1tM9cmHbycv0M-AtDYBu9bQ0sv5sb4e6W/AI nhac viet/ai-music/midi_songs/ff4pclov.mid.txt\n",
            "26đã load lại: /content/drive/.shortcut-targets-by-id/1tM9cmHbycv0M-AtDYBu9bQ0sv5sb4e6W/AI nhac viet/ai-music/midi_songs/ff6shap.mid.txt\n",
            "27đã load lại: /content/drive/.shortcut-targets-by-id/1tM9cmHbycv0M-AtDYBu9bQ0sv5sb4e6W/AI nhac viet/ai-music/midi_songs/ff7-mainmidi.mid.txt\n",
            "28đã load lại: /content/drive/.shortcut-targets-by-id/1tM9cmHbycv0M-AtDYBu9bQ0sv5sb4e6W/AI nhac viet/ai-music/midi_songs/ff7themep.mid.txt\n",
            "29đã load lại: /content/drive/.shortcut-targets-by-id/1tM9cmHbycv0M-AtDYBu9bQ0sv5sb4e6W/AI nhac viet/ai-music/midi_songs/ff8-lfp.mid.txt\n",
            "30đã load lại: /content/drive/.shortcut-targets-by-id/1tM9cmHbycv0M-AtDYBu9bQ0sv5sb4e6W/AI nhac viet/ai-music/midi_songs/goldsaucer.mid.txt\n",
            "31đã load lại: /content/drive/.shortcut-targets-by-id/1tM9cmHbycv0M-AtDYBu9bQ0sv5sb4e6W/AI nhac viet/ai-music/midi_songs/pkelite4.mid.txt\n",
            "32đã load lại: /content/drive/.shortcut-targets-by-id/1tM9cmHbycv0M-AtDYBu9bQ0sv5sb4e6W/AI nhac viet/ai-music/midi_songs/relmstheme-piano.mid.txt\n",
            "33đã load lại: /content/drive/.shortcut-targets-by-id/1tM9cmHbycv0M-AtDYBu9bQ0sv5sb4e6W/AI nhac viet/ai-music/midi_songs/roseofmay-piano.mid.txt\n",
            "34đã load lại: /content/drive/.shortcut-targets-by-id/1tM9cmHbycv0M-AtDYBu9bQ0sv5sb4e6W/AI nhac viet/ai-music/midi_songs/rufus.mid.txt\n",
            "35đã load lại: /content/drive/.shortcut-targets-by-id/1tM9cmHbycv0M-AtDYBu9bQ0sv5sb4e6W/AI nhac viet/ai-music/midi_songs/sandy.mid.txt\n",
            "36đã load lại: /content/drive/.shortcut-targets-by-id/1tM9cmHbycv0M-AtDYBu9bQ0sv5sb4e6W/AI nhac viet/ai-music/midi_songs/thoughts.mid.txt\n",
            "37đã load lại: /content/drive/.shortcut-targets-by-id/1tM9cmHbycv0M-AtDYBu9bQ0sv5sb4e6W/AI nhac viet/ai-music/midi_songs/tifap.mid.txt\n",
            "38đã load lại: /content/drive/.shortcut-targets-by-id/1tM9cmHbycv0M-AtDYBu9bQ0sv5sb4e6W/AI nhac viet/ai-music/midi_songs/tpirtsd-piano.mid.txt\n",
            "39đã load lại: /content/drive/.shortcut-targets-by-id/1tM9cmHbycv0M-AtDYBu9bQ0sv5sb4e6W/AI nhac viet/ai-music/midi_songs/traitor.mid.txt\n",
            "40đã load lại: /content/drive/.shortcut-targets-by-id/1tM9cmHbycv0M-AtDYBu9bQ0sv5sb4e6W/AI nhac viet/ai-music/midi_songs/ultros.mid.txt\n",
            "41đã load lại: /content/drive/.shortcut-targets-by-id/1tM9cmHbycv0M-AtDYBu9bQ0sv5sb4e6W/AI nhac viet/ai-music/midi_songs/z_aeristhemepiano.mid.txt\n",
            "42đã load lại: /content/drive/.shortcut-targets-by-id/1tM9cmHbycv0M-AtDYBu9bQ0sv5sb4e6W/AI nhac viet/ai-music/midi_songs/midi Melody Of The Night/Melody Of The Night 1.mid.txt\n",
            "43đã load lại: /content/drive/.shortcut-targets-by-id/1tM9cmHbycv0M-AtDYBu9bQ0sv5sb4e6W/AI nhac viet/ai-music/midi_songs/midi Melody Of The Night/Melody Of The Night 10.mid.txt\n",
            "44đã load lại: /content/drive/.shortcut-targets-by-id/1tM9cmHbycv0M-AtDYBu9bQ0sv5sb4e6W/AI nhac viet/ai-music/midi_songs/midi Melody Of The Night/Melody Of The Night 11.mid.txt\n",
            "45đã load lại: /content/drive/.shortcut-targets-by-id/1tM9cmHbycv0M-AtDYBu9bQ0sv5sb4e6W/AI nhac viet/ai-music/midi_songs/midi Melody Of The Night/Melody Of The Night 12.mid.txt\n",
            "46đã load lại: /content/drive/.shortcut-targets-by-id/1tM9cmHbycv0M-AtDYBu9bQ0sv5sb4e6W/AI nhac viet/ai-music/midi_songs/midi Melody Of The Night/Melody Of The Night 13.mid.txt\n",
            "47đã load lại: /content/drive/.shortcut-targets-by-id/1tM9cmHbycv0M-AtDYBu9bQ0sv5sb4e6W/AI nhac viet/ai-music/midi_songs/midi Melody Of The Night/Melody Of The Night 14.mid.txt\n",
            "48đã load lại: /content/drive/.shortcut-targets-by-id/1tM9cmHbycv0M-AtDYBu9bQ0sv5sb4e6W/AI nhac viet/ai-music/midi_songs/midi Melody Of The Night/Melody Of The Night 15.mid.txt\n",
            "49đã load lại: /content/drive/.shortcut-targets-by-id/1tM9cmHbycv0M-AtDYBu9bQ0sv5sb4e6W/AI nhac viet/ai-music/midi_songs/midi Melody Of The Night/Melody Of The Night 16.mid.txt\n",
            "50đã load lại: /content/drive/.shortcut-targets-by-id/1tM9cmHbycv0M-AtDYBu9bQ0sv5sb4e6W/AI nhac viet/ai-music/midi_songs/midi Melody Of The Night/Melody Of The Night 17.mid.txt\n",
            "51đã load lại: /content/drive/.shortcut-targets-by-id/1tM9cmHbycv0M-AtDYBu9bQ0sv5sb4e6W/AI nhac viet/ai-music/midi_songs/midi Melody Of The Night/Melody Of The Night 18.mid.txt\n",
            "52đã load lại: /content/drive/.shortcut-targets-by-id/1tM9cmHbycv0M-AtDYBu9bQ0sv5sb4e6W/AI nhac viet/ai-music/midi_songs/midi Melody Of The Night/Melody Of The Night 19.mid.txt\n",
            "53đã load lại: /content/drive/.shortcut-targets-by-id/1tM9cmHbycv0M-AtDYBu9bQ0sv5sb4e6W/AI nhac viet/ai-music/midi_songs/midi Melody Of The Night/Melody Of The Night 2.mid.txt\n",
            "54đã load lại: /content/drive/.shortcut-targets-by-id/1tM9cmHbycv0M-AtDYBu9bQ0sv5sb4e6W/AI nhac viet/ai-music/midi_songs/midi Melody Of The Night/Melody Of The Night 20.mid.txt\n",
            "55đã load lại: /content/drive/.shortcut-targets-by-id/1tM9cmHbycv0M-AtDYBu9bQ0sv5sb4e6W/AI nhac viet/ai-music/midi_songs/midi Melody Of The Night/Melody Of The Night 21.mid.txt\n",
            "56đã load lại: /content/drive/.shortcut-targets-by-id/1tM9cmHbycv0M-AtDYBu9bQ0sv5sb4e6W/AI nhac viet/ai-music/midi_songs/midi Melody Of The Night/Melody Of The Night 22.mid.txt\n",
            "57đã load lại: /content/drive/.shortcut-targets-by-id/1tM9cmHbycv0M-AtDYBu9bQ0sv5sb4e6W/AI nhac viet/ai-music/midi_songs/midi Melody Of The Night/Melody Of The Night 23.mid.txt\n",
            "58đã load lại: /content/drive/.shortcut-targets-by-id/1tM9cmHbycv0M-AtDYBu9bQ0sv5sb4e6W/AI nhac viet/ai-music/midi_songs/midi Melody Of The Night/Melody Of The Night 24.mid.txt\n",
            "59đã load lại: /content/drive/.shortcut-targets-by-id/1tM9cmHbycv0M-AtDYBu9bQ0sv5sb4e6W/AI nhac viet/ai-music/midi_songs/midi Melody Of The Night/Melody Of The Night 25.mid.txt\n",
            "60đã load lại: /content/drive/.shortcut-targets-by-id/1tM9cmHbycv0M-AtDYBu9bQ0sv5sb4e6W/AI nhac viet/ai-music/midi_songs/midi Melody Of The Night/Melody Of The Night 26.mid.txt\n",
            "61đã load lại: /content/drive/.shortcut-targets-by-id/1tM9cmHbycv0M-AtDYBu9bQ0sv5sb4e6W/AI nhac viet/ai-music/midi_songs/midi Melody Of The Night/Melody Of The Night 27.mid.txt\n",
            "62đã load lại: /content/drive/.shortcut-targets-by-id/1tM9cmHbycv0M-AtDYBu9bQ0sv5sb4e6W/AI nhac viet/ai-music/midi_songs/midi Melody Of The Night/Melody Of The Night 28.mid.txt\n",
            "63đã load lại: /content/drive/.shortcut-targets-by-id/1tM9cmHbycv0M-AtDYBu9bQ0sv5sb4e6W/AI nhac viet/ai-music/midi_songs/midi Melody Of The Night/Melody Of The Night 29.mid.txt\n",
            "64đã load lại: /content/drive/.shortcut-targets-by-id/1tM9cmHbycv0M-AtDYBu9bQ0sv5sb4e6W/AI nhac viet/ai-music/midi_songs/midi Melody Of The Night/Melody Of The Night 3.mid.txt\n",
            "65đã load lại: /content/drive/.shortcut-targets-by-id/1tM9cmHbycv0M-AtDYBu9bQ0sv5sb4e6W/AI nhac viet/ai-music/midi_songs/midi Melody Of The Night/Melody Of The Night 30.mid.txt\n",
            "66đã load lại: /content/drive/.shortcut-targets-by-id/1tM9cmHbycv0M-AtDYBu9bQ0sv5sb4e6W/AI nhac viet/ai-music/midi_songs/midi Melody Of The Night/Melody Of The Night 31.mid.txt\n",
            "67đã load lại: /content/drive/.shortcut-targets-by-id/1tM9cmHbycv0M-AtDYBu9bQ0sv5sb4e6W/AI nhac viet/ai-music/midi_songs/midi Melody Of The Night/Melody Of The Night 4.mid.txt\n",
            "68đã load lại: /content/drive/.shortcut-targets-by-id/1tM9cmHbycv0M-AtDYBu9bQ0sv5sb4e6W/AI nhac viet/ai-music/midi_songs/midi Melody Of The Night/Melody Of The Night 5.mid.txt\n",
            "69đã load lại: /content/drive/.shortcut-targets-by-id/1tM9cmHbycv0M-AtDYBu9bQ0sv5sb4e6W/AI nhac viet/ai-music/midi_songs/midi Melody Of The Night/Melody Of The Night 6.mid.txt\n",
            "70đã load lại: /content/drive/.shortcut-targets-by-id/1tM9cmHbycv0M-AtDYBu9bQ0sv5sb4e6W/AI nhac viet/ai-music/midi_songs/midi Melody Of The Night/Melody Of The Night 7.mid.txt\n",
            "71đã load lại: /content/drive/.shortcut-targets-by-id/1tM9cmHbycv0M-AtDYBu9bQ0sv5sb4e6W/AI nhac viet/ai-music/midi_songs/midi Melody Of The Night/Melody Of The Night 8.mid.txt\n",
            "72đã load lại: /content/drive/.shortcut-targets-by-id/1tM9cmHbycv0M-AtDYBu9bQ0sv5sb4e6W/AI nhac viet/ai-music/midi_songs/midi Melody Of The Night/Melody Of The Night 9.mid.txt\n",
            "tìm thấy 1 file \n",
            "0đã load lại: /content/drive/.shortcut-targets-by-id/1tM9cmHbycv0M-AtDYBu9bQ0sv5sb4e6W/AI nhac viet/ai-music/midi_songs_val/balamb.mid.txt\n"
          ]
        }
      ]
    },
    {
      "cell_type": "code",
      "source": [
        "# q =2\n",
        "# for i,o in train_ds.take(3):\n",
        "#   pass\n",
        "# print(i) \n",
        "# print(o) "
      ],
      "metadata": {
        "id": "xjUmw6Z4c8Cm"
      },
      "execution_count": null,
      "outputs": []
    },
    {
      "cell_type": "code",
      "source": [
        "# generated1 = convert_goc.idxenc2stream(i[2].numpy(), vocab=created_vocab)\n",
        "# generated1.show('midi')\n",
        "# generated2 = convert_goc.idxenc2stream(o[2].numpy(), vocab=created_vocab)\n",
        "# generated2.show('midi')"
      ],
      "metadata": {
        "id": "aFkVep77bm4y"
      },
      "execution_count": null,
      "outputs": []
    },
    {
      "cell_type": "code",
      "source": [
        "# tf.data.Dataset.save(train_ds, f\"./dataset_MEGA_512_{batch_size}\")"
      ],
      "metadata": {
        "id": "ASmAxhhJ9GHR"
      },
      "execution_count": null,
      "outputs": []
    },
    {
      "cell_type": "markdown",
      "source": [
        "# build model và load checkpoint"
      ],
      "metadata": {
        "id": "ydcEYXifz3O8"
      }
    },
    {
      "cell_type": "code",
      "source": [
        "\n",
        "num_layers = 6\n",
        "d_model =   256\n",
        "dff = 512\n",
        "num_heads = 8\n",
        "dropout_rate = 0.3\n",
        "transformer_model = TransformerDecoder(\n",
        "        num_layers=num_layers,\n",
        "        d_model=d_model,\n",
        "        num_heads=num_heads,\n",
        "        dff=dff,\n",
        "        vocab_size=len(created_vocab),\n",
        "        pe_target=max_len,\n",
        "        rate=dropout_rate)\n",
        "\n",
        "# transformer_model = tf.saved_model.load('./code/save_model/decoder_only_smaller_1024_mega_ds_gh')\n",
        "\n",
        "learning_rate = transformer.CustomSchedule(d_model)\n",
        "\n",
        "optimizer = tf.keras.optimizers.Adam(learning_rate, beta_1=0.9, beta_2=0.98, epsilon=1e-9)\n",
        "\n",
        "train_loss = tf.keras.metrics.Mean(name='train_loss')\n",
        "train_accuracy = tf.keras.metrics.Mean(name='train_accuracy')\n",
        "\n",
        "val_loss = tf.keras.metrics.Mean(name='validation_loss')\n",
        "val_accuracy = tf.keras.metrics.Mean(name='validation_accuracy')\n",
        "\n",
        "checkpoint_path = \"./ai-music/ckpt/\"\n",
        "\n",
        "ckpt = tf.train.Checkpoint(transformer=transformer_model,\n",
        "                            optimizer=optimizer)\n",
        "\n",
        "ckpt_manager = tf.train.CheckpointManager(ckpt, checkpoint_path, max_to_keep=5)\n",
        "\n",
        "gen_tokens = convert_goc.midi2idxenc('./data_midi_hopam/midi_songs/MEGA/Melody Of The Night 21.mid', created_vocab, add_bos=True, add_eos=True)[:128]\n",
        "prev_train_loss = math.inf\n",
        "prev_val_loss = math.inf\n",
        "tf_generator = transformer.TransformerMusicGenerator(transformer_model, max_len)\n",
        "exporter = transformer.ExportMusicGenerator(tf_generator)\n",
        "\n",
        "\n",
        "train_step_signature = [\n",
        "    tf.TensorSpec(shape=(None, None), dtype=tf.int32),\n",
        "    tf.TensorSpec(shape=(None, None), dtype=tf.int32),\n",
        "]\n",
        "@tf.function(input_signature=train_step_signature)\n",
        "def train_step(inp, tar):\n",
        "    with tf.GradientTape() as tape:\n",
        "        predictions, _ = transformer_model(inp, training=True)\n",
        "        loss = transformer.loss_function(tar, predictions)\n",
        "\n",
        "    gradients = tape.gradient(loss, transformer_model.trainable_variables)\n",
        "    optimizer.apply_gradients(zip(gradients, transformer_model.trainable_variables))\n",
        "\n",
        "    train_loss(loss)\n",
        "    train_accuracy(transformer.accuracy_function(tar, predictions))"
      ],
      "metadata": {
        "colab": {
          "base_uri": "https://localhost:8080/"
        },
        "id": "k01dNrYY8ogT",
        "outputId": "1947aa84-5b17-4fe4-d7de-ead1eb8af4a1"
      },
      "execution_count": 6,
      "outputs": [
        {
          "output_type": "stream",
          "name": "stdout",
          "text": [
            "None: converted ./data_midi_hopam/midi_songs/MEGA/Melody Of The Night 21.mid to index encoding (1517 tokens)\n"
          ]
        },
        {
          "output_type": "stream",
          "name": "stderr",
          "text": [
            "/content/drive/.shortcut-targets-by-id/1tM9cmHbycv0M-AtDYBu9bQ0sv5sb4e6W/AI nhac viet/code/numpy_encode.py:103: StreamIteratorInefficientWarning: highestTime is not defined on StreamIterators. Call .stream() first for efficiency\n",
            "  highest_time = max(s.flat.getElementsByClass('Note').highestTime, s.flat.getElementsByClass('Chord').highestTime)\n"
          ]
        }
      ]
    },
    {
      "cell_type": "code",
      "source": [
        "if ckpt_manager.latest_checkpoint:\n",
        "    ckpt.restore(ckpt_manager.latest_checkpoint)\n",
        "    print('Latest checkpoint restored!!')\n",
        "    # tf_gen = TransformerMusicGenerator(transformer_model, max_len)\n",
        "    # exporter = ExportMusicGenerator(tf_gen)\n",
        "    # tokens_original = convert_goc.midi2idxenc('./data_midi_hopam/midi_songs/FF4.mid', created_vocab, add_bos=False, add_eos=False)[:256]\n",
        "    # generator = MusicGenerator(exporter)\n",
        "    # generator.save(fp='./code/save_model/decoder_only_smaller_1024_mega_ds')\n",
        "\n",
        "    # gen_len = 128\n",
        "    # generated = generator.extend_sequence(input_sequence=tokens_original, max_generate_len=gen_len)\n",
        "    # print(generated[-(gen_len + 2):])\n",
        "    # generated1 = convert_goc.idxenc2stream(tokens_original, vocab=created_vocab)\n",
        "    # generated1.show('midi')\n",
        "    # generated2 = convert_goc.idxenc2stream(generated.numpy(), vocab=created_vocab)\n",
        "    # generated2.show('midi')\n",
        "    # generated.write('midi', fp='../generated/generated_greed.mid')\n"
      ],
      "metadata": {
        "id": "O4w22wEFp6zL",
        "colab": {
          "base_uri": "https://localhost:8080/"
        },
        "outputId": "8258a26a-1d2b-4d65-ed83-84c2910b3f25"
      },
      "execution_count": 7,
      "outputs": [
        {
          "output_type": "stream",
          "name": "stdout",
          "text": [
            "Latest checkpoint restored!!\n"
          ]
        }
      ]
    },
    {
      "cell_type": "code",
      "source": [
        "p = 5\n",
        "for (batch, (val_inp, val_tar)) in enumerate(train_ds.take(90)):    \n",
        "    pass\n",
        "val_logits, _ = transformer_model(val_inp[:256], training=False)\n",
        "print(val_accuracy(transformer.accuracy_function(val_tar, val_logits)))\n",
        "\n",
        "next_token = tf.argmax(val_logits, axis=-1).numpy()\n",
        "# target = np.concatenate((val_inp.numpy()[p],val_inp[:120].numpy()[p]))\n",
        "predic = np.concatenate((val_inp.numpy()[p],next_token[p]))\n",
        "\n",
        "input_stream = convert_goc.idxenc2stream(val_inp.numpy()[p], vocab=created_vocab)\n",
        "input_stream.show('midi')\n",
        "target_stream = convert_goc.idxenc2stream(val_inp.numpy()[p][120:], vocab=created_vocab)\n",
        "target_stream.show('midi')\n",
        "input_stream = convert_goc.idxenc2stream(predic, vocab=created_vocab)\n",
        "input_stream.show('midi')"
      ],
      "metadata": {
        "colab": {
          "base_uri": "https://localhost:8080/",
          "height": 385
        },
        "id": "XCRB1pC2qlsp",
        "outputId": "be20ccf8-5520-4429-b5af-af63178b4dda"
      },
      "execution_count": 8,
      "outputs": [
        {
          "output_type": "stream",
          "name": "stdout",
          "text": [
            "tf.Tensor(0.98445183, shape=(), dtype=float32)\n"
          ]
        },
        {
          "output_type": "display_data",
          "data": {
            "text/plain": [
              "<IPython.core.display.HTML object>"
            ],
            "text/html": [
              "\n",
              "                <div id=\"midiPlayerDiv4429\"></div>\n",
              "                <link rel=\"stylesheet\" href=\"//cuthbertLab.github.io/music21j/css/m21.css\"\n",
              "                    type=\"text/css\" />\n",
              "                \n",
              "                    <script src=\"//cuthbertLab.github.io/music21j/ext/require/require.js\"\n",
              "                    ></script>\n",
              "                \n",
              "                <script>\n",
              "                require.config({\n",
              "                    paths: {'music21': '//cuthbertLab.github.io/music21j/src/music21'}\n",
              "                });\n",
              "                require(['music21'], function() {\n",
              "                               mp = new music21.miditools.MidiPlayer();\n",
              "                               mp.addPlayer(\"#midiPlayerDiv4429\");\n",
              "                               mp.base64Load(\"data:audio/midi;base64,TVRoZAAAAAYAAQACBABNVHJrAAAAGgD/UQMHoSAA/1kCAAAA/1gEBAIYCIgA/y8ATVRyawAABU8A/wMFUGlhbm8AwAAA4ABAAMAAiACQK1oAkEZahACAKwAAkDJahACARgAAgDIAAJA3WgCQSlqEAIA3AACQOlqEAIBKAACAOgAAkD5aAJBPWogAgD4AAIBPAACQKVoAkEVahACAKQAAkDBahACARQAAgDAAAJA1WgCQSlqEAIA1AACQOVqEAIBKAACAOQAAkDxaAJBRWogAgDwAAIBRAACQJ1oAkEZahACAJwAAkC5ahACARgAAgC4AAJAzWgCQSlqEAIAzAACQN1qEAIBKAACANwAAkDpaAJBSWogAgDoAAIBSAACQKVoAkFFahACAKQAAkDBahACAUQAAgDAAAJA1WgCQTVqEAIA1AACQOVqEAIBNAACAOQAAkDxaAJBPWogAgDwAAIBPAACQK1oAkEZahACAKwAAkDJahACARgAAgDIAAJA3WgCQSlqEAIA3AACQOlqEAIBKAACAOgAAkD5aAJBPWogAgD4AAIBPAACQKVoAkEVahACAKQAAkDBahACARQAAgDAAAJA1WgCQSlqEAIA1AACQOVqEAIBKAACAOQAAkDxaAJBRWogAgDwAAIBRAACQJ1oAkEZahACAJwAAkC5ahACARgAAgC4AAJAzWgCQT1qEAIAzAACQN1qEAIBPAACANwAAkDpaAJBSWogAgDoAAIBSAACQKVoAkFFahACAKQAAkDBahACAUQAAgDAAAJA1WgCQTVqEAIA1AACQOVqEAIBNAACAOQAAkE9aAJA8WoQAgE8AAJBRWoQAgDwAAIBRAACQK1oAkE9aAJBSWoQAgCsAAJAyWoQAgE8AAIBSAACAMgAAkDdaAJBSWgCQVlqEAIA3AACQOlqEAIBSAACAVgAAgDoAAJBUWgCQPlqEAIBUAACQUlqEAIA+AACAUgAAkClaAJBRWoQAgCkAAJAwWoQAgFEAAIAwAACQNVoAkE1ahACANQAAkDlahACATQAAgDkAAJBKWgCQPFqEAIBKAACQTVqEAIA8AACATQAAkCdaAJBKWoQAgCcAAIBKAACQLloAkEhahACALgAAgEgAAJAzWgCQRlqEAIAzAACARgAAkDdaAJBDWoQAgDcAAIBDAACQRloAkDpahACARgAAkEhahACAOgAAgEgAAJAuWgCQSlqEAIAuAACQNVqEAIA1AACQOlqEAIA6AACQPlqCAIBKAIIAgD4AAJBIWgCQQVqEAIBIAACQSlqEAIBBAACASgAAkDBaAJBLWoQAgDAAAJA3WoQAgEsAAIA3AACQPFoAkE9ahACAPAAAkD9ahACATwAAgD8AAJBNWgCQQ1qEAIBNAACQS1qEAIBDAACASwAAkDJaAJBKWoQAgDIAAJA5WoQAgEoAAIA5AACQPloAkEZahACAPgAAkEFahACARgAAgEEAAJBFWoQAkEZahACARQAAgEYAAJArWgCQQ1qEAIArAACQMlqEAIAyAACQN1qEAIA3AACQOVqEAIA5AACQOlqEAIA6AACQMlqCAIBDAIIAgDIAAJArWgCQQ1qEAIArAACAQwAAkDJaAJBFWoQAgDIAAIBFAACQN1oAkEZahACANwAAkDpahACAOgAAkD5ahACARgAAkEpaggCASgAAkE1aggCAPgAAgE0AAJAnWgCQT1qEAIAnAACQLlqEAIAuAACQM1qEAIBPAACAMwAAkE1aAJA3WoIAgE0AAJBPWoIAgDcAAIBPAACQUloAkDpahACAUgAAkE9ahACAOgAAgE8AAJApWgCQTVqEAIApAACATQAAkDBaAJBKWoQAgDAAAIBKAACQNVoAkEhahACANQAAgEgAiAD/LwA=\");\n",
              "                        });\n",
              "                </script>"
            ]
          },
          "metadata": {}
        },
        {
          "output_type": "display_data",
          "data": {
            "text/plain": [
              "<IPython.core.display.HTML object>"
            ],
            "text/html": [
              "\n",
              "                <div id=\"midiPlayerDiv5188\"></div>\n",
              "                <link rel=\"stylesheet\" href=\"//cuthbertLab.github.io/music21j/css/m21.css\"\n",
              "                    type=\"text/css\" />\n",
              "                \n",
              "                    <script src=\"//cuthbertLab.github.io/music21j/ext/require/require.js\"\n",
              "                    ></script>\n",
              "                \n",
              "                <script>\n",
              "                require.config({\n",
              "                    paths: {'music21': '//cuthbertLab.github.io/music21j/src/music21'}\n",
              "                });\n",
              "                require(['music21'], function() {\n",
              "                               mp = new music21.miditools.MidiPlayer();\n",
              "                               mp.addPlayer(\"#midiPlayerDiv5188\");\n",
              "                               mp.base64Load(\"data:audio/midi;base64,TVRoZAAAAAYAAQACBABNVHJrAAAAGgD/UQMHoSAA/1kCAAAA/1gEBAIYCIgA/y8ATVRyawAABBAA/wMFUGlhbm8AwAAA4ABAAMAAjACQOlqEAIA6AACQPloAkE9aiACAPgAAgE8AAJApWgCQRVqEAIApAACQMFqEAIBFAACAMAAAkDVaAJBKWoQAgDUAAJA5WoQAgEoAAIA5AACQPFoAkFFaiACAPAAAgFEAAJAnWgCQRlqEAIAnAACQLlqEAIBGAACALgAAkDNaAJBPWoQAgDMAAJA3WoQAgE8AAIA3AACQOloAkFJaiACAOgAAgFIAAJApWgCQUVqEAIApAACQMFqEAIBRAACAMAAAkDVaAJBNWoQAgDUAAJA5WoQAgE0AAIA5AACQT1oAkDxahACATwAAkFFahACAPAAAgFEAAJArWgCQT1oAkFJahACAKwAAkDJahACATwAAgFIAAIAyAACQN1oAkFJaAJBWWoQAgDcAAJA6WoQAgFIAAIBWAACAOgAAkFRaAJA+WoQAgFQAAJBSWoQAgD4AAIBSAACQKVoAkFFahACAKQAAkDBahACAUQAAgDAAAJA1WgCQTVqEAIA1AACQOVqEAIBNAACAOQAAkEpaAJA8WoQAgEoAAJBNWoQAgDwAAIBNAACQJ1oAkEpahACAJwAAgEoAAJAuWgCQSFqEAIAuAACASAAAkDNaAJBGWoQAgDMAAIBGAACQN1oAkENahACANwAAgEMAAJBGWgCQOlqEAIBGAACQSFqEAIA6AACASAAAkC5aAJBKWoQAgC4AAJA1WoQAgDUAAJA6WoQAgDoAAJA+WoIAgEoAggCAPgAAkEhaAJBBWoQAgEgAAJBKWoQAgEEAAIBKAACQMFoAkEtahACAMAAAkDdahACASwAAgDcAAJA8WgCQT1qEAIA8AACQP1qEAIBPAACAPwAAkE1aAJBDWoQAgE0AAJBLWoQAgEMAAIBLAACQMloAkEpahACAMgAAkDlahACASgAAgDkAAJA+WgCQRlqEAIA+AACQQVqEAIBGAACAQQAAkEVahACQRlqEAIBFAACARgAAkCtaAJBDWoQAgCsAAJAyWoQAgDIAAJA3WoQAgDcAAJA5WoQAgDkAAJA6WoQAgDoAAJAyWoIAgEMAggCAMgAAkCtaAJBDWoQAgCsAAIBDAACQMloAkEVahACAMgAAgEUAAJA3WgCQRlqEAIA3AACQOlqEAIA6AACQPlqEAIBGAACQSlqCAIBKAACQTVqCAIA+AACATQAAkCdaAJBPWoQAgCcAAJAuWoQAgC4AAJAzWoQAgE8AAIAzAACQTVoAkDdaggCATQAAkE9aggCANwAAgE8AAJBSWgCQOlqEAIBSAACQT1qEAIA6AACATwAAkClaAJBNWoQAgCkAAIBNAACQMFoAkEpahACAMAAAgEoAAJA1WgCQSFqEAIA1AACASACIAP8vAA==\");\n",
              "                        });\n",
              "                </script>"
            ]
          },
          "metadata": {}
        },
        {
          "output_type": "display_data",
          "data": {
            "text/plain": [
              "<IPython.core.display.HTML object>"
            ],
            "text/html": [
              "\n",
              "                <div id=\"midiPlayerDiv7046\"></div>\n",
              "                <link rel=\"stylesheet\" href=\"//cuthbertLab.github.io/music21j/css/m21.css\"\n",
              "                    type=\"text/css\" />\n",
              "                \n",
              "                    <script src=\"//cuthbertLab.github.io/music21j/ext/require/require.js\"\n",
              "                    ></script>\n",
              "                \n",
              "                <script>\n",
              "                require.config({\n",
              "                    paths: {'music21': '//cuthbertLab.github.io/music21j/src/music21'}\n",
              "                });\n",
              "                require(['music21'], function() {\n",
              "                               mp = new music21.miditools.MidiPlayer();\n",
              "                               mp.addPlayer(\"#midiPlayerDiv7046\");\n",
              "                               mp.base64Load(\"data:audio/midi;base64,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\");\n",
              "                        });\n",
              "                </script>"
            ]
          },
          "metadata": {}
        }
      ]
    },
    {
      "cell_type": "markdown",
      "source": [
        "## Train"
      ],
      "metadata": {
        "id": "FQ13R9MDkhUC"
      }
    },
    {
      "cell_type": "code",
      "source": [
        "#@title plot loss acc\n",
        "import matplotlib.pyplot as plt\n",
        "def plot_loss_acc(df):\n",
        "    # Vẽ b  iểu đồ epoch vs. loss\n",
        "    plt.plot(df['Epoch'], df['Loss'], label='Training Loss')\n",
        "    plt.plot(df['Epoch'], df['Loss val'], label='Validation Loss')\n",
        "    plt.xlabel('Epoch')\n",
        "    plt.ylabel('Loss')\n",
        "    plt.legend()\n",
        "    plt.show()\n",
        "\n",
        "    # Vẽ biểu đồ epoch vs. accuracy\n",
        "    plt.plot(df['Epoch'], df['Accuracy'], label='Training Accuracy')\n",
        "    plt.plot(df['Epoch'], df['Accuracy val'], label='Validation Accuracy')\n",
        "    plt.xlabel('Epoch')\n",
        "    plt.ylabel('Accuracy')\n",
        "    plt.legend()\n",
        "    plt.show()\n",
        "\n",
        "    # Vẽ biểu đồ loss vs. accuracy\n",
        "    plt.plot(df['Loss'], df['Accuracy'], label='Training')\n",
        "    plt.plot(df['Loss val'], df['Accuracy val'], label='Validation')\n",
        "    plt.xlabel('Loss')\n",
        "    plt.ylabel('Accuracy')\n",
        "    plt.legend()\n",
        "    plt.show()\n",
        "\n",
        "    # Vẽ biểu đồ epoch vs. loss và accuracy\n",
        "    fig, ax1 = plt.subplots()\n",
        "\n",
        "    color = 'tab:red'\n",
        "    ax1.set_xlabel('Epoch')\n",
        "    ax1.set_ylabel('Loss')\n",
        "    ax1.plot(df['Epoch'], df['Loss'], color=color, label='Training Loss')\n",
        "    ax1.plot(df['Epoch'], df['Loss val'], color=color, linestyle='dashed', label='Validation Loss')\n",
        "    ax1.tick_params(axis='y', labelcolor=color)\n",
        "    ax1.legend(loc='upper left')\n",
        "\n",
        "    ax2 = ax1.twinx()  # Tạo trục thứ hai\n",
        "    color = 'tab:blue'\n",
        "    ax2.set_ylabel('Accuracy')\n",
        "    ax2.plot(df['Epoch'], df['Accuracy'], color=color, label='Training Accuracy')\n",
        "    ax2.plot(df['Epoch'], df['Accuracy val'], color=color, linestyle='dashed', label='Validation Accuracy')\n",
        "    ax2.tick_params(axis='y', labelcolor=color)\n",
        "    ax2.legend(loc='upper right')\n",
        "\n",
        "    plt.show()"
      ],
      "metadata": {
        "cellView": "form",
        "id": "pZBDnwrthd7_"
      },
      "execution_count": 9,
      "outputs": []
    },
    {
      "cell_type": "code",
      "source": [
        "import re\n",
        "history_path = './ai-music/history_512_df.csv'\n",
        "print('load history!')\n",
        "history = pd.read_csv(history_path, index_col=False)\n",
        "# plot_loss_acc(history)\n",
        "def chuyen_history_loi(df):\n",
        "    # Kiểm tra kết quả\n",
        "    df = history\n",
        "\n",
        "    # Trích xuất giá trị số từ cột Epoch\n",
        "    df['Epoch'] = df['Epoch'].apply(lambda x: int(re.findall(r'\\d+', x)[0]))\n",
        "\n",
        "    # Trích xuất giá trị số từ các cột còn lại\n",
        "    regex = r'(\\d+(\\.\\d+)?)'\n",
        "    for col in df.columns[1:]:\n",
        "        df[col] = df[col].apply(lambda x: float(re.findall(regex, x)[0][0]))\n",
        "    return df\n",
        "\n",
        "# Kiểm tra kết quả\n",
        "# history = chuyen_history_loi(history)\n",
        "print(history)\n",
        "plot_loss_acc(history)\n",
        "# history.to_csv(history_path, index=False)\n"
      ],
      "metadata": {
        "id": "MZsRvg2Yg0L1",
        "colab": {
          "base_uri": "https://localhost:8080/",
          "height": 1000
        },
        "outputId": "af722c04-75c1-483c-900a-8927fff5edea"
      },
      "execution_count": 10,
      "outputs": [
        {
          "output_type": "stream",
          "name": "stdout",
          "text": [
            "load history!\n",
            "     Epoch  Loss val  Accuracy val      Loss  Accuracy\n",
            "0      1.0  3.563023      0.303163  4.789773  0.173388\n",
            "1      2.0  3.246876      0.347241  3.520590  0.295426\n",
            "2      3.0  2.952721      0.401571  2.944909  0.423248\n",
            "3      4.0  2.780214      0.425357  2.502471  0.479996\n",
            "4      5.0  2.672300      0.439460  2.378871  0.484096\n",
            "..     ...       ...           ...       ...       ...\n",
            "268  269.0  6.648611      0.282396  0.212895  0.930209\n",
            "269  270.0  6.655656      0.282422  0.215392  0.929782\n",
            "270  271.0  6.662836      0.282475  0.211069  0.930980\n",
            "271  272.0  6.669478      0.282572  0.208832  0.931884\n",
            "272  273.0  6.676002      0.282579  0.210975  0.931000\n",
            "\n",
            "[273 rows x 5 columns]\n"
          ]
        },
        {
          "output_type": "display_data",
          "data": {
            "text/plain": [
              "<Figure size 640x480 with 1 Axes>"
            ],
            "image/png": "[encoded data removed]"
          },
          "metadata": {
            "image/png": {
              "width": 554,
              "height": 432
            }
          }
        },
        {
          "output_type": "display_data",
          "data": {
            "text/plain": [
              "<Figure size 640x480 with 1 Axes>"
            ],
            "image/png": "[encoded data removed]"
          },
          "metadata": {
            "image/png": {
              "width": 567,
              "height": 432
            }
          }
        },
        {
          "output_type": "display_data",
          "data": {
            "text/plain": [
              "<Figure size 640x480 with 1 Axes>"
            ],
            "image/png": "[encoded data removed]"
          },
          "metadata": {
            "image/png": {
              "width": 567,
              "height": 432
            }
          }
        },
        {
          "output_type": "display_data",
          "data": {
            "text/plain": [
              "<Figure size 640x480 with 2 Axes>"
            ],
            "image/png": "[encoded data removed]"
          },
          "metadata": {
            "image/png": {
              "width": 605,
              "height": 432
            }
          }
        }
      ]
    },
    {
      "cell_type": "code",
      "source": [
        "\n",
        "# làm rỗng history\n",
        "# col = {'Epoch': [],\n",
        "#         'Loss val': [],\n",
        "#         'Accuracy val': [],\n",
        "#         'Loss': [],\n",
        "#         'Accuracy': []}\n",
        "# history_path = './history_MEGA_512_df.csv'\n",
        "# history = pd.DataFrame(col)\n",
        "# history.to_csv(history_path, index=False)"
      ],
      "metadata": {
        "id": "OfHvGh45x-ne"
      },
      "execution_count": null,
      "outputs": []
    },
    {
      "cell_type": "code",
      "source": [
        "\n",
        "import warnings\n",
        "warnings.filterwarnings('ignore', message='The frame.append method is deprecated and will be removed from pandas in a future version. Use pandas.concat instead.')\n",
        "\n",
        "\n",
        "col = {'Epoch': [],\n",
        "        'Loss val': [],\n",
        "        'Accuracy val': [],\n",
        "        'Loss': [],\n",
        "        'Accuracy': []}\n",
        "# history_path = './history_MEGA_512_df.csv'\n",
        "\n",
        "\n",
        "if os.path.isfile(history_path):\n",
        "    print('load history!')\n",
        "    history = pd.read_csv(history_path, index_col=False)\n",
        "else:\n",
        "    print('tạo df history!')\n",
        "    history = pd.DataFrame(col)\n",
        "\n",
        "\n",
        "EPOCHS = 150\n",
        "if len(history['Epoch'])>0:\n",
        "  max_epoch = history['Epoch'].max()\n",
        "else:\n",
        "  max_epoch = 0\n",
        "print(f\"băt đầu lại từ epoch{max_epoch+1}\")\n",
        "for epoch in range((int(max_epoch)),int(max_epoch+EPOCHS),1):\n",
        "        start = time.time()\n",
        "        train_loss.reset_states()\n",
        "        train_accuracy.reset_states()\n",
        "\n",
        "        # inp -> seq, tar -> seq(shifted +1)\n",
        "        for (batch, (train_inp, train_tar)) in tqdm(enumerate(train_ds), total = len(train_ds)):\n",
        "            \n",
        "            train_start = time.time()\n",
        "            train_step(train_inp, train_tar)\n",
        "            train_time = time.time() - train_start\n",
        "            # if batch % 5 == 0:\n",
        "            train_loss_batch = train_loss.result()\n",
        "            train_accuracy_batch = train_accuracy.result()\n",
        "            if batch %30 ==0 :\n",
        "                print(\n",
        "                    f'Epoch {epoch + 1} Batch {batch} Loss {train_loss_batch:.4f} Accuracy {train_accuracy_batch:.4f}')\n",
        "            # description = f\"Epoch {epoch + 1} | Loss: {train_loss_batch:.4f} | Acc: {train_accuracy_batch:.4f}\"\n",
        "            # tqdm.write(description)\n",
        "\n",
        "            # tqdm.set_description(description, refresh=True)\n",
        "\n",
        "        # Run a validation loop at the end of each epoch.\n",
        "        for (batch, (val_inp, val_tar)) in enumerate(val_ds):\n",
        "            val_logits, _ = transformer_model(val_inp, training=False)\n",
        "            # Update val metrics\n",
        "            val_loss_calc = transformer.loss_function(val_tar, val_logits)\n",
        "            val_loss(val_loss_calc)\n",
        "            val_accuracy(transformer.accuracy_function(val_tar, val_logits))\n",
        "        val_acc_res = val_accuracy.result()\n",
        "        val_loss_res = val_loss.result()\n",
        "\n",
        "        train_loss_epoch = train_loss.result()\n",
        "        train_accuracy_epoch = train_accuracy.result()\n",
        "        print(f'Epoch {epoch + 1}: Loss {train_loss_epoch:.4f}, Valiation loss {val_loss_res:.4f}, Accuracy {train_accuracy_epoch:.4f}, Valiation accuracy {val_acc_res:.4f}')\n",
        "        step = {'Epoch': int(epoch) + 1,\n",
        "                'Loss val': val_loss_res.numpy(),\n",
        "                'Accuracy val': val_acc_res.numpy(),\n",
        "                'Loss': train_loss_epoch.numpy(),\n",
        "                'Accuracy': train_accuracy_epoch.numpy()}\n",
        "\n",
        "        history = history.append(step, ignore_index=True)\n",
        "        history.to_csv(history_path, index=False)\n",
        "        print(\"đã lưu lại history !\")\n",
        "\n",
        "        print(f'Time taken for 1 epoch: {time.time() - start:.2f} secs')\n",
        "        if (epoch + 1) % 5 == 0:\n",
        "            if train_loss_epoch < prev_train_loss or val_loss_res < prev_val_loss:\n",
        "                print(f'#####################{prev_train_loss:.4f} -> {train_loss_epoch:.4f}')\n",
        "                prev_train_loss = train_loss_epoch\n",
        "                prev_val_loss = val_loss_res\n",
        "                gen_time_start = time.time()\n",
        "                gen = tf_generator.iterative_search(tf.convert_to_tensor(gen_tokens), 32, True, 0, 0, 0, 1.0)[0]\n",
        "                gen_time = time.time() - gen_time_start\n",
        "                # Print the 4 last tokens in the generation input as well to check if the output makes sense\n",
        "                print(f'generated({gen_time:.4f}):\\n{gen[-36:]}\\n')\n",
        "                stream = convert_goc.idxenc2stream(gen.numpy(), created_vocab)\n",
        "                stream.show('midi')\n",
        "                stream.write('midi', fp='./generated_greed.mid')\n",
        "                ckpt_save_path = ckpt_manager.save()\n",
        "                print(f'Saving checkpoint for epoch {epoch + 1} at {ckpt_save_path}')\n",
        "        if train_accuracy_epoch > 0.95:\n",
        "            ckpt_save_path = ckpt_manager.save()\n",
        "            print(f'break and Saving checkpoint for epoch {epoch + 1} at {ckpt_save_path}')\n",
        "            break;"
      ],
      "metadata": {
        "id": "ktjGHDEi-tZr",
        "colab": {
          "base_uri": "https://localhost:8080/",
          "height": 1000
        },
        "outputId": "c51a9b24-2834-42f7-abde-0f8371363f85"
      },
      "execution_count": null,
      "outputs": [
        {
          "output_type": "stream",
          "name": "stdout",
          "text": [
            "load history!\n",
            "băt đầu lại từ epoch152.0\n"
          ]
        },
        {
          "output_type": "stream",
          "name": "stderr",
          "text": [
            "  1%|▏         | 1/78 [00:26<34:15, 26.70s/it]"
          ]
        },
        {
          "output_type": "stream",
          "name": "stdout",
          "text": [
            "Epoch 152 Batch 0 Loss 0.5989 Accuracy 0.8046\n"
          ]
        },
        {
          "output_type": "stream",
          "name": "stderr",
          "text": [
            " 40%|███▉      | 31/78 [00:40<00:23,  1.98it/s]"
          ]
        },
        {
          "output_type": "stream",
          "name": "stdout",
          "text": [
            "Epoch 152 Batch 30 Loss 0.6146 Accuracy 0.7972\n"
          ]
        },
        {
          "output_type": "stream",
          "name": "stderr",
          "text": [
            " 79%|███████▉  | 62/78 [00:53<00:06,  2.44it/s]"
          ]
        },
        {
          "output_type": "stream",
          "name": "stdout",
          "text": [
            "Epoch 152 Batch 60 Loss 0.5621 Accuracy 0.8143\n"
          ]
        },
        {
          "output_type": "stream",
          "name": "stderr",
          "text": [
            "100%|██████████| 78/78 [01:01<00:00,  1.28it/s]\n"
          ]
        },
        {
          "output_type": "stream",
          "name": "stdout",
          "text": [
            "Epoch 152: Loss 0.5419, Valiation loss 5.6287, Accuracy 0.8211, Valiation accuracy 0.2865\n",
            "đã lưu lại history !\n",
            "Time taken for 1 epoch: 61.80 secs\n"
          ]
        },
        {
          "output_type": "stream",
          "name": "stderr",
          "text": [
            "  1%|▏         | 1/78 [00:00<00:34,  2.23it/s]"
          ]
        },
        {
          "output_type": "stream",
          "name": "stdout",
          "text": [
            "Epoch 153 Batch 0 Loss 0.5870 Accuracy 0.8062\n"
          ]
        },
        {
          "output_type": "stream",
          "name": "stderr",
          "text": [
            " 40%|███▉      | 31/78 [00:13<00:24,  1.92it/s]"
          ]
        },
        {
          "output_type": "stream",
          "name": "stdout",
          "text": [
            "Epoch 153 Batch 30 Loss 0.5966 Accuracy 0.8035\n"
          ]
        },
        {
          "output_type": "stream",
          "name": "stderr",
          "text": [
            " 78%|███████▊  | 61/78 [00:27<00:08,  1.90it/s]"
          ]
        },
        {
          "output_type": "stream",
          "name": "stdout",
          "text": [
            "Epoch 153 Batch 60 Loss 0.5480 Accuracy 0.8190\n"
          ]
        },
        {
          "output_type": "stream",
          "name": "stderr",
          "text": [
            "100%|██████████| 78/78 [00:35<00:00,  2.23it/s]\n"
          ]
        },
        {
          "output_type": "stream",
          "name": "stdout",
          "text": [
            "Epoch 153: Loss 0.5299, Valiation loss 5.6162, Accuracy 0.8249, Valiation accuracy 0.2835\n",
            "đã lưu lại history !\n",
            "Time taken for 1 epoch: 36.61 secs\n"
          ]
        },
        {
          "output_type": "stream",
          "name": "stderr",
          "text": [
            "  1%|▏         | 1/78 [00:00<00:36,  2.12it/s]"
          ]
        },
        {
          "output_type": "stream",
          "name": "stdout",
          "text": [
            "Epoch 154 Batch 0 Loss 0.5749 Accuracy 0.8137\n"
          ]
        },
        {
          "output_type": "stream",
          "name": "stderr",
          "text": [
            " 40%|███▉      | 31/78 [00:14<00:25,  1.87it/s]"
          ]
        },
        {
          "output_type": "stream",
          "name": "stdout",
          "text": [
            "Epoch 154 Batch 30 Loss 0.5925 Accuracy 0.8039\n"
          ]
        },
        {
          "output_type": "stream",
          "name": "stderr",
          "text": [
            " 78%|███████▊  | 61/78 [00:27<00:09,  1.88it/s]"
          ]
        },
        {
          "output_type": "stream",
          "name": "stdout",
          "text": [
            "Epoch 154 Batch 60 Loss 0.5478 Accuracy 0.8189\n"
          ]
        },
        {
          "output_type": "stream",
          "name": "stderr",
          "text": [
            "100%|██████████| 78/78 [00:35<00:00,  2.21it/s]\n"
          ]
        },
        {
          "output_type": "stream",
          "name": "stdout",
          "text": [
            "Epoch 154: Loss 0.5277, Valiation loss 5.6191, Accuracy 0.8256, Valiation accuracy 0.2862\n",
            "đã lưu lại history !\n",
            "Time taken for 1 epoch: 41.38 secs\n"
          ]
        },
        {
          "output_type": "stream",
          "name": "stderr",
          "text": [
            "  1%|▏         | 1/78 [00:00<00:35,  2.20it/s]"
          ]
        },
        {
          "output_type": "stream",
          "name": "stdout",
          "text": [
            "Epoch 155 Batch 0 Loss 0.5304 Accuracy 0.8219\n"
          ]
        },
        {
          "output_type": "stream",
          "name": "stderr",
          "text": [
            " 40%|███▉      | 31/78 [00:14<00:25,  1.87it/s]"
          ]
        },
        {
          "output_type": "stream",
          "name": "stdout",
          "text": [
            "Epoch 155 Batch 30 Loss 0.5913 Accuracy 0.8043\n"
          ]
        },
        {
          "output_type": "stream",
          "name": "stderr",
          "text": [
            " 78%|███████▊  | 61/78 [00:27<00:09,  1.87it/s]"
          ]
        },
        {
          "output_type": "stream",
          "name": "stdout",
          "text": [
            "Epoch 155 Batch 60 Loss 0.5386 Accuracy 0.8218\n"
          ]
        },
        {
          "output_type": "stream",
          "name": "stderr",
          "text": [
            "100%|██████████| 78/78 [00:35<00:00,  2.20it/s]\n"
          ]
        },
        {
          "output_type": "stream",
          "name": "stdout",
          "text": [
            "Epoch 155: Loss 0.5201, Valiation loss 5.6303, Accuracy 0.8279, Valiation accuracy 0.2835\n",
            "đã lưu lại history !\n",
            "Time taken for 1 epoch: 36.20 secs\n",
            "#####################inf -> 0.5201\n",
            "generated(4.0377):\n",
            "[  3 136  73 134 134 134 134 134 134 134 134 134 134 134 134 134 134 134\n",
            " 134 134 134 134 134 134 134 134 134 134 134 136 136 134 134 134 134 134]\n",
            "\n",
            "Non midi note detected. Only returning valid portion. Index, seed 63 (79, 2)\n"
          ]
        },
        {
          "output_type": "display_data",
          "data": {
            "text/plain": [
              "<IPython.core.display.HTML object>"
            ],
            "text/html": [
              "\n",
              "                <div id=\"midiPlayerDiv110269\"></div>\n",
              "                <link rel=\"stylesheet\" href=\"//cuthbertLab.github.io/music21j/css/m21.css\"\n",
              "                    type=\"text/css\" />\n",
              "                \n",
              "                    <script src=\"//cuthbertLab.github.io/music21j/ext/require/require.js\"\n",
              "                    ></script>\n",
              "                \n",
              "                <script>\n",
              "                require.config({\n",
              "                    paths: {'music21': '//cuthbertLab.github.io/music21j/src/music21'}\n",
              "                });\n",
              "                require(['music21'], function() {\n",
              "                               mp = new music21.miditools.MidiPlayer();\n",
              "                               mp.addPlayer(\"#midiPlayerDiv110269\");\n",
              "                               mp.base64Load(\"data:audio/midi;base64,TVRoZAAAAAYAAQACBABNVHJrAAAAGgD/UQMHoSAA/1kCAAAA/1gEBAIYCIgA/y8ATVRyawAAAUcA/wMFUGlhbm8AwAAA4ABAAMAApACQU1qCAIBTAACQVFqCAIBUAACQQVoAkFNahACAQQAAkEhahACASAAAkExahACAUwAAkFFajACAUQAAkFhaiACATAAAgFgAAJBBWgCQU1qEAIBBAACQSFqEAIBIAACQTFqEAIBTAACQUVqQAIBRAACQU1qCAIBTAACQVFqCAIBMAACAVAAAkEBaAJBTWoQAgEAAAJBHWoQAgEcAAJBKWoQAgFMAAJBPWowAgE8AAJBbWogAgEoAAIBbAACQQFoAkFNahACAQAAAkEdahACARwAAkEpahACAUwAAkE9akACATwAAkEpaggCASgAAkExaggCASgAAgEwAAJA+WgCQTVqEAIA+AACQRVqEAIBFAACQSFqEAIBIAACQSlqIAIBKAACQRVqEAIBFAIQAgE0AiAD/LwA=\");\n",
              "                        });\n",
              "                </script>"
            ]
          },
          "metadata": {}
        },
        {
          "output_type": "stream",
          "name": "stdout",
          "text": [
            "Saving checkpoint for epoch 155 at ./ai-music/ckpt/ckpt-33\n"
          ]
        },
        {
          "output_type": "stream",
          "name": "stderr",
          "text": [
            "  1%|▏         | 1/78 [00:00<00:39,  1.94it/s]"
          ]
        },
        {
          "output_type": "stream",
          "name": "stdout",
          "text": [
            "Epoch 156 Batch 0 Loss 0.5781 Accuracy 0.8103\n"
          ]
        },
        {
          "output_type": "stream",
          "name": "stderr",
          "text": [
            " 40%|███▉      | 31/78 [00:14<00:25,  1.86it/s]"
          ]
        },
        {
          "output_type": "stream",
          "name": "stdout",
          "text": [
            "Epoch 156 Batch 30 Loss 0.5836 Accuracy 0.8074\n"
          ]
        },
        {
          "output_type": "stream",
          "name": "stderr",
          "text": [
            " 78%|███████▊  | 61/78 [00:28<00:09,  1.86it/s]"
          ]
        },
        {
          "output_type": "stream",
          "name": "stdout",
          "text": [
            "Epoch 156 Batch 60 Loss 0.5349 Accuracy 0.8234\n"
          ]
        },
        {
          "output_type": "stream",
          "name": "stderr",
          "text": [
            "100%|██████████| 78/78 [00:35<00:00,  2.18it/s]\n"
          ]
        },
        {
          "output_type": "stream",
          "name": "stdout",
          "text": [
            "Epoch 156: Loss 0.5154, Valiation loss 5.6566, Accuracy 0.8297, Valiation accuracy 0.2842\n",
            "đã lưu lại history !\n",
            "Time taken for 1 epoch: 41.60 secs\n"
          ]
        },
        {
          "output_type": "stream",
          "name": "stderr",
          "text": [
            "  1%|▏         | 1/78 [00:00<00:35,  2.18it/s]"
          ]
        },
        {
          "output_type": "stream",
          "name": "stdout",
          "text": [
            "Epoch 157 Batch 0 Loss 0.5823 Accuracy 0.8086\n"
          ]
        },
        {
          "output_type": "stream",
          "name": "stderr",
          "text": [
            " 40%|███▉      | 31/78 [00:14<00:25,  1.86it/s]"
          ]
        },
        {
          "output_type": "stream",
          "name": "stdout",
          "text": [
            "Epoch 157 Batch 30 Loss 0.5845 Accuracy 0.8077\n"
          ]
        },
        {
          "output_type": "stream",
          "name": "stderr",
          "text": [
            " 78%|███████▊  | 61/78 [00:28<00:09,  1.85it/s]"
          ]
        },
        {
          "output_type": "stream",
          "name": "stdout",
          "text": [
            "Epoch 157 Batch 60 Loss 0.5286 Accuracy 0.8255\n"
          ]
        },
        {
          "output_type": "stream",
          "name": "stderr",
          "text": [
            "100%|██████████| 78/78 [00:35<00:00,  2.17it/s]\n"
          ]
        },
        {
          "output_type": "stream",
          "name": "stdout",
          "text": [
            "Epoch 157: Loss 0.5115, Valiation loss 5.6506, Accuracy 0.8310, Valiation accuracy 0.2851\n",
            "đã lưu lại history !\n",
            "Time taken for 1 epoch: 36.42 secs\n"
          ]
        },
        {
          "output_type": "stream",
          "name": "stderr",
          "text": [
            "  1%|▏         | 1/78 [00:00<00:35,  2.15it/s]"
          ]
        },
        {
          "output_type": "stream",
          "name": "stdout",
          "text": [
            "Epoch 158 Batch 0 Loss 0.5777 Accuracy 0.8092\n"
          ]
        },
        {
          "output_type": "stream",
          "name": "stderr",
          "text": [
            " 40%|███▉      | 31/78 [00:14<00:25,  1.84it/s]"
          ]
        },
        {
          "output_type": "stream",
          "name": "stdout",
          "text": [
            "Epoch 158 Batch 30 Loss 0.5649 Accuracy 0.8124\n"
          ]
        },
        {
          "output_type": "stream",
          "name": "stderr",
          "text": [
            " 78%|███████▊  | 61/78 [00:28<00:09,  1.84it/s]"
          ]
        },
        {
          "output_type": "stream",
          "name": "stdout",
          "text": [
            "Epoch 158 Batch 60 Loss 0.5183 Accuracy 0.8281\n"
          ]
        },
        {
          "output_type": "stream",
          "name": "stderr",
          "text": [
            "100%|██████████| 78/78 [00:36<00:00,  2.16it/s]\n"
          ]
        },
        {
          "output_type": "stream",
          "name": "stdout",
          "text": [
            "Epoch 158: Loss 0.5003, Valiation loss 5.6609, Accuracy 0.8341, Valiation accuracy 0.2846\n",
            "đã lưu lại history !\n",
            "Time taken for 1 epoch: 41.37 secs\n"
          ]
        },
        {
          "output_type": "stream",
          "name": "stderr",
          "text": [
            "  1%|▏         | 1/78 [00:00<00:35,  2.17it/s]"
          ]
        },
        {
          "output_type": "stream",
          "name": "stdout",
          "text": [
            "Epoch 159 Batch 0 Loss 0.5261 Accuracy 0.8276\n"
          ]
        },
        {
          "output_type": "stream",
          "name": "stderr",
          "text": [
            " 40%|███▉      | 31/78 [00:14<00:25,  1.84it/s]"
          ]
        },
        {
          "output_type": "stream",
          "name": "stdout",
          "text": [
            "Epoch 159 Batch 30 Loss 0.5551 Accuracy 0.8159\n"
          ]
        },
        {
          "output_type": "stream",
          "name": "stderr",
          "text": [
            " 78%|███████▊  | 61/78 [00:28<00:09,  1.85it/s]"
          ]
        },
        {
          "output_type": "stream",
          "name": "stdout",
          "text": [
            "Epoch 159 Batch 60 Loss 0.5092 Accuracy 0.8315\n"
          ]
        },
        {
          "output_type": "stream",
          "name": "stderr",
          "text": [
            "100%|██████████| 78/78 [00:36<00:00,  2.16it/s]\n"
          ]
        },
        {
          "output_type": "stream",
          "name": "stdout",
          "text": [
            "Epoch 159: Loss 0.4921, Valiation loss 5.6737, Accuracy 0.8371, Valiation accuracy 0.2845\n",
            "đã lưu lại history !\n",
            "Time taken for 1 epoch: 36.74 secs\n"
          ]
        },
        {
          "output_type": "stream",
          "name": "stderr",
          "text": [
            "  1%|▏         | 1/78 [00:00<00:36,  2.10it/s]"
          ]
        },
        {
          "output_type": "stream",
          "name": "stdout",
          "text": [
            "Epoch 160 Batch 0 Loss 0.5624 Accuracy 0.8149\n"
          ]
        },
        {
          "output_type": "stream",
          "name": "stderr",
          "text": [
            " 40%|███▉      | 31/78 [00:14<00:25,  1.83it/s]"
          ]
        },
        {
          "output_type": "stream",
          "name": "stdout",
          "text": [
            "Epoch 160 Batch 30 Loss 0.5587 Accuracy 0.8150\n"
          ]
        },
        {
          "output_type": "stream",
          "name": "stderr",
          "text": [
            " 78%|███████▊  | 61/78 [00:28<00:09,  1.82it/s]"
          ]
        },
        {
          "output_type": "stream",
          "name": "stdout",
          "text": [
            "Epoch 160 Batch 60 Loss 0.5097 Accuracy 0.8310\n"
          ]
        },
        {
          "output_type": "stream",
          "name": "stderr",
          "text": [
            "100%|██████████| 78/78 [00:36<00:00,  2.15it/s]\n"
          ]
        },
        {
          "output_type": "stream",
          "name": "stdout",
          "text": [
            "Epoch 160: Loss 0.4918, Valiation loss 5.6999, Accuracy 0.8371, Valiation accuracy 0.2844\n",
            "đã lưu lại history !\n",
            "Time taken for 1 epoch: 36.86 secs\n",
            "#####################0.5201 -> 0.4918\n",
            "generated(4.2854):\n",
            "[  3 136  73 134 134 134 134 134 134 134 134 134 134 134 134 134 134 134\n",
            " 134 134 134 134 134 134 134 134 134 134 134 134 134 134 134 134 134 134]\n",
            "\n",
            "Non midi note detected. Only returning valid portion. Index, seed 63 (79, 2)\n"
          ]
        },
        {
          "output_type": "display_data",
          "data": {
            "text/plain": [
              "<IPython.core.display.HTML object>"
            ],
            "text/html": [
              "\n",
              "                <div id=\"midiPlayerDiv110703\"></div>\n",
              "                <link rel=\"stylesheet\" href=\"//cuthbertLab.github.io/music21j/css/m21.css\"\n",
              "                    type=\"text/css\" />\n",
              "                \n",
              "                    <script src=\"//cuthbertLab.github.io/music21j/ext/require/require.js\"\n",
              "                    ></script>\n",
              "                \n",
              "                <script>\n",
              "                require.config({\n",
              "                    paths: {'music21': '//cuthbertLab.github.io/music21j/src/music21'}\n",
              "                });\n",
              "                require(['music21'], function() {\n",
              "                               mp = new music21.miditools.MidiPlayer();\n",
              "                               mp.addPlayer(\"#midiPlayerDiv110703\");\n",
              "                               mp.base64Load(\"data:audio/midi;base64,TVRoZAAAAAYAAQACBABNVHJrAAAAGgD/UQMHoSAA/1kCAAAA/1gEBAIYCIgA/y8ATVRyawAAAUcA/wMFUGlhbm8AwAAA4ABAAMAApACQU1qCAIBTAACQVFqCAIBUAACQQVoAkFNahACAQQAAkEhahACASAAAkExahACAUwAAkFFajACAUQAAkFhaiACATAAAgFgAAJBBWgCQU1qEAIBBAACQSFqEAIBIAACQTFqEAIBTAACQUVqQAIBRAACQU1qCAIBTAACQVFqCAIBMAACAVAAAkEBaAJBTWoQAgEAAAJBHWoQAgEcAAJBKWoQAgFMAAJBPWowAgE8AAJBbWogAgEoAAIBbAACQQFoAkFNahACAQAAAkEdahACARwAAkEpahACAUwAAkE9akACATwAAkEpaggCASgAAkExaggCASgAAgEwAAJA+WgCQTVqEAIA+AACQRVqEAIBFAACQSFqEAIBIAACQSlqIAIBKAACQRVqEAIBFAIQAgE0AiAD/LwA=\");\n",
              "                        });\n",
              "                </script>"
            ]
          },
          "metadata": {}
        },
        {
          "output_type": "stream",
          "name": "stdout",
          "text": [
            "Saving checkpoint for epoch 160 at ./ai-music/ckpt/ckpt-34\n"
          ]
        },
        {
          "output_type": "stream",
          "name": "stderr",
          "text": [
            "  1%|▏         | 1/78 [00:00<00:38,  1.98it/s]"
          ]
        },
        {
          "output_type": "stream",
          "name": "stdout",
          "text": [
            "Epoch 161 Batch 0 Loss 0.5438 Accuracy 0.8224\n"
          ]
        },
        {
          "output_type": "stream",
          "name": "stderr",
          "text": [
            " 40%|███▉      | 31/78 [00:14<00:25,  1.84it/s]"
          ]
        },
        {
          "output_type": "stream",
          "name": "stdout",
          "text": [
            "Epoch 161 Batch 30 Loss 0.5539 Accuracy 0.8167\n"
          ]
        },
        {
          "output_type": "stream",
          "name": "stderr",
          "text": [
            " 78%|███████▊  | 61/78 [00:28<00:09,  1.83it/s]"
          ]
        },
        {
          "output_type": "stream",
          "name": "stdout",
          "text": [
            "Epoch 161 Batch 60 Loss 0.5043 Accuracy 0.8333\n"
          ]
        },
        {
          "output_type": "stream",
          "name": "stderr",
          "text": [
            "100%|██████████| 78/78 [00:36<00:00,  2.15it/s]\n"
          ]
        },
        {
          "output_type": "stream",
          "name": "stdout",
          "text": [
            "Epoch 161: Loss 0.4867, Valiation loss 5.7069, Accuracy 0.8390, Valiation accuracy 0.2841\n",
            "đã lưu lại history !\n",
            "Time taken for 1 epoch: 41.61 secs\n"
          ]
        },
        {
          "output_type": "stream",
          "name": "stderr",
          "text": [
            "  1%|▏         | 1/78 [00:00<00:36,  2.13it/s]"
          ]
        },
        {
          "output_type": "stream",
          "name": "stdout",
          "text": [
            "Epoch 162 Batch 0 Loss 0.5624 Accuracy 0.8178\n"
          ]
        },
        {
          "output_type": "stream",
          "name": "stderr",
          "text": [
            " 40%|███▉      | 31/78 [00:14<00:25,  1.84it/s]"
          ]
        },
        {
          "output_type": "stream",
          "name": "stdout",
          "text": [
            "Epoch 162 Batch 30 Loss 0.5545 Accuracy 0.8165\n"
          ]
        },
        {
          "output_type": "stream",
          "name": "stderr",
          "text": [
            " 78%|███████▊  | 61/78 [00:28<00:09,  1.84it/s]"
          ]
        },
        {
          "output_type": "stream",
          "name": "stdout",
          "text": [
            "Epoch 162 Batch 60 Loss 0.5006 Accuracy 0.8343\n"
          ]
        },
        {
          "output_type": "stream",
          "name": "stderr",
          "text": [
            "100%|██████████| 78/78 [00:36<00:00,  2.15it/s]\n"
          ]
        },
        {
          "output_type": "stream",
          "name": "stdout",
          "text": [
            "Epoch 162: Loss 0.4814, Valiation loss 5.7319, Accuracy 0.8406, Valiation accuracy 0.2844\n",
            "đã lưu lại history !\n",
            "Time taken for 1 epoch: 41.37 secs\n"
          ]
        },
        {
          "output_type": "stream",
          "name": "stderr",
          "text": [
            "  1%|▏         | 1/78 [00:00<00:35,  2.15it/s]"
          ]
        },
        {
          "output_type": "stream",
          "name": "stdout",
          "text": [
            "Epoch 163 Batch 0 Loss 0.5291 Accuracy 0.8227\n"
          ]
        },
        {
          "output_type": "stream",
          "name": "stderr",
          "text": [
            " 40%|███▉      | 31/78 [00:14<00:25,  1.84it/s]"
          ]
        },
        {
          "output_type": "stream",
          "name": "stdout",
          "text": [
            "Epoch 163 Batch 30 Loss 0.5289 Accuracy 0.8246\n"
          ]
        },
        {
          "output_type": "stream",
          "name": "stderr",
          "text": [
            " 78%|███████▊  | 61/78 [00:28<00:09,  1.83it/s]"
          ]
        },
        {
          "output_type": "stream",
          "name": "stdout",
          "text": [
            "Epoch 163 Batch 60 Loss 0.4898 Accuracy 0.8379\n"
          ]
        },
        {
          "output_type": "stream",
          "name": "stderr",
          "text": [
            "100%|██████████| 78/78 [00:36<00:00,  2.15it/s]\n"
          ]
        },
        {
          "output_type": "stream",
          "name": "stdout",
          "text": [
            "Epoch 163: Loss 0.4741, Valiation loss 5.7373, Accuracy 0.8432, Valiation accuracy 0.2838\n",
            "đã lưu lại history !\n",
            "Time taken for 1 epoch: 41.60 secs\n"
          ]
        },
        {
          "output_type": "stream",
          "name": "stderr",
          "text": [
            "  1%|▏         | 1/78 [00:00<00:35,  2.14it/s]"
          ]
        },
        {
          "output_type": "stream",
          "name": "stdout",
          "text": [
            "Epoch 164 Batch 0 Loss 0.5050 Accuracy 0.8342\n"
          ]
        },
        {
          "output_type": "stream",
          "name": "stderr",
          "text": [
            " 40%|███▉      | 31/78 [00:14<00:25,  1.84it/s]"
          ]
        },
        {
          "output_type": "stream",
          "name": "stdout",
          "text": [
            "Epoch 164 Batch 30 Loss 0.5372 Accuracy 0.8219\n"
          ]
        },
        {
          "output_type": "stream",
          "name": "stderr",
          "text": [
            " 78%|███████▊  | 61/78 [00:28<00:09,  1.83it/s]"
          ]
        },
        {
          "output_type": "stream",
          "name": "stdout",
          "text": [
            "Epoch 164 Batch 60 Loss 0.4894 Accuracy 0.8378\n"
          ]
        },
        {
          "output_type": "stream",
          "name": "stderr",
          "text": [
            "100%|██████████| 78/78 [00:36<00:00,  2.15it/s]\n"
          ]
        },
        {
          "output_type": "stream",
          "name": "stdout",
          "text": [
            "Epoch 164: Loss 0.4708, Valiation loss 5.7508, Accuracy 0.8440, Valiation accuracy 0.2838\n",
            "đã lưu lại history !\n",
            "Time taken for 1 epoch: 37.00 secs\n"
          ]
        },
        {
          "output_type": "stream",
          "name": "stderr",
          "text": [
            "  1%|▏         | 1/78 [00:00<00:36,  2.14it/s]"
          ]
        },
        {
          "output_type": "stream",
          "name": "stdout",
          "text": [
            "Epoch 165 Batch 0 Loss 0.5315 Accuracy 0.8229\n"
          ]
        },
        {
          "output_type": "stream",
          "name": "stderr",
          "text": [
            " 40%|███▉      | 31/78 [00:14<00:25,  1.85it/s]"
          ]
        },
        {
          "output_type": "stream",
          "name": "stdout",
          "text": [
            "Epoch 165 Batch 30 Loss 0.5249 Accuracy 0.8251\n"
          ]
        },
        {
          "output_type": "stream",
          "name": "stderr",
          "text": [
            " 78%|███████▊  | 61/78 [00:28<00:09,  1.83it/s]"
          ]
        },
        {
          "output_type": "stream",
          "name": "stdout",
          "text": [
            "Epoch 165 Batch 60 Loss 0.4844 Accuracy 0.8392\n"
          ]
        },
        {
          "output_type": "stream",
          "name": "stderr",
          "text": [
            "100%|██████████| 78/78 [00:36<00:00,  2.14it/s]\n"
          ]
        },
        {
          "output_type": "stream",
          "name": "stdout",
          "text": [
            "Epoch 165: Loss 0.4657, Valiation loss 5.7568, Accuracy 0.8455, Valiation accuracy 0.2842\n",
            "đã lưu lại history !\n",
            "Time taken for 1 epoch: 41.37 secs\n",
            "#####################0.4918 -> 0.4657\n",
            "generated(3.3155):\n",
            "[  3 136  73 134 134 134 134 134 134 134 134 134 134 134 134 134 134 134\n",
            " 134 134 134 134 134 134 134 134 134 134 134 134 134 134 134 134 134 134]\n",
            "\n",
            "Non midi note detected. Only returning valid portion. Index, seed 63 (79, 2)\n"
          ]
        },
        {
          "output_type": "display_data",
          "data": {
            "text/plain": [
              "<IPython.core.display.HTML object>"
            ],
            "text/html": [
              "\n",
              "                <div id=\"midiPlayerDiv111137\"></div>\n",
              "                <link rel=\"stylesheet\" href=\"//cuthbertLab.github.io/music21j/css/m21.css\"\n",
              "                    type=\"text/css\" />\n",
              "                \n",
              "                    <script src=\"//cuthbertLab.github.io/music21j/ext/require/require.js\"\n",
              "                    ></script>\n",
              "                \n",
              "                <script>\n",
              "                require.config({\n",
              "                    paths: {'music21': '//cuthbertLab.github.io/music21j/src/music21'}\n",
              "                });\n",
              "                require(['music21'], function() {\n",
              "                               mp = new music21.miditools.MidiPlayer();\n",
              "                               mp.addPlayer(\"#midiPlayerDiv111137\");\n",
              "                               mp.base64Load(\"data:audio/midi;base64,TVRoZAAAAAYAAQACBABNVHJrAAAAGgD/UQMHoSAA/1kCAAAA/1gEBAIYCIgA/y8ATVRyawAAAUcA/wMFUGlhbm8AwAAA4ABAAMAApACQU1qCAIBTAACQVFqCAIBUAACQQVoAkFNahACAQQAAkEhahACASAAAkExahACAUwAAkFFajACAUQAAkFhaiACATAAAgFgAAJBBWgCQU1qEAIBBAACQSFqEAIBIAACQTFqEAIBTAACQUVqQAIBRAACQU1qCAIBTAACQVFqCAIBMAACAVAAAkEBaAJBTWoQAgEAAAJBHWoQAgEcAAJBKWoQAgFMAAJBPWowAgE8AAJBbWogAgEoAAIBbAACQQFoAkFNahACAQAAAkEdahACARwAAkEpahACAUwAAkE9akACATwAAkEpaggCASgAAkExaggCASgAAgEwAAJA+WgCQTVqEAIA+AACQRVqEAIBFAACQSFqEAIBIAACQSlqIAIBKAACQRVqEAIBFAIQAgE0AiAD/LwA=\");\n",
              "                        });\n",
              "                </script>"
            ]
          },
          "metadata": {}
        },
        {
          "output_type": "stream",
          "name": "stdout",
          "text": [
            "Saving checkpoint for epoch 165 at ./ai-music/ckpt/ckpt-35\n"
          ]
        },
        {
          "output_type": "stream",
          "name": "stderr",
          "text": [
            "  1%|▏         | 1/78 [00:00<00:39,  1.94it/s]"
          ]
        },
        {
          "output_type": "stream",
          "name": "stdout",
          "text": [
            "Epoch 166 Batch 0 Loss 0.4824 Accuracy 0.8372\n"
          ]
        },
        {
          "output_type": "stream",
          "name": "stderr",
          "text": [
            " 40%|███▉      | 31/78 [00:14<00:25,  1.84it/s]"
          ]
        },
        {
          "output_type": "stream",
          "name": "stdout",
          "text": [
            "Epoch 166 Batch 30 Loss 0.5201 Accuracy 0.8273\n"
          ]
        },
        {
          "output_type": "stream",
          "name": "stderr",
          "text": [
            " 78%|███████▊  | 61/78 [00:28<00:09,  1.84it/s]"
          ]
        },
        {
          "output_type": "stream",
          "name": "stdout",
          "text": [
            "Epoch 166 Batch 60 Loss 0.4747 Accuracy 0.8425\n"
          ]
        },
        {
          "output_type": "stream",
          "name": "stderr",
          "text": [
            "100%|██████████| 78/78 [00:36<00:00,  2.15it/s]\n"
          ]
        },
        {
          "output_type": "stream",
          "name": "stdout",
          "text": [
            "Epoch 166: Loss 0.4596, Valiation loss 5.7680, Accuracy 0.8475, Valiation accuracy 0.2848\n",
            "đã lưu lại history !\n",
            "Time taken for 1 epoch: 41.38 secs\n"
          ]
        },
        {
          "output_type": "stream",
          "name": "stderr",
          "text": [
            "  1%|▏         | 1/78 [00:00<00:35,  2.15it/s]"
          ]
        },
        {
          "output_type": "stream",
          "name": "stdout",
          "text": [
            "Epoch 167 Batch 0 Loss 0.5286 Accuracy 0.8277\n"
          ]
        },
        {
          "output_type": "stream",
          "name": "stderr",
          "text": [
            " 40%|███▉      | 31/78 [00:14<00:25,  1.83it/s]"
          ]
        },
        {
          "output_type": "stream",
          "name": "stdout",
          "text": [
            "Epoch 167 Batch 30 Loss 0.5295 Accuracy 0.8243\n"
          ]
        },
        {
          "output_type": "stream",
          "name": "stderr",
          "text": [
            " 78%|███████▊  | 61/78 [00:28<00:09,  1.82it/s]"
          ]
        },
        {
          "output_type": "stream",
          "name": "stdout",
          "text": [
            "Epoch 167 Batch 60 Loss 0.4789 Accuracy 0.8411\n"
          ]
        },
        {
          "output_type": "stream",
          "name": "stderr",
          "text": [
            "100%|██████████| 78/78 [00:36<00:00,  2.15it/s]\n"
          ]
        },
        {
          "output_type": "stream",
          "name": "stdout",
          "text": [
            "Epoch 167: Loss 0.4604, Valiation loss 5.7742, Accuracy 0.8473, Valiation accuracy 0.2853\n",
            "đã lưu lại history !\n",
            "Time taken for 1 epoch: 41.61 secs\n"
          ]
        },
        {
          "output_type": "stream",
          "name": "stderr",
          "text": [
            "  1%|▏         | 1/78 [00:00<00:36,  2.11it/s]"
          ]
        },
        {
          "output_type": "stream",
          "name": "stdout",
          "text": [
            "Epoch 168 Batch 0 Loss 0.4870 Accuracy 0.8392\n"
          ]
        },
        {
          "output_type": "stream",
          "name": "stderr",
          "text": [
            " 40%|███▉      | 31/78 [00:14<00:25,  1.82it/s]"
          ]
        },
        {
          "output_type": "stream",
          "name": "stdout",
          "text": [
            "Epoch 168 Batch 30 Loss 0.5069 Accuracy 0.8315\n"
          ]
        },
        {
          "output_type": "stream",
          "name": "stderr",
          "text": [
            " 78%|███████▊  | 61/78 [00:28<00:09,  1.82it/s]"
          ]
        },
        {
          "output_type": "stream",
          "name": "stdout",
          "text": [
            "Epoch 168 Batch 60 Loss 0.4685 Accuracy 0.8446\n"
          ]
        },
        {
          "output_type": "stream",
          "name": "stderr",
          "text": [
            "100%|██████████| 78/78 [00:36<00:00,  2.15it/s]\n"
          ]
        },
        {
          "output_type": "stream",
          "name": "stdout",
          "text": [
            "Epoch 168: Loss 0.4516, Valiation loss 5.7860, Accuracy 0.8504, Valiation accuracy 0.2851\n",
            "đã lưu lại history !\n",
            "Time taken for 1 epoch: 41.37 secs\n"
          ]
        },
        {
          "output_type": "stream",
          "name": "stderr",
          "text": [
            "  1%|▏         | 1/78 [00:00<00:35,  2.15it/s]"
          ]
        },
        {
          "output_type": "stream",
          "name": "stdout",
          "text": [
            "Epoch 169 Batch 0 Loss 0.5059 Accuracy 0.8320\n"
          ]
        },
        {
          "output_type": "stream",
          "name": "stderr",
          "text": [
            " 40%|███▉      | 31/78 [00:14<00:25,  1.83it/s]"
          ]
        },
        {
          "output_type": "stream",
          "name": "stdout",
          "text": [
            "Epoch 169 Batch 30 Loss 0.5102 Accuracy 0.8310\n"
          ]
        },
        {
          "output_type": "stream",
          "name": "stderr",
          "text": [
            " 78%|███████▊  | 61/78 [00:28<00:09,  1.83it/s]"
          ]
        },
        {
          "output_type": "stream",
          "name": "stdout",
          "text": [
            "Epoch 169 Batch 60 Loss 0.4646 Accuracy 0.8461\n"
          ]
        },
        {
          "output_type": "stream",
          "name": "stderr",
          "text": [
            "100%|██████████| 78/78 [00:36<00:00,  2.15it/s]\n"
          ]
        },
        {
          "output_type": "stream",
          "name": "stdout",
          "text": [
            "Epoch 169: Loss 0.4478, Valiation loss 5.7885, Accuracy 0.8518, Valiation accuracy 0.2856\n",
            "đã lưu lại history !\n",
            "Time taken for 1 epoch: 36.80 secs\n"
          ]
        },
        {
          "output_type": "stream",
          "name": "stderr",
          "text": [
            "  1%|▏         | 1/78 [00:00<00:37,  2.06it/s]"
          ]
        },
        {
          "output_type": "stream",
          "name": "stdout",
          "text": [
            "Epoch 170 Batch 0 Loss 0.5084 Accuracy 0.8329\n"
          ]
        },
        {
          "output_type": "stream",
          "name": "stderr",
          "text": [
            " 40%|███▉      | 31/78 [00:14<00:25,  1.82it/s]"
          ]
        },
        {
          "output_type": "stream",
          "name": "stdout",
          "text": [
            "Epoch 170 Batch 30 Loss 0.5011 Accuracy 0.8340\n"
          ]
        },
        {
          "output_type": "stream",
          "name": "stderr",
          "text": [
            " 78%|███████▊  | 61/78 [00:28<00:09,  1.82it/s]"
          ]
        },
        {
          "output_type": "stream",
          "name": "stdout",
          "text": [
            "Epoch 170 Batch 60 Loss 0.4540 Accuracy 0.8496\n"
          ]
        },
        {
          "output_type": "stream",
          "name": "stderr",
          "text": [
            "100%|██████████| 78/78 [00:36<00:00,  2.14it/s]\n"
          ]
        },
        {
          "output_type": "stream",
          "name": "stdout",
          "text": [
            "Epoch 170: Loss 0.4413, Valiation loss 5.7931, Accuracy 0.8539, Valiation accuracy 0.2855\n",
            "đã lưu lại history !\n",
            "Time taken for 1 epoch: 41.61 secs\n",
            "#####################0.4657 -> 0.4413\n",
            "generated(3.4638):\n",
            "[  3 136  73 134 134 134 134 134 134 134 134 134 134 134 134 134 134 134\n",
            " 134 134 134 134 134 134 134 134 134 134 134 134 134 134 134 134 134 134]\n",
            "\n",
            "Non midi note detected. Only returning valid portion. Index, seed 63 (79, 2)\n"
          ]
        },
        {
          "output_type": "display_data",
          "data": {
            "text/plain": [
              "<IPython.core.display.HTML object>"
            ],
            "text/html": [
              "\n",
              "                <div id=\"midiPlayerDiv111571\"></div>\n",
              "                <link rel=\"stylesheet\" href=\"//cuthbertLab.github.io/music21j/css/m21.css\"\n",
              "                    type=\"text/css\" />\n",
              "                \n",
              "                    <script src=\"//cuthbertLab.github.io/music21j/ext/require/require.js\"\n",
              "                    ></script>\n",
              "                \n",
              "                <script>\n",
              "                require.config({\n",
              "                    paths: {'music21': '//cuthbertLab.github.io/music21j/src/music21'}\n",
              "                });\n",
              "                require(['music21'], function() {\n",
              "                               mp = new music21.miditools.MidiPlayer();\n",
              "                               mp.addPlayer(\"#midiPlayerDiv111571\");\n",
              "                               mp.base64Load(\"data:audio/midi;base64,TVRoZAAAAAYAAQACBABNVHJrAAAAGgD/UQMHoSAA/1kCAAAA/1gEBAIYCIgA/y8ATVRyawAAAUcA/wMFUGlhbm8AwAAA4ABAAMAApACQU1qCAIBTAACQVFqCAIBUAACQQVoAkFNahACAQQAAkEhahACASAAAkExahACAUwAAkFFajACAUQAAkFhaiACATAAAgFgAAJBBWgCQU1qEAIBBAACQSFqEAIBIAACQTFqEAIBTAACQUVqQAIBRAACQU1qCAIBTAACQVFqCAIBMAACAVAAAkEBaAJBTWoQAgEAAAJBHWoQAgEcAAJBKWoQAgFMAAJBPWowAgE8AAJBbWogAgEoAAIBbAACQQFoAkFNahACAQAAAkEdahACARwAAkEpahACAUwAAkE9akACATwAAkEpaggCASgAAkExaggCASgAAgEwAAJA+WgCQTVqEAIA+AACQRVqEAIBFAACQSFqEAIBIAACQSlqIAIBKAACQRVqEAIBFAIQAgE0AiAD/LwA=\");\n",
              "                        });\n",
              "                </script>"
            ]
          },
          "metadata": {}
        },
        {
          "output_type": "stream",
          "name": "stdout",
          "text": [
            "Saving checkpoint for epoch 170 at ./ai-music/ckpt/ckpt-36\n"
          ]
        },
        {
          "output_type": "stream",
          "name": "stderr",
          "text": [
            "  1%|▏         | 1/78 [00:00<00:39,  1.96it/s]"
          ]
        },
        {
          "output_type": "stream",
          "name": "stdout",
          "text": [
            "Epoch 171 Batch 0 Loss 0.4664 Accuracy 0.8478\n"
          ]
        },
        {
          "output_type": "stream",
          "name": "stderr",
          "text": [
            " 40%|███▉      | 31/78 [00:14<00:25,  1.83it/s]"
          ]
        },
        {
          "output_type": "stream",
          "name": "stdout",
          "text": [
            "Epoch 171 Batch 30 Loss 0.4929 Accuracy 0.8366\n"
          ]
        },
        {
          "output_type": "stream",
          "name": "stderr",
          "text": [
            " 78%|███████▊  | 61/78 [00:28<00:09,  1.83it/s]"
          ]
        },
        {
          "output_type": "stream",
          "name": "stdout",
          "text": [
            "Epoch 171 Batch 60 Loss 0.4546 Accuracy 0.8493\n"
          ]
        },
        {
          "output_type": "stream",
          "name": "stderr",
          "text": [
            "100%|██████████| 78/78 [00:36<00:00,  2.15it/s]\n"
          ]
        },
        {
          "output_type": "stream",
          "name": "stdout",
          "text": [
            "Epoch 171: Loss 0.4381, Valiation loss 5.8022, Accuracy 0.8550, Valiation accuracy 0.2847\n",
            "đã lưu lại history !\n",
            "Time taken for 1 epoch: 41.60 secs\n"
          ]
        },
        {
          "output_type": "stream",
          "name": "stderr",
          "text": [
            "  1%|▏         | 1/78 [00:00<00:36,  2.14it/s]"
          ]
        },
        {
          "output_type": "stream",
          "name": "stdout",
          "text": [
            "Epoch 172 Batch 0 Loss 0.4950 Accuracy 0.8339\n"
          ]
        },
        {
          "output_type": "stream",
          "name": "stderr",
          "text": [
            " 40%|███▉      | 31/78 [00:14<00:25,  1.84it/s]"
          ]
        },
        {
          "output_type": "stream",
          "name": "stdout",
          "text": [
            "Epoch 172 Batch 30 Loss 0.4876 Accuracy 0.8384\n"
          ]
        },
        {
          "output_type": "stream",
          "name": "stderr",
          "text": [
            " 78%|███████▊  | 61/78 [00:28<00:09,  1.83it/s]"
          ]
        },
        {
          "output_type": "stream",
          "name": "stdout",
          "text": [
            "Epoch 172 Batch 60 Loss 0.4462 Accuracy 0.8522\n"
          ]
        },
        {
          "output_type": "stream",
          "name": "stderr",
          "text": [
            "100%|██████████| 78/78 [00:36<00:00,  2.15it/s]\n"
          ]
        },
        {
          "output_type": "stream",
          "name": "stdout",
          "text": [
            "Epoch 172: Loss 0.4297, Valiation loss 5.8100, Accuracy 0.8575, Valiation accuracy 0.2839\n",
            "đã lưu lại history !\n",
            "Time taken for 1 epoch: 41.37 secs\n"
          ]
        },
        {
          "output_type": "stream",
          "name": "stderr",
          "text": [
            "  1%|▏         | 1/78 [00:00<00:35,  2.15it/s]"
          ]
        },
        {
          "output_type": "stream",
          "name": "stdout",
          "text": [
            "Epoch 173 Batch 0 Loss 0.4902 Accuracy 0.8385\n"
          ]
        },
        {
          "output_type": "stream",
          "name": "stderr",
          "text": [
            " 40%|███▉      | 31/78 [00:14<00:25,  1.84it/s]"
          ]
        },
        {
          "output_type": "stream",
          "name": "stdout",
          "text": [
            "Epoch 173 Batch 30 Loss 0.4814 Accuracy 0.8398\n"
          ]
        },
        {
          "output_type": "stream",
          "name": "stderr",
          "text": [
            " 78%|███████▊  | 61/78 [00:28<00:09,  1.83it/s]"
          ]
        },
        {
          "output_type": "stream",
          "name": "stdout",
          "text": [
            "Epoch 173 Batch 60 Loss 0.4460 Accuracy 0.8521\n"
          ]
        },
        {
          "output_type": "stream",
          "name": "stderr",
          "text": [
            "100%|██████████| 78/78 [00:36<00:00,  2.15it/s]\n"
          ]
        },
        {
          "output_type": "stream",
          "name": "stdout",
          "text": [
            "Epoch 173: Loss 0.4307, Valiation loss 5.8231, Accuracy 0.8573, Valiation accuracy 0.2841\n",
            "đã lưu lại history !\n",
            "Time taken for 1 epoch: 36.91 secs\n"
          ]
        },
        {
          "output_type": "stream",
          "name": "stderr",
          "text": [
            "  1%|▏         | 1/78 [00:00<00:36,  2.13it/s]"
          ]
        },
        {
          "output_type": "stream",
          "name": "stdout",
          "text": [
            "Epoch 174 Batch 0 Loss 0.4926 Accuracy 0.8369\n"
          ]
        },
        {
          "output_type": "stream",
          "name": "stderr",
          "text": [
            " 40%|███▉      | 31/78 [00:14<00:25,  1.83it/s]"
          ]
        },
        {
          "output_type": "stream",
          "name": "stdout",
          "text": [
            "Epoch 174 Batch 30 Loss 0.4752 Accuracy 0.8419\n"
          ]
        },
        {
          "output_type": "stream",
          "name": "stderr",
          "text": [
            " 78%|███████▊  | 61/78 [00:28<00:09,  1.83it/s]"
          ]
        },
        {
          "output_type": "stream",
          "name": "stdout",
          "text": [
            "Epoch 174 Batch 60 Loss 0.4362 Accuracy 0.8552\n"
          ]
        },
        {
          "output_type": "stream",
          "name": "stderr",
          "text": [
            "100%|██████████| 78/78 [00:36<00:00,  2.14it/s]\n"
          ]
        },
        {
          "output_type": "stream",
          "name": "stdout",
          "text": [
            "Epoch 174: Loss 0.4230, Valiation loss 5.8338, Accuracy 0.8597, Valiation accuracy 0.2837\n",
            "đã lưu lại history !\n",
            "Time taken for 1 epoch: 37.06 secs\n"
          ]
        },
        {
          "output_type": "stream",
          "name": "stderr",
          "text": [
            "  1%|▏         | 1/78 [00:00<00:35,  2.14it/s]"
          ]
        },
        {
          "output_type": "stream",
          "name": "stdout",
          "text": [
            "Epoch 175 Batch 0 Loss 0.4638 Accuracy 0.8489\n"
          ]
        },
        {
          "output_type": "stream",
          "name": "stderr",
          "text": [
            " 40%|███▉      | 31/78 [00:14<00:25,  1.82it/s]"
          ]
        },
        {
          "output_type": "stream",
          "name": "stdout",
          "text": [
            "Epoch 175 Batch 30 Loss 0.4712 Accuracy 0.8435\n"
          ]
        },
        {
          "output_type": "stream",
          "name": "stderr",
          "text": [
            " 78%|███████▊  | 61/78 [00:28<00:09,  1.83it/s]"
          ]
        },
        {
          "output_type": "stream",
          "name": "stdout",
          "text": [
            "Epoch 175 Batch 60 Loss 0.4340 Accuracy 0.8562\n"
          ]
        },
        {
          "output_type": "stream",
          "name": "stderr",
          "text": [
            "100%|██████████| 78/78 [00:36<00:00,  2.15it/s]\n"
          ]
        },
        {
          "output_type": "stream",
          "name": "stdout",
          "text": [
            "Epoch 175: Loss 0.4209, Valiation loss 5.8428, Accuracy 0.8606, Valiation accuracy 0.2834\n",
            "đã lưu lại history !\n",
            "Time taken for 1 epoch: 37.01 secs\n",
            "#####################0.4413 -> 0.4209\n",
            "generated(4.1163):\n",
            "[  3 136  73 134 134 134 134 134 134 134 134 134 134 134 134 134 134 134\n",
            " 134 134 134 134 134 134 134 134 138 138 138 138 134 134 134 134 134 134]\n",
            "\n",
            "Non midi note detected. Only returning valid portion. Index, seed 63 (79, 2)\n"
          ]
        },
        {
          "output_type": "display_data",
          "data": {
            "text/plain": [
              "<IPython.core.display.HTML object>"
            ],
            "text/html": [
              "\n",
              "                <div id=\"midiPlayerDiv112005\"></div>\n",
              "                <link rel=\"stylesheet\" href=\"//cuthbertLab.github.io/music21j/css/m21.css\"\n",
              "                    type=\"text/css\" />\n",
              "                \n",
              "                    <script src=\"//cuthbertLab.github.io/music21j/ext/require/require.js\"\n",
              "                    ></script>\n",
              "                \n",
              "                <script>\n",
              "                require.config({\n",
              "                    paths: {'music21': '//cuthbertLab.github.io/music21j/src/music21'}\n",
              "                });\n",
              "                require(['music21'], function() {\n",
              "                               mp = new music21.miditools.MidiPlayer();\n",
              "                               mp.addPlayer(\"#midiPlayerDiv112005\");\n",
              "                               mp.base64Load(\"data:audio/midi;base64,TVRoZAAAAAYAAQACBABNVHJrAAAAGgD/UQMHoSAA/1kCAAAA/1gEBAIYCIgA/y8ATVRyawAAAUcA/wMFUGlhbm8AwAAA4ABAAMAApACQU1qCAIBTAACQVFqCAIBUAACQQVoAkFNahACAQQAAkEhahACASAAAkExahACAUwAAkFFajACAUQAAkFhaiACATAAAgFgAAJBBWgCQU1qEAIBBAACQSFqEAIBIAACQTFqEAIBTAACQUVqQAIBRAACQU1qCAIBTAACQVFqCAIBMAACAVAAAkEBaAJBTWoQAgEAAAJBHWoQAgEcAAJBKWoQAgFMAAJBPWowAgE8AAJBbWogAgEoAAIBbAACQQFoAkFNahACAQAAAkEdahACARwAAkEpahACAUwAAkE9akACATwAAkEpaggCASgAAkExaggCASgAAgEwAAJA+WgCQTVqEAIA+AACQRVqEAIBFAACQSFqEAIBIAACQSlqIAIBKAACQRVqEAIBFAIQAgE0AiAD/LwA=\");\n",
              "                        });\n",
              "                </script>"
            ]
          },
          "metadata": {}
        },
        {
          "output_type": "stream",
          "name": "stdout",
          "text": [
            "Saving checkpoint for epoch 175 at ./ai-music/ckpt/ckpt-37\n"
          ]
        },
        {
          "output_type": "stream",
          "name": "stderr",
          "text": [
            "  1%|▏         | 1/78 [00:00<00:40,  1.91it/s]"
          ]
        },
        {
          "output_type": "stream",
          "name": "stdout",
          "text": [
            "Epoch 176 Batch 0 Loss 0.4656 Accuracy 0.8490\n"
          ]
        },
        {
          "output_type": "stream",
          "name": "stderr",
          "text": [
            " 40%|███▉      | 31/78 [00:14<00:25,  1.83it/s]"
          ]
        },
        {
          "output_type": "stream",
          "name": "stdout",
          "text": [
            "Epoch 176 Batch 30 Loss 0.4704 Accuracy 0.8440\n"
          ]
        },
        {
          "output_type": "stream",
          "name": "stderr",
          "text": [
            " 78%|███████▊  | 61/78 [00:28<00:09,  1.83it/s]"
          ]
        },
        {
          "output_type": "stream",
          "name": "stdout",
          "text": [
            "Epoch 176 Batch 60 Loss 0.4319 Accuracy 0.8568\n"
          ]
        },
        {
          "output_type": "stream",
          "name": "stderr",
          "text": [
            "100%|██████████| 78/78 [00:36<00:00,  2.14it/s]\n"
          ]
        },
        {
          "output_type": "stream",
          "name": "stdout",
          "text": [
            "Epoch 176: Loss 0.4154, Valiation loss 5.8527, Accuracy 0.8624, Valiation accuracy 0.2835\n",
            "đã lưu lại history !\n",
            "Time taken for 1 epoch: 41.36 secs\n"
          ]
        },
        {
          "output_type": "stream",
          "name": "stderr",
          "text": [
            "  1%|▏         | 1/78 [00:00<00:36,  2.13it/s]"
          ]
        },
        {
          "output_type": "stream",
          "name": "stdout",
          "text": [
            "Epoch 177 Batch 0 Loss 0.4573 Accuracy 0.8512\n"
          ]
        },
        {
          "output_type": "stream",
          "name": "stderr",
          "text": [
            " 40%|███▉      | 31/78 [00:14<00:25,  1.83it/s]"
          ]
        },
        {
          "output_type": "stream",
          "name": "stdout",
          "text": [
            "Epoch 177 Batch 30 Loss 0.4579 Accuracy 0.8480\n"
          ]
        },
        {
          "output_type": "stream",
          "name": "stderr",
          "text": [
            " 78%|███████▊  | 61/78 [00:28<00:09,  1.84it/s]"
          ]
        },
        {
          "output_type": "stream",
          "name": "stdout",
          "text": [
            "Epoch 177 Batch 60 Loss 0.4251 Accuracy 0.8592\n"
          ]
        },
        {
          "output_type": "stream",
          "name": "stderr",
          "text": [
            "100%|██████████| 78/78 [00:36<00:00,  2.15it/s]\n"
          ]
        },
        {
          "output_type": "stream",
          "name": "stdout",
          "text": [
            "Epoch 177: Loss 0.4114, Valiation loss 5.8589, Accuracy 0.8639, Valiation accuracy 0.2835\n",
            "đã lưu lại history !\n",
            "Time taken for 1 epoch: 41.38 secs\n"
          ]
        },
        {
          "output_type": "stream",
          "name": "stderr",
          "text": [
            "  1%|▏         | 1/78 [00:00<00:35,  2.16it/s]"
          ]
        },
        {
          "output_type": "stream",
          "name": "stdout",
          "text": [
            "Epoch 178 Batch 0 Loss 0.4688 Accuracy 0.8441\n"
          ]
        },
        {
          "output_type": "stream",
          "name": "stderr",
          "text": [
            " 40%|███▉      | 31/78 [00:14<00:25,  1.83it/s]"
          ]
        },
        {
          "output_type": "stream",
          "name": "stdout",
          "text": [
            "Epoch 178 Batch 30 Loss 0.4660 Accuracy 0.8452\n"
          ]
        },
        {
          "output_type": "stream",
          "name": "stderr",
          "text": [
            " 78%|███████▊  | 61/78 [00:28<00:09,  1.83it/s]"
          ]
        },
        {
          "output_type": "stream",
          "name": "stdout",
          "text": [
            "Epoch 178 Batch 60 Loss 0.4255 Accuracy 0.8589\n"
          ]
        },
        {
          "output_type": "stream",
          "name": "stderr",
          "text": [
            "100%|██████████| 78/78 [00:36<00:00,  2.15it/s]\n"
          ]
        },
        {
          "output_type": "stream",
          "name": "stdout",
          "text": [
            "Epoch 178: Loss 0.4108, Valiation loss 5.8654, Accuracy 0.8638, Valiation accuracy 0.2835\n",
            "đã lưu lại history !\n",
            "Time taken for 1 epoch: 36.88 secs\n"
          ]
        },
        {
          "output_type": "stream",
          "name": "stderr",
          "text": [
            "  1%|▏         | 1/78 [00:00<00:36,  2.13it/s]"
          ]
        },
        {
          "output_type": "stream",
          "name": "stdout",
          "text": [
            "Epoch 179 Batch 0 Loss 0.4372 Accuracy 0.8582\n"
          ]
        },
        {
          "output_type": "stream",
          "name": "stderr",
          "text": [
            " 40%|███▉      | 31/78 [00:14<00:25,  1.83it/s]"
          ]
        },
        {
          "output_type": "stream",
          "name": "stdout",
          "text": [
            "Epoch 179 Batch 30 Loss 0.4519 Accuracy 0.8505\n"
          ]
        },
        {
          "output_type": "stream",
          "name": "stderr",
          "text": [
            " 78%|███████▊  | 61/78 [00:28<00:09,  1.83it/s]"
          ]
        },
        {
          "output_type": "stream",
          "name": "stdout",
          "text": [
            "Epoch 179 Batch 60 Loss 0.4159 Accuracy 0.8621\n"
          ]
        },
        {
          "output_type": "stream",
          "name": "stderr",
          "text": [
            "100%|██████████| 78/78 [00:36<00:00,  2.14it/s]\n"
          ]
        },
        {
          "output_type": "stream",
          "name": "stdout",
          "text": [
            "Epoch 179: Loss 0.4037, Valiation loss 5.8762, Accuracy 0.8664, Valiation accuracy 0.2833\n",
            "đã lưu lại history !\n",
            "Time taken for 1 epoch: 37.04 secs\n"
          ]
        },
        {
          "output_type": "stream",
          "name": "stderr",
          "text": [
            "  1%|▏         | 1/78 [00:00<00:36,  2.09it/s]"
          ]
        },
        {
          "output_type": "stream",
          "name": "stdout",
          "text": [
            "Epoch 180 Batch 0 Loss 0.4662 Accuracy 0.8469\n"
          ]
        },
        {
          "output_type": "stream",
          "name": "stderr",
          "text": [
            " 40%|███▉      | 31/78 [00:14<00:25,  1.82it/s]"
          ]
        },
        {
          "output_type": "stream",
          "name": "stdout",
          "text": [
            "Epoch 180 Batch 30 Loss 0.4585 Accuracy 0.8482\n"
          ]
        },
        {
          "output_type": "stream",
          "name": "stderr",
          "text": [
            " 78%|███████▊  | 61/78 [00:28<00:09,  1.82it/s]"
          ]
        },
        {
          "output_type": "stream",
          "name": "stdout",
          "text": [
            "Epoch 180 Batch 60 Loss 0.4217 Accuracy 0.8604\n"
          ]
        },
        {
          "output_type": "stream",
          "name": "stderr",
          "text": [
            "100%|██████████| 78/78 [00:36<00:00,  2.15it/s]\n"
          ]
        },
        {
          "output_type": "stream",
          "name": "stdout",
          "text": [
            "Epoch 180: Loss 0.4057, Valiation loss 5.8887, Accuracy 0.8657, Valiation accuracy 0.2831\n",
            "đã lưu lại history !\n",
            "Time taken for 1 epoch: 41.38 secs\n",
            "#####################0.4209 -> 0.4057\n",
            "generated(3.3756):\n",
            "[  3 136  73 134 134 134 134 134 134 134 134 134 134 134 134 134 134 134\n",
            " 134 134 134 134 134 134 134 134 134 134 134 134 134 134 134 134 134 134]\n",
            "\n",
            "Non midi note detected. Only returning valid portion. Index, seed 63 (79, 2)\n"
          ]
        },
        {
          "output_type": "display_data",
          "data": {
            "text/plain": [
              "<IPython.core.display.HTML object>"
            ],
            "text/html": [
              "\n",
              "                <div id=\"midiPlayerDiv112439\"></div>\n",
              "                <link rel=\"stylesheet\" href=\"//cuthbertLab.github.io/music21j/css/m21.css\"\n",
              "                    type=\"text/css\" />\n",
              "                \n",
              "                    <script src=\"//cuthbertLab.github.io/music21j/ext/require/require.js\"\n",
              "                    ></script>\n",
              "                \n",
              "                <script>\n",
              "                require.config({\n",
              "                    paths: {'music21': '//cuthbertLab.github.io/music21j/src/music21'}\n",
              "                });\n",
              "                require(['music21'], function() {\n",
              "                               mp = new music21.miditools.MidiPlayer();\n",
              "                               mp.addPlayer(\"#midiPlayerDiv112439\");\n",
              "                               mp.base64Load(\"data:audio/midi;base64,TVRoZAAAAAYAAQACBABNVHJrAAAAGgD/UQMHoSAA/1kCAAAA/1gEBAIYCIgA/y8ATVRyawAAAUcA/wMFUGlhbm8AwAAA4ABAAMAApACQU1qCAIBTAACQVFqCAIBUAACQQVoAkFNahACAQQAAkEhahACASAAAkExahACAUwAAkFFajACAUQAAkFhaiACATAAAgFgAAJBBWgCQU1qEAIBBAACQSFqEAIBIAACQTFqEAIBTAACQUVqQAIBRAACQU1qCAIBTAACQVFqCAIBMAACAVAAAkEBaAJBTWoQAgEAAAJBHWoQAgEcAAJBKWoQAgFMAAJBPWowAgE8AAJBbWogAgEoAAIBbAACQQFoAkFNahACAQAAAkEdahACARwAAkEpahACAUwAAkE9akACATwAAkEpaggCASgAAkExaggCASgAAgEwAAJA+WgCQTVqEAIA+AACQRVqEAIBFAACQSFqEAIBIAACQSlqIAIBKAACQRVqEAIBFAIQAgE0AiAD/LwA=\");\n",
              "                        });\n",
              "                </script>"
            ]
          },
          "metadata": {}
        },
        {
          "output_type": "stream",
          "name": "stdout",
          "text": [
            "Saving checkpoint for epoch 180 at ./ai-music/ckpt/ckpt-38\n"
          ]
        },
        {
          "output_type": "stream",
          "name": "stderr",
          "text": [
            "  1%|▏         | 1/78 [00:00<00:39,  1.95it/s]"
          ]
        },
        {
          "output_type": "stream",
          "name": "stdout",
          "text": [
            "Epoch 181 Batch 0 Loss 0.4502 Accuracy 0.8530\n"
          ]
        },
        {
          "output_type": "stream",
          "name": "stderr",
          "text": [
            " 40%|███▉      | 31/78 [00:14<00:25,  1.84it/s]"
          ]
        },
        {
          "output_type": "stream",
          "name": "stdout",
          "text": [
            "Epoch 181 Batch 30 Loss 0.4450 Accuracy 0.8519\n"
          ]
        },
        {
          "output_type": "stream",
          "name": "stderr",
          "text": [
            " 78%|███████▊  | 61/78 [00:28<00:09,  1.83it/s]"
          ]
        },
        {
          "output_type": "stream",
          "name": "stdout",
          "text": [
            "Epoch 181 Batch 60 Loss 0.4105 Accuracy 0.8637\n"
          ]
        },
        {
          "output_type": "stream",
          "name": "stderr",
          "text": [
            "100%|██████████| 78/78 [00:36<00:00,  2.15it/s]\n"
          ]
        },
        {
          "output_type": "stream",
          "name": "stdout",
          "text": [
            "Epoch 181: Loss 0.3948, Valiation loss 5.9044, Accuracy 0.8691, Valiation accuracy 0.2831\n",
            "đã lưu lại history !\n",
            "Time taken for 1 epoch: 36.92 secs\n"
          ]
        },
        {
          "output_type": "stream",
          "name": "stderr",
          "text": [
            "  1%|▏         | 1/78 [00:00<00:36,  2.14it/s]"
          ]
        },
        {
          "output_type": "stream",
          "name": "stdout",
          "text": [
            "Epoch 182 Batch 0 Loss 0.4400 Accuracy 0.8568\n"
          ]
        },
        {
          "output_type": "stream",
          "name": "stderr",
          "text": [
            " 40%|███▉      | 31/78 [00:14<00:25,  1.83it/s]"
          ]
        },
        {
          "output_type": "stream",
          "name": "stdout",
          "text": [
            "Epoch 182 Batch 30 Loss 0.4435 Accuracy 0.8523\n"
          ]
        },
        {
          "output_type": "stream",
          "name": "stderr",
          "text": [
            " 78%|███████▊  | 61/78 [00:28<00:09,  1.83it/s]"
          ]
        },
        {
          "output_type": "stream",
          "name": "stdout",
          "text": [
            "Epoch 182 Batch 60 Loss 0.4085 Accuracy 0.8642\n"
          ]
        },
        {
          "output_type": "stream",
          "name": "stderr",
          "text": [
            "100%|██████████| 78/78 [00:36<00:00,  2.14it/s]\n"
          ]
        },
        {
          "output_type": "stream",
          "name": "stdout",
          "text": [
            "Epoch 182: Loss 0.3928, Valiation loss 5.9160, Accuracy 0.8693, Valiation accuracy 0.2831\n",
            "đã lưu lại history !\n",
            "Time taken for 1 epoch: 37.04 secs\n"
          ]
        },
        {
          "output_type": "stream",
          "name": "stderr",
          "text": [
            "  1%|▏         | 1/78 [00:00<00:36,  2.10it/s]"
          ]
        },
        {
          "output_type": "stream",
          "name": "stdout",
          "text": [
            "Epoch 183 Batch 0 Loss 0.4388 Accuracy 0.8545\n"
          ]
        },
        {
          "output_type": "stream",
          "name": "stderr",
          "text": [
            " 40%|███▉      | 31/78 [00:14<00:25,  1.81it/s]"
          ]
        },
        {
          "output_type": "stream",
          "name": "stdout",
          "text": [
            "Epoch 183 Batch 30 Loss 0.4442 Accuracy 0.8520\n"
          ]
        },
        {
          "output_type": "stream",
          "name": "stderr",
          "text": [
            " 78%|███████▊  | 61/78 [00:28<00:09,  1.82it/s]"
          ]
        },
        {
          "output_type": "stream",
          "name": "stdout",
          "text": [
            "Epoch 183 Batch 60 Loss 0.4043 Accuracy 0.8656\n"
          ]
        },
        {
          "output_type": "stream",
          "name": "stderr",
          "text": [
            "100%|██████████| 78/78 [00:36<00:00,  2.14it/s]\n"
          ]
        },
        {
          "output_type": "stream",
          "name": "stdout",
          "text": [
            "Epoch 183: Loss 0.3900, Valiation loss 5.9240, Accuracy 0.8705, Valiation accuracy 0.2832\n",
            "đã lưu lại history !\n",
            "Time taken for 1 epoch: 41.60 secs\n"
          ]
        },
        {
          "output_type": "stream",
          "name": "stderr",
          "text": [
            "  1%|▏         | 1/78 [00:00<00:35,  2.14it/s]"
          ]
        },
        {
          "output_type": "stream",
          "name": "stdout",
          "text": [
            "Epoch 184 Batch 0 Loss 0.4725 Accuracy 0.8447\n"
          ]
        },
        {
          "output_type": "stream",
          "name": "stderr",
          "text": [
            " 40%|███▉      | 31/78 [00:14<00:25,  1.84it/s]"
          ]
        },
        {
          "output_type": "stream",
          "name": "stdout",
          "text": [
            "Epoch 184 Batch 30 Loss 0.4428 Accuracy 0.8531\n"
          ]
        },
        {
          "output_type": "stream",
          "name": "stderr",
          "text": [
            " 78%|███████▊  | 61/78 [00:28<00:09,  1.83it/s]"
          ]
        },
        {
          "output_type": "stream",
          "name": "stdout",
          "text": [
            "Epoch 184 Batch 60 Loss 0.4042 Accuracy 0.8662\n"
          ]
        },
        {
          "output_type": "stream",
          "name": "stderr",
          "text": [
            "100%|██████████| 78/78 [00:36<00:00,  2.15it/s]\n"
          ]
        },
        {
          "output_type": "stream",
          "name": "stdout",
          "text": [
            "Epoch 184: Loss 0.3886, Valiation loss 5.9386, Accuracy 0.8714, Valiation accuracy 0.2825\n",
            "đã lưu lại history !\n",
            "Time taken for 1 epoch: 41.60 secs\n"
          ]
        },
        {
          "output_type": "stream",
          "name": "stderr",
          "text": [
            "  1%|▏         | 1/78 [00:00<00:36,  2.12it/s]"
          ]
        },
        {
          "output_type": "stream",
          "name": "stdout",
          "text": [
            "Epoch 185 Batch 0 Loss 0.4527 Accuracy 0.8476\n"
          ]
        },
        {
          "output_type": "stream",
          "name": "stderr",
          "text": [
            " 40%|███▉      | 31/78 [00:14<00:25,  1.83it/s]"
          ]
        },
        {
          "output_type": "stream",
          "name": "stdout",
          "text": [
            "Epoch 185 Batch 30 Loss 0.4214 Accuracy 0.8597\n"
          ]
        },
        {
          "output_type": "stream",
          "name": "stderr",
          "text": [
            " 78%|███████▊  | 61/78 [00:28<00:09,  1.84it/s]"
          ]
        },
        {
          "output_type": "stream",
          "name": "stdout",
          "text": [
            "Epoch 185 Batch 60 Loss 0.3948 Accuracy 0.8690\n"
          ]
        },
        {
          "output_type": "stream",
          "name": "stderr",
          "text": [
            "100%|██████████| 78/78 [00:36<00:00,  2.15it/s]\n"
          ]
        },
        {
          "output_type": "stream",
          "name": "stdout",
          "text": [
            "Epoch 185: Loss 0.3811, Valiation loss 5.9516, Accuracy 0.8735, Valiation accuracy 0.2825\n",
            "đã lưu lại history !\n",
            "Time taken for 1 epoch: 37.01 secs\n",
            "#####################0.4057 -> 0.3811\n",
            "generated(3.3308):\n",
            "[  3 136  73 134 134 134 134 134 134 134 134 134 134 134 134 134 134 134\n",
            " 134 134 134 134 134 134 134 134 134 134 134 134 134 134 134 134 134 134]\n",
            "\n",
            "Non midi note detected. Only returning valid portion. Index, seed 63 (79, 2)\n"
          ]
        },
        {
          "output_type": "display_data",
          "data": {
            "text/plain": [
              "<IPython.core.display.HTML object>"
            ],
            "text/html": [
              "\n",
              "                <div id=\"midiPlayerDiv112873\"></div>\n",
              "                <link rel=\"stylesheet\" href=\"//cuthbertLab.github.io/music21j/css/m21.css\"\n",
              "                    type=\"text/css\" />\n",
              "                \n",
              "                    <script src=\"//cuthbertLab.github.io/music21j/ext/require/require.js\"\n",
              "                    ></script>\n",
              "                \n",
              "                <script>\n",
              "                require.config({\n",
              "                    paths: {'music21': '//cuthbertLab.github.io/music21j/src/music21'}\n",
              "                });\n",
              "                require(['music21'], function() {\n",
              "                               mp = new music21.miditools.MidiPlayer();\n",
              "                               mp.addPlayer(\"#midiPlayerDiv112873\");\n",
              "                               mp.base64Load(\"data:audio/midi;base64,TVRoZAAAAAYAAQACBABNVHJrAAAAGgD/UQMHoSAA/1kCAAAA/1gEBAIYCIgA/y8ATVRyawAAAUcA/wMFUGlhbm8AwAAA4ABAAMAApACQU1qCAIBTAACQVFqCAIBUAACQQVoAkFNahACAQQAAkEhahACASAAAkExahACAUwAAkFFajACAUQAAkFhaiACATAAAgFgAAJBBWgCQU1qEAIBBAACQSFqEAIBIAACQTFqEAIBTAACQUVqQAIBRAACQU1qCAIBTAACQVFqCAIBMAACAVAAAkEBaAJBTWoQAgEAAAJBHWoQAgEcAAJBKWoQAgFMAAJBPWowAgE8AAJBbWogAgEoAAIBbAACQQFoAkFNahACAQAAAkEdahACARwAAkEpahACAUwAAkE9akACATwAAkEpaggCASgAAkExaggCASgAAgEwAAJA+WgCQTVqEAIA+AACQRVqEAIBFAACQSFqEAIBIAACQSlqIAIBKAACQRVqEAIBFAIQAgE0AiAD/LwA=\");\n",
              "                        });\n",
              "                </script>"
            ]
          },
          "metadata": {}
        },
        {
          "output_type": "stream",
          "name": "stdout",
          "text": [
            "Saving checkpoint for epoch 185 at ./ai-music/ckpt/ckpt-39\n"
          ]
        },
        {
          "output_type": "stream",
          "name": "stderr",
          "text": [
            "  1%|▏         | 1/78 [00:00<00:41,  1.87it/s]"
          ]
        },
        {
          "output_type": "stream",
          "name": "stdout",
          "text": [
            "Epoch 186 Batch 0 Loss 0.4043 Accuracy 0.8695\n"
          ]
        },
        {
          "output_type": "stream",
          "name": "stderr",
          "text": [
            " 40%|███▉      | 31/78 [00:14<00:25,  1.83it/s]"
          ]
        },
        {
          "output_type": "stream",
          "name": "stdout",
          "text": [
            "Epoch 186 Batch 30 Loss 0.4303 Accuracy 0.8569\n"
          ]
        },
        {
          "output_type": "stream",
          "name": "stderr",
          "text": [
            " 78%|███████▊  | 61/78 [00:28<00:09,  1.82it/s]"
          ]
        },
        {
          "output_type": "stream",
          "name": "stdout",
          "text": [
            "Epoch 186 Batch 60 Loss 0.3979 Accuracy 0.8679\n"
          ]
        },
        {
          "output_type": "stream",
          "name": "stderr",
          "text": [
            "100%|██████████| 78/78 [00:36<00:00,  2.14it/s]\n"
          ]
        },
        {
          "output_type": "stream",
          "name": "stdout",
          "text": [
            "Epoch 186: Loss 0.3824, Valiation loss 5.9664, Accuracy 0.8732, Valiation accuracy 0.2821\n",
            "đã lưu lại history !\n",
            "Time taken for 1 epoch: 41.38 secs\n"
          ]
        },
        {
          "output_type": "stream",
          "name": "stderr",
          "text": [
            "  1%|▏         | 1/78 [00:00<00:36,  2.13it/s]"
          ]
        },
        {
          "output_type": "stream",
          "name": "stdout",
          "text": [
            "Epoch 187 Batch 0 Loss 0.4086 Accuracy 0.8645\n"
          ]
        },
        {
          "output_type": "stream",
          "name": "stderr",
          "text": [
            " 40%|███▉      | 31/78 [00:14<00:25,  1.83it/s]"
          ]
        },
        {
          "output_type": "stream",
          "name": "stdout",
          "text": [
            "Epoch 187 Batch 30 Loss 0.4160 Accuracy 0.8618\n"
          ]
        },
        {
          "output_type": "stream",
          "name": "stderr",
          "text": [
            " 78%|███████▊  | 61/78 [00:28<00:09,  1.83it/s]"
          ]
        },
        {
          "output_type": "stream",
          "name": "stdout",
          "text": [
            "Epoch 187 Batch 60 Loss 0.3880 Accuracy 0.8713\n"
          ]
        },
        {
          "output_type": "stream",
          "name": "stderr",
          "text": [
            "100%|██████████| 78/78 [00:36<00:00,  2.15it/s]\n"
          ]
        },
        {
          "output_type": "stream",
          "name": "stdout",
          "text": [
            "Epoch 187: Loss 0.3738, Valiation loss 5.9820, Accuracy 0.8761, Valiation accuracy 0.2815\n",
            "đã lưu lại history !\n",
            "Time taken for 1 epoch: 36.88 secs\n"
          ]
        },
        {
          "output_type": "stream",
          "name": "stderr",
          "text": [
            "  1%|▏         | 1/78 [00:00<00:36,  2.13it/s]"
          ]
        },
        {
          "output_type": "stream",
          "name": "stdout",
          "text": [
            "Epoch 188 Batch 0 Loss 0.4101 Accuracy 0.8633\n"
          ]
        },
        {
          "output_type": "stream",
          "name": "stderr",
          "text": [
            " 40%|███▉      | 31/78 [00:14<00:25,  1.83it/s]"
          ]
        },
        {
          "output_type": "stream",
          "name": "stdout",
          "text": [
            "Epoch 188 Batch 30 Loss 0.4158 Accuracy 0.8621\n"
          ]
        },
        {
          "output_type": "stream",
          "name": "stderr",
          "text": [
            " 78%|███████▊  | 61/78 [00:28<00:09,  1.83it/s]"
          ]
        },
        {
          "output_type": "stream",
          "name": "stdout",
          "text": [
            "Epoch 188 Batch 60 Loss 0.3812 Accuracy 0.8735\n"
          ]
        },
        {
          "output_type": "stream",
          "name": "stderr",
          "text": [
            "100%|██████████| 78/78 [00:36<00:00,  2.14it/s]\n"
          ]
        },
        {
          "output_type": "stream",
          "name": "stdout",
          "text": [
            "Epoch 188: Loss 0.3708, Valiation loss 5.9904, Accuracy 0.8771, Valiation accuracy 0.2816\n",
            "đã lưu lại history !\n",
            "Time taken for 1 epoch: 37.06 secs\n"
          ]
        },
        {
          "output_type": "stream",
          "name": "stderr",
          "text": [
            "  1%|▏         | 1/78 [00:00<00:37,  2.05it/s]"
          ]
        },
        {
          "output_type": "stream",
          "name": "stdout",
          "text": [
            "Epoch 189 Batch 0 Loss 0.4096 Accuracy 0.8651\n"
          ]
        },
        {
          "output_type": "stream",
          "name": "stderr",
          "text": [
            " 40%|███▉      | 31/78 [00:14<00:25,  1.82it/s]"
          ]
        },
        {
          "output_type": "stream",
          "name": "stdout",
          "text": [
            "Epoch 189 Batch 30 Loss 0.4201 Accuracy 0.8603\n"
          ]
        },
        {
          "output_type": "stream",
          "name": "stderr",
          "text": [
            " 78%|███████▊  | 61/78 [00:28<00:09,  1.82it/s]"
          ]
        },
        {
          "output_type": "stream",
          "name": "stdout",
          "text": [
            "Epoch 189 Batch 60 Loss 0.3829 Accuracy 0.8729\n"
          ]
        },
        {
          "output_type": "stream",
          "name": "stderr",
          "text": [
            "100%|██████████| 78/78 [00:36<00:00,  2.14it/s]\n"
          ]
        },
        {
          "output_type": "stream",
          "name": "stdout",
          "text": [
            "Epoch 189: Loss 0.3698, Valiation loss 6.0030, Accuracy 0.8774, Valiation accuracy 0.2813\n",
            "đã lưu lại history !\n",
            "Time taken for 1 epoch: 36.96 secs\n"
          ]
        },
        {
          "output_type": "stream",
          "name": "stderr",
          "text": [
            "  1%|▏         | 1/78 [00:00<00:36,  2.12it/s]"
          ]
        },
        {
          "output_type": "stream",
          "name": "stdout",
          "text": [
            "Epoch 190 Batch 0 Loss 0.3726 Accuracy 0.8788\n"
          ]
        },
        {
          "output_type": "stream",
          "name": "stderr",
          "text": [
            " 40%|███▉      | 31/78 [00:14<00:25,  1.83it/s]"
          ]
        },
        {
          "output_type": "stream",
          "name": "stdout",
          "text": [
            "Epoch 190 Batch 30 Loss 0.4148 Accuracy 0.8618\n"
          ]
        },
        {
          "output_type": "stream",
          "name": "stderr",
          "text": [
            " 78%|███████▊  | 61/78 [00:28<00:09,  1.82it/s]"
          ]
        },
        {
          "output_type": "stream",
          "name": "stdout",
          "text": [
            "Epoch 190 Batch 60 Loss 0.3791 Accuracy 0.8740\n"
          ]
        },
        {
          "output_type": "stream",
          "name": "stderr",
          "text": [
            "100%|██████████| 78/78 [00:36<00:00,  2.14it/s]\n"
          ]
        },
        {
          "output_type": "stream",
          "name": "stdout",
          "text": [
            "Epoch 190: Loss 0.3661, Valiation loss 6.0155, Accuracy 0.8785, Valiation accuracy 0.2810\n",
            "đã lưu lại history !\n",
            "Time taken for 1 epoch: 41.61 secs\n",
            "#####################0.3811 -> 0.3661\n",
            "generated(3.8268):\n",
            "[  3 136  73 134 134 134 134 134 134 134 134 134 134 134 134 134 134 134\n",
            " 134 134 134 134 134 134 134 134 134 134 134 134 134 134 134 134 134 134]\n",
            "\n",
            "Non midi note detected. Only returning valid portion. Index, seed 63 (79, 2)\n"
          ]
        },
        {
          "output_type": "display_data",
          "data": {
            "text/plain": [
              "<IPython.core.display.HTML object>"
            ],
            "text/html": [
              "\n",
              "                <div id=\"midiPlayerDiv113307\"></div>\n",
              "                <link rel=\"stylesheet\" href=\"//cuthbertLab.github.io/music21j/css/m21.css\"\n",
              "                    type=\"text/css\" />\n",
              "                \n",
              "                    <script src=\"//cuthbertLab.github.io/music21j/ext/require/require.js\"\n",
              "                    ></script>\n",
              "                \n",
              "                <script>\n",
              "                require.config({\n",
              "                    paths: {'music21': '//cuthbertLab.github.io/music21j/src/music21'}\n",
              "                });\n",
              "                require(['music21'], function() {\n",
              "                               mp = new music21.miditools.MidiPlayer();\n",
              "                               mp.addPlayer(\"#midiPlayerDiv113307\");\n",
              "                               mp.base64Load(\"data:audio/midi;base64,TVRoZAAAAAYAAQACBABNVHJrAAAAGgD/UQMHoSAA/1kCAAAA/1gEBAIYCIgA/y8ATVRyawAAAUcA/wMFUGlhbm8AwAAA4ABAAMAApACQU1qCAIBTAACQVFqCAIBUAACQQVoAkFNahACAQQAAkEhahACASAAAkExahACAUwAAkFFajACAUQAAkFhaiACATAAAgFgAAJBBWgCQU1qEAIBBAACQSFqEAIBIAACQTFqEAIBTAACQUVqQAIBRAACQU1qCAIBTAACQVFqCAIBMAACAVAAAkEBaAJBTWoQAgEAAAJBHWoQAgEcAAJBKWoQAgFMAAJBPWowAgE8AAJBbWogAgEoAAIBbAACQQFoAkFNahACAQAAAkEdahACARwAAkEpahACAUwAAkE9akACATwAAkEpaggCASgAAkExaggCASgAAgEwAAJA+WgCQTVqEAIA+AACQRVqEAIBFAACQSFqEAIBIAACQSlqIAIBKAACQRVqEAIBFAIQAgE0AiAD/LwA=\");\n",
              "                        });\n",
              "                </script>"
            ]
          },
          "metadata": {}
        },
        {
          "output_type": "stream",
          "name": "stdout",
          "text": [
            "Saving checkpoint for epoch 190 at ./ai-music/ckpt/ckpt-40\n"
          ]
        },
        {
          "output_type": "stream",
          "name": "stderr",
          "text": [
            "  1%|▏         | 1/78 [00:00<00:39,  1.96it/s]"
          ]
        },
        {
          "output_type": "stream",
          "name": "stdout",
          "text": [
            "Epoch 191 Batch 0 Loss 0.4080 Accuracy 0.8672\n"
          ]
        },
        {
          "output_type": "stream",
          "name": "stderr",
          "text": [
            " 40%|███▉      | 31/78 [00:14<00:25,  1.83it/s]"
          ]
        },
        {
          "output_type": "stream",
          "name": "stdout",
          "text": [
            "Epoch 191 Batch 30 Loss 0.4096 Accuracy 0.8642\n"
          ]
        },
        {
          "output_type": "stream",
          "name": "stderr",
          "text": [
            " 78%|███████▊  | 61/78 [00:28<00:09,  1.81it/s]"
          ]
        },
        {
          "output_type": "stream",
          "name": "stdout",
          "text": [
            "Epoch 191 Batch 60 Loss 0.3790 Accuracy 0.8743\n"
          ]
        },
        {
          "output_type": "stream",
          "name": "stderr",
          "text": [
            "100%|██████████| 78/78 [00:36<00:00,  2.14it/s]\n"
          ]
        },
        {
          "output_type": "stream",
          "name": "stdout",
          "text": [
            "Epoch 191: Loss 0.3650, Valiation loss 6.0253, Accuracy 0.8791, Valiation accuracy 0.2811\n",
            "đã lưu lại history !\n",
            "Time taken for 1 epoch: 37.16 secs\n"
          ]
        },
        {
          "output_type": "stream",
          "name": "stderr",
          "text": [
            "  1%|▏         | 1/78 [00:00<00:36,  2.09it/s]"
          ]
        },
        {
          "output_type": "stream",
          "name": "stdout",
          "text": [
            "Epoch 192 Batch 0 Loss 0.3726 Accuracy 0.8799\n"
          ]
        },
        {
          "output_type": "stream",
          "name": "stderr",
          "text": [
            " 40%|███▉      | 31/78 [00:14<00:25,  1.83it/s]"
          ]
        },
        {
          "output_type": "stream",
          "name": "stdout",
          "text": [
            "Epoch 192 Batch 30 Loss 0.4028 Accuracy 0.8665\n"
          ]
        },
        {
          "output_type": "stream",
          "name": "stderr",
          "text": [
            " 78%|███████▊  | 61/78 [00:28<00:09,  1.83it/s]"
          ]
        },
        {
          "output_type": "stream",
          "name": "stdout",
          "text": [
            "Epoch 192 Batch 60 Loss 0.3707 Accuracy 0.8772\n"
          ]
        },
        {
          "output_type": "stream",
          "name": "stderr",
          "text": [
            "100%|██████████| 78/78 [00:36<00:00,  2.15it/s]\n"
          ]
        },
        {
          "output_type": "stream",
          "name": "stdout",
          "text": [
            "Epoch 192: Loss 0.3577, Valiation loss 6.0338, Accuracy 0.8818, Valiation accuracy 0.2811\n",
            "đã lưu lại history !\n",
            "Time taken for 1 epoch: 41.61 secs\n"
          ]
        },
        {
          "output_type": "stream",
          "name": "stderr",
          "text": [
            "  1%|▏         | 1/78 [00:00<00:35,  2.15it/s]"
          ]
        },
        {
          "output_type": "stream",
          "name": "stdout",
          "text": [
            "Epoch 193 Batch 0 Loss 0.3987 Accuracy 0.8684\n"
          ]
        },
        {
          "output_type": "stream",
          "name": "stderr",
          "text": [
            " 40%|███▉      | 31/78 [00:14<00:25,  1.83it/s]"
          ]
        },
        {
          "output_type": "stream",
          "name": "stdout",
          "text": [
            "Epoch 193 Batch 30 Loss 0.4031 Accuracy 0.8658\n"
          ]
        },
        {
          "output_type": "stream",
          "name": "stderr",
          "text": [
            " 78%|███████▊  | 61/78 [00:28<00:09,  1.81it/s]"
          ]
        },
        {
          "output_type": "stream",
          "name": "stdout",
          "text": [
            "Epoch 193 Batch 60 Loss 0.3692 Accuracy 0.8776\n"
          ]
        },
        {
          "output_type": "stream",
          "name": "stderr",
          "text": [
            "100%|██████████| 78/78 [00:36<00:00,  2.14it/s]\n"
          ]
        },
        {
          "output_type": "stream",
          "name": "stdout",
          "text": [
            "Epoch 193: Loss 0.3562, Valiation loss 6.0448, Accuracy 0.8820, Valiation accuracy 0.2810\n",
            "đã lưu lại history !\n",
            "Time taken for 1 epoch: 37.11 secs\n"
          ]
        },
        {
          "output_type": "stream",
          "name": "stderr",
          "text": [
            "  1%|▏         | 1/78 [00:00<00:37,  2.07it/s]"
          ]
        },
        {
          "output_type": "stream",
          "name": "stdout",
          "text": [
            "Epoch 194 Batch 0 Loss 0.3821 Accuracy 0.8722\n"
          ]
        },
        {
          "output_type": "stream",
          "name": "stderr",
          "text": [
            " 40%|███▉      | 31/78 [00:14<00:25,  1.82it/s]"
          ]
        },
        {
          "output_type": "stream",
          "name": "stdout",
          "text": [
            "Epoch 194 Batch 30 Loss 0.3984 Accuracy 0.8675\n"
          ]
        },
        {
          "output_type": "stream",
          "name": "stderr",
          "text": [
            " 78%|███████▊  | 61/78 [00:28<00:09,  1.83it/s]"
          ]
        },
        {
          "output_type": "stream",
          "name": "stdout",
          "text": [
            "Epoch 194 Batch 60 Loss 0.3715 Accuracy 0.8769\n"
          ]
        },
        {
          "output_type": "stream",
          "name": "stderr",
          "text": [
            "100%|██████████| 78/78 [00:36<00:00,  2.15it/s]\n"
          ]
        },
        {
          "output_type": "stream",
          "name": "stdout",
          "text": [
            "Epoch 194: Loss 0.3606, Valiation loss 6.0543, Accuracy 0.8806, Valiation accuracy 0.2809\n",
            "đã lưu lại history !\n",
            "Time taken for 1 epoch: 41.61 secs\n"
          ]
        },
        {
          "output_type": "stream",
          "name": "stderr",
          "text": [
            "  1%|▏         | 1/78 [00:00<00:36,  2.14it/s]"
          ]
        },
        {
          "output_type": "stream",
          "name": "stdout",
          "text": [
            "Epoch 195 Batch 0 Loss 0.3953 Accuracy 0.8712\n"
          ]
        },
        {
          "output_type": "stream",
          "name": "stderr",
          "text": [
            " 40%|███▉      | 31/78 [00:14<00:25,  1.83it/s]"
          ]
        },
        {
          "output_type": "stream",
          "name": "stdout",
          "text": [
            "Epoch 195 Batch 30 Loss 0.3957 Accuracy 0.8686\n"
          ]
        },
        {
          "output_type": "stream",
          "name": "stderr",
          "text": [
            " 78%|███████▊  | 61/78 [00:28<00:09,  1.82it/s]"
          ]
        },
        {
          "output_type": "stream",
          "name": "stdout",
          "text": [
            "Epoch 195 Batch 60 Loss 0.3681 Accuracy 0.8780\n"
          ]
        },
        {
          "output_type": "stream",
          "name": "stderr",
          "text": [
            "100%|██████████| 78/78 [00:36<00:00,  2.14it/s]\n"
          ]
        },
        {
          "output_type": "stream",
          "name": "stdout",
          "text": [
            "Epoch 195: Loss 0.3537, Valiation loss 6.0640, Accuracy 0.8827, Valiation accuracy 0.2809\n",
            "đã lưu lại history !\n",
            "Time taken for 1 epoch: 36.96 secs\n",
            "#####################0.3661 -> 0.3537\n",
            "generated(3.6082):\n",
            "[  3 136  73 134 134 134 134 134 134 134 134 134 134 134 134 134 134 134\n",
            " 134 134 134 134 134 134 134 134 134 134 134 134 134 134 134 134 134 134]\n",
            "\n",
            "Non midi note detected. Only returning valid portion. Index, seed 63 (79, 2)\n"
          ]
        },
        {
          "output_type": "display_data",
          "data": {
            "text/plain": [
              "<IPython.core.display.HTML object>"
            ],
            "text/html": [
              "\n",
              "                <div id=\"midiPlayerDiv113741\"></div>\n",
              "                <link rel=\"stylesheet\" href=\"//cuthbertLab.github.io/music21j/css/m21.css\"\n",
              "                    type=\"text/css\" />\n",
              "                \n",
              "                    <script src=\"//cuthbertLab.github.io/music21j/ext/require/require.js\"\n",
              "                    ></script>\n",
              "                \n",
              "                <script>\n",
              "                require.config({\n",
              "                    paths: {'music21': '//cuthbertLab.github.io/music21j/src/music21'}\n",
              "                });\n",
              "                require(['music21'], function() {\n",
              "                               mp = new music21.miditools.MidiPlayer();\n",
              "                               mp.addPlayer(\"#midiPlayerDiv113741\");\n",
              "                               mp.base64Load(\"data:audio/midi;base64,TVRoZAAAAAYAAQACBABNVHJrAAAAGgD/UQMHoSAA/1kCAAAA/1gEBAIYCIgA/y8ATVRyawAAAUcA/wMFUGlhbm8AwAAA4ABAAMAApACQU1qCAIBTAACQVFqCAIBUAACQQVoAkFNahACAQQAAkEhahACASAAAkExahACAUwAAkFFajACAUQAAkFhaiACATAAAgFgAAJBBWgCQU1qEAIBBAACQSFqEAIBIAACQTFqEAIBTAACQUVqQAIBRAACQU1qCAIBTAACQVFqCAIBMAACAVAAAkEBaAJBTWoQAgEAAAJBHWoQAgEcAAJBKWoQAgFMAAJBPWowAgE8AAJBbWogAgEoAAIBbAACQQFoAkFNahACAQAAAkEdahACARwAAkEpahACAUwAAkE9akACATwAAkEpaggCASgAAkExaggCASgAAgEwAAJA+WgCQTVqEAIA+AACQRVqEAIBFAACQSFqEAIBIAACQSlqIAIBKAACQRVqEAIBFAIQAgE0AiAD/LwA=\");\n",
              "                        });\n",
              "                </script>"
            ]
          },
          "metadata": {}
        },
        {
          "output_type": "stream",
          "name": "stdout",
          "text": [
            "Saving checkpoint for epoch 195 at ./ai-music/ckpt/ckpt-41\n"
          ]
        },
        {
          "output_type": "stream",
          "name": "stderr",
          "text": [
            "  1%|▏         | 1/78 [00:00<00:39,  1.94it/s]"
          ]
        },
        {
          "output_type": "stream",
          "name": "stdout",
          "text": [
            "Epoch 196 Batch 0 Loss 0.3629 Accuracy 0.8805\n"
          ]
        },
        {
          "output_type": "stream",
          "name": "stderr",
          "text": [
            " 40%|███▉      | 31/78 [00:14<00:25,  1.83it/s]"
          ]
        },
        {
          "output_type": "stream",
          "name": "stdout",
          "text": [
            "Epoch 196 Batch 30 Loss 0.3882 Accuracy 0.8712\n"
          ]
        },
        {
          "output_type": "stream",
          "name": "stderr",
          "text": [
            " 78%|███████▊  | 61/78 [00:28<00:09,  1.83it/s]"
          ]
        },
        {
          "output_type": "stream",
          "name": "stdout",
          "text": [
            "Epoch 196 Batch 60 Loss 0.3604 Accuracy 0.8808\n"
          ]
        },
        {
          "output_type": "stream",
          "name": "stderr",
          "text": [
            "100%|██████████| 78/78 [00:36<00:00,  2.14it/s]\n"
          ]
        },
        {
          "output_type": "stream",
          "name": "stdout",
          "text": [
            "Epoch 196: Loss 0.3462, Valiation loss 6.0778, Accuracy 0.8855, Valiation accuracy 0.2808\n",
            "đã lưu lại history !\n",
            "Time taken for 1 epoch: 37.09 secs\n"
          ]
        },
        {
          "output_type": "stream",
          "name": "stderr",
          "text": [
            "  1%|▏         | 1/78 [00:00<00:36,  2.12it/s]"
          ]
        },
        {
          "output_type": "stream",
          "name": "stdout",
          "text": [
            "Epoch 197 Batch 0 Loss 0.4143 Accuracy 0.8651\n"
          ]
        },
        {
          "output_type": "stream",
          "name": "stderr",
          "text": [
            " 40%|███▉      | 31/78 [00:14<00:25,  1.83it/s]"
          ]
        },
        {
          "output_type": "stream",
          "name": "stdout",
          "text": [
            "Epoch 197 Batch 30 Loss 0.3888 Accuracy 0.8708\n"
          ]
        },
        {
          "output_type": "stream",
          "name": "stderr",
          "text": [
            " 78%|███████▊  | 61/78 [00:28<00:09,  1.83it/s]"
          ]
        },
        {
          "output_type": "stream",
          "name": "stdout",
          "text": [
            "Epoch 197 Batch 60 Loss 0.3574 Accuracy 0.8818\n"
          ]
        },
        {
          "output_type": "stream",
          "name": "stderr",
          "text": [
            "100%|██████████| 78/78 [00:36<00:00,  2.15it/s]\n"
          ]
        },
        {
          "output_type": "stream",
          "name": "stdout",
          "text": [
            "Epoch 197: Loss 0.3451, Valiation loss 6.0865, Accuracy 0.8859, Valiation accuracy 0.2808\n",
            "đã lưu lại history !\n",
            "Time taken for 1 epoch: 36.93 secs\n"
          ]
        },
        {
          "output_type": "stream",
          "name": "stderr",
          "text": [
            "  1%|▏         | 1/78 [00:00<00:37,  2.06it/s]"
          ]
        },
        {
          "output_type": "stream",
          "name": "stdout",
          "text": [
            "Epoch 198 Batch 0 Loss 0.3946 Accuracy 0.8664\n"
          ]
        },
        {
          "output_type": "stream",
          "name": "stderr",
          "text": [
            " 40%|███▉      | 31/78 [00:14<00:25,  1.82it/s]"
          ]
        },
        {
          "output_type": "stream",
          "name": "stdout",
          "text": [
            "Epoch 198 Batch 30 Loss 0.3861 Accuracy 0.8717\n"
          ]
        },
        {
          "output_type": "stream",
          "name": "stderr",
          "text": [
            " 78%|███████▊  | 61/78 [00:28<00:09,  1.81it/s]"
          ]
        },
        {
          "output_type": "stream",
          "name": "stdout",
          "text": [
            "Epoch 198 Batch 60 Loss 0.3597 Accuracy 0.8807\n"
          ]
        },
        {
          "output_type": "stream",
          "name": "stderr",
          "text": [
            "100%|██████████| 78/78 [00:36<00:00,  2.14it/s]\n"
          ]
        },
        {
          "output_type": "stream",
          "name": "stdout",
          "text": [
            "Epoch 198: Loss 0.3469, Valiation loss 6.0968, Accuracy 0.8852, Valiation accuracy 0.2809\n",
            "đã lưu lại history !\n",
            "Time taken for 1 epoch: 41.41 secs\n"
          ]
        },
        {
          "output_type": "stream",
          "name": "stderr",
          "text": [
            "  1%|▏         | 1/78 [00:00<00:37,  2.06it/s]"
          ]
        },
        {
          "output_type": "stream",
          "name": "stdout",
          "text": [
            "Epoch 199 Batch 0 Loss 0.3755 Accuracy 0.8751\n"
          ]
        },
        {
          "output_type": "stream",
          "name": "stderr",
          "text": [
            " 40%|███▉      | 31/78 [00:14<00:25,  1.82it/s]"
          ]
        },
        {
          "output_type": "stream",
          "name": "stdout",
          "text": [
            "Epoch 199 Batch 30 Loss 0.3760 Accuracy 0.8750\n"
          ]
        },
        {
          "output_type": "stream",
          "name": "stderr",
          "text": [
            " 78%|███████▊  | 61/78 [00:28<00:09,  1.83it/s]"
          ]
        },
        {
          "output_type": "stream",
          "name": "stdout",
          "text": [
            "Epoch 199 Batch 60 Loss 0.3495 Accuracy 0.8840\n"
          ]
        },
        {
          "output_type": "stream",
          "name": "stderr",
          "text": [
            "100%|██████████| 78/78 [00:36<00:00,  2.15it/s]\n"
          ]
        },
        {
          "output_type": "stream",
          "name": "stdout",
          "text": [
            "Epoch 199: Loss 0.3391, Valiation loss 6.1064, Accuracy 0.8877, Valiation accuracy 0.2807\n",
            "đã lưu lại history !\n",
            "Time taken for 1 epoch: 36.98 secs\n"
          ]
        },
        {
          "output_type": "stream",
          "name": "stderr",
          "text": [
            "  1%|▏         | 1/78 [00:00<00:35,  2.14it/s]"
          ]
        },
        {
          "output_type": "stream",
          "name": "stdout",
          "text": [
            "Epoch 200 Batch 0 Loss 0.3578 Accuracy 0.8823\n"
          ]
        },
        {
          "output_type": "stream",
          "name": "stderr",
          "text": [
            " 40%|███▉      | 31/78 [00:14<00:25,  1.82it/s]"
          ]
        },
        {
          "output_type": "stream",
          "name": "stdout",
          "text": [
            "Epoch 200 Batch 30 Loss 0.3792 Accuracy 0.8744\n"
          ]
        },
        {
          "output_type": "stream",
          "name": "stderr",
          "text": [
            " 78%|███████▊  | 61/78 [00:28<00:09,  1.82it/s]"
          ]
        },
        {
          "output_type": "stream",
          "name": "stdout",
          "text": [
            "Epoch 200 Batch 60 Loss 0.3476 Accuracy 0.8851\n"
          ]
        },
        {
          "output_type": "stream",
          "name": "stderr",
          "text": [
            "100%|██████████| 78/78 [00:36<00:00,  2.14it/s]\n"
          ]
        },
        {
          "output_type": "stream",
          "name": "stdout",
          "text": [
            "Epoch 200: Loss 0.3369, Valiation loss 6.1147, Accuracy 0.8887, Valiation accuracy 0.2807\n",
            "đã lưu lại history !\n",
            "Time taken for 1 epoch: 36.96 secs\n",
            "#####################0.3537 -> 0.3369\n",
            "generated(3.4313):\n",
            "[  3 136  73 134 134 134 134 134 134 134 134 134 134 134 134 134 134 134\n",
            " 134 134 134 134 134 134 134 134 134 134 134 134 134 134 134 134 134 134]\n",
            "\n",
            "Non midi note detected. Only returning valid portion. Index, seed 63 (79, 2)\n"
          ]
        },
        {
          "output_type": "display_data",
          "data": {
            "text/plain": [
              "<IPython.core.display.HTML object>"
            ],
            "text/html": [
              "\n",
              "                <div id=\"midiPlayerDiv114175\"></div>\n",
              "                <link rel=\"stylesheet\" href=\"//cuthbertLab.github.io/music21j/css/m21.css\"\n",
              "                    type=\"text/css\" />\n",
              "                \n",
              "                    <script src=\"//cuthbertLab.github.io/music21j/ext/require/require.js\"\n",
              "                    ></script>\n",
              "                \n",
              "                <script>\n",
              "                require.config({\n",
              "                    paths: {'music21': '//cuthbertLab.github.io/music21j/src/music21'}\n",
              "                });\n",
              "                require(['music21'], function() {\n",
              "                               mp = new music21.miditools.MidiPlayer();\n",
              "                               mp.addPlayer(\"#midiPlayerDiv114175\");\n",
              "                               mp.base64Load(\"data:audio/midi;base64,TVRoZAAAAAYAAQACBABNVHJrAAAAGgD/UQMHoSAA/1kCAAAA/1gEBAIYCIgA/y8ATVRyawAAAUcA/wMFUGlhbm8AwAAA4ABAAMAApACQU1qCAIBTAACQVFqCAIBUAACQQVoAkFNahACAQQAAkEhahACASAAAkExahACAUwAAkFFajACAUQAAkFhaiACATAAAgFgAAJBBWgCQU1qEAIBBAACQSFqEAIBIAACQTFqEAIBTAACQUVqQAIBRAACQU1qCAIBTAACQVFqCAIBMAACAVAAAkEBaAJBTWoQAgEAAAJBHWoQAgEcAAJBKWoQAgFMAAJBPWowAgE8AAJBbWogAgEoAAIBbAACQQFoAkFNahACAQAAAkEdahACARwAAkEpahACAUwAAkE9akACATwAAkEpaggCASgAAkExaggCASgAAgEwAAJA+WgCQTVqEAIA+AACQRVqEAIBFAACQSFqEAIBIAACQSlqIAIBKAACQRVqEAIBFAIQAgE0AiAD/LwA=\");\n",
              "                        });\n",
              "                </script>"
            ]
          },
          "metadata": {}
        },
        {
          "output_type": "stream",
          "name": "stdout",
          "text": [
            "Saving checkpoint for epoch 200 at ./ai-music/ckpt/ckpt-42\n"
          ]
        },
        {
          "output_type": "stream",
          "name": "stderr",
          "text": [
            "  1%|▏         | 1/78 [00:00<00:41,  1.87it/s]"
          ]
        },
        {
          "output_type": "stream",
          "name": "stdout",
          "text": [
            "Epoch 201 Batch 0 Loss 0.3289 Accuracy 0.8919\n"
          ]
        },
        {
          "output_type": "stream",
          "name": "stderr",
          "text": [
            " 40%|███▉      | 31/78 [00:14<00:25,  1.82it/s]"
          ]
        },
        {
          "output_type": "stream",
          "name": "stdout",
          "text": [
            "Epoch 201 Batch 30 Loss 0.3752 Accuracy 0.8754\n"
          ]
        },
        {
          "output_type": "stream",
          "name": "stderr",
          "text": [
            " 78%|███████▊  | 61/78 [00:28<00:09,  1.82it/s]"
          ]
        },
        {
          "output_type": "stream",
          "name": "stdout",
          "text": [
            "Epoch 201 Batch 60 Loss 0.3458 Accuracy 0.8856\n"
          ]
        },
        {
          "output_type": "stream",
          "name": "stderr",
          "text": [
            "100%|██████████| 78/78 [00:36<00:00,  2.14it/s]\n"
          ]
        },
        {
          "output_type": "stream",
          "name": "stdout",
          "text": [
            "Epoch 201: Loss 0.3337, Valiation loss 6.1238, Accuracy 0.8896, Valiation accuracy 0.2806\n",
            "đã lưu lại history !\n",
            "Time taken for 1 epoch: 41.61 secs\n"
          ]
        },
        {
          "output_type": "stream",
          "name": "stderr",
          "text": [
            "  1%|▏         | 1/78 [00:00<00:37,  2.07it/s]"
          ]
        },
        {
          "output_type": "stream",
          "name": "stdout",
          "text": [
            "Epoch 202 Batch 0 Loss 0.3653 Accuracy 0.8775\n"
          ]
        },
        {
          "output_type": "stream",
          "name": "stderr",
          "text": [
            " 40%|███▉      | 31/78 [00:14<00:25,  1.82it/s]"
          ]
        },
        {
          "output_type": "stream",
          "name": "stdout",
          "text": [
            "Epoch 202 Batch 30 Loss 0.3702 Accuracy 0.8771\n"
          ]
        },
        {
          "output_type": "stream",
          "name": "stderr",
          "text": [
            " 78%|███████▊  | 61/78 [00:28<00:09,  1.81it/s]"
          ]
        },
        {
          "output_type": "stream",
          "name": "stdout",
          "text": [
            "Epoch 202 Batch 60 Loss 0.3441 Accuracy 0.8859\n"
          ]
        },
        {
          "output_type": "stream",
          "name": "stderr",
          "text": [
            "100%|██████████| 78/78 [00:36<00:00,  2.14it/s]\n"
          ]
        },
        {
          "output_type": "stream",
          "name": "stdout",
          "text": [
            "Epoch 202: Loss 0.3326, Valiation loss 6.1310, Accuracy 0.8898, Valiation accuracy 0.2806\n",
            "đã lưu lại history !\n",
            "Time taken for 1 epoch: 41.60 secs\n"
          ]
        },
        {
          "output_type": "stream",
          "name": "stderr",
          "text": [
            "  1%|▏         | 1/78 [00:00<00:35,  2.15it/s]"
          ]
        },
        {
          "output_type": "stream",
          "name": "stdout",
          "text": [
            "Epoch 203 Batch 0 Loss 0.3534 Accuracy 0.8845\n"
          ]
        },
        {
          "output_type": "stream",
          "name": "stderr",
          "text": [
            " 40%|███▉      | 31/78 [00:14<00:25,  1.83it/s]"
          ]
        },
        {
          "output_type": "stream",
          "name": "stdout",
          "text": [
            "Epoch 203 Batch 30 Loss 0.3673 Accuracy 0.8782\n"
          ]
        },
        {
          "output_type": "stream",
          "name": "stderr",
          "text": [
            " 78%|███████▊  | 61/78 [00:28<00:09,  1.83it/s]"
          ]
        },
        {
          "output_type": "stream",
          "name": "stdout",
          "text": [
            "Epoch 203 Batch 60 Loss 0.3403 Accuracy 0.8874\n"
          ]
        },
        {
          "output_type": "stream",
          "name": "stderr",
          "text": [
            "100%|██████████| 78/78 [00:36<00:00,  2.15it/s]\n"
          ]
        },
        {
          "output_type": "stream",
          "name": "stdout",
          "text": [
            "Epoch 203: Loss 0.3285, Valiation loss 6.1430, Accuracy 0.8915, Valiation accuracy 0.2805\n",
            "đã lưu lại history !\n",
            "Time taken for 1 epoch: 37.00 secs\n"
          ]
        },
        {
          "output_type": "stream",
          "name": "stderr",
          "text": [
            "  1%|▏         | 1/78 [00:00<00:36,  2.09it/s]"
          ]
        },
        {
          "output_type": "stream",
          "name": "stdout",
          "text": [
            "Epoch 204 Batch 0 Loss 0.3685 Accuracy 0.8786\n"
          ]
        },
        {
          "output_type": "stream",
          "name": "stderr",
          "text": [
            " 40%|███▉      | 31/78 [00:14<00:25,  1.82it/s]"
          ]
        },
        {
          "output_type": "stream",
          "name": "stdout",
          "text": [
            "Epoch 204 Batch 30 Loss 0.3702 Accuracy 0.8771\n"
          ]
        },
        {
          "output_type": "stream",
          "name": "stderr",
          "text": [
            " 78%|███████▊  | 61/78 [00:28<00:09,  1.81it/s]"
          ]
        },
        {
          "output_type": "stream",
          "name": "stdout",
          "text": [
            "Epoch 204 Batch 60 Loss 0.3380 Accuracy 0.8881\n"
          ]
        },
        {
          "output_type": "stream",
          "name": "stderr",
          "text": [
            "100%|██████████| 78/78 [00:36<00:00,  2.14it/s]\n"
          ]
        },
        {
          "output_type": "stream",
          "name": "stdout",
          "text": [
            "Epoch 204: Loss 0.3269, Valiation loss 6.1524, Accuracy 0.8918, Valiation accuracy 0.2805\n",
            "đã lưu lại history !\n",
            "Time taken for 1 epoch: 41.60 secs\n"
          ]
        },
        {
          "output_type": "stream",
          "name": "stderr",
          "text": [
            "  1%|▏         | 1/78 [00:00<00:35,  2.15it/s]"
          ]
        },
        {
          "output_type": "stream",
          "name": "stdout",
          "text": [
            "Epoch 205 Batch 0 Loss 0.3381 Accuracy 0.8889\n"
          ]
        },
        {
          "output_type": "stream",
          "name": "stderr",
          "text": [
            " 40%|███▉      | 31/78 [00:14<00:25,  1.83it/s]"
          ]
        },
        {
          "output_type": "stream",
          "name": "stdout",
          "text": [
            "Epoch 205 Batch 30 Loss 0.3615 Accuracy 0.8800\n"
          ]
        },
        {
          "output_type": "stream",
          "name": "stderr",
          "text": [
            " 78%|███████▊  | 61/78 [00:28<00:09,  1.84it/s]"
          ]
        },
        {
          "output_type": "stream",
          "name": "stdout",
          "text": [
            "Epoch 205 Batch 60 Loss 0.3367 Accuracy 0.8884\n"
          ]
        },
        {
          "output_type": "stream",
          "name": "stderr",
          "text": [
            "100%|██████████| 78/78 [00:36<00:00,  2.15it/s]\n"
          ]
        },
        {
          "output_type": "stream",
          "name": "stdout",
          "text": [
            "Epoch 205: Loss 0.3238, Valiation loss 6.1621, Accuracy 0.8927, Valiation accuracy 0.2805\n",
            "đã lưu lại history !\n",
            "Time taken for 1 epoch: 41.60 secs\n",
            "#####################0.3369 -> 0.3238\n",
            "generated(3.4078):\n",
            "[  3 136  73 134 134 134 134 134 134 134 134 134 134 134 134 134 134 134\n",
            " 134 134 134 134 134 134 134 134 134 134 134 134 134 134 134 134 134 134]\n",
            "\n",
            "Non midi note detected. Only returning valid portion. Index, seed 63 (79, 2)\n"
          ]
        },
        {
          "output_type": "display_data",
          "data": {
            "text/plain": [
              "<IPython.core.display.HTML object>"
            ],
            "text/html": [
              "\n",
              "                <div id=\"midiPlayerDiv114609\"></div>\n",
              "                <link rel=\"stylesheet\" href=\"//cuthbertLab.github.io/music21j/css/m21.css\"\n",
              "                    type=\"text/css\" />\n",
              "                \n",
              "                    <script src=\"//cuthbertLab.github.io/music21j/ext/require/require.js\"\n",
              "                    ></script>\n",
              "                \n",
              "                <script>\n",
              "                require.config({\n",
              "                    paths: {'music21': '//cuthbertLab.github.io/music21j/src/music21'}\n",
              "                });\n",
              "                require(['music21'], function() {\n",
              "                               mp = new music21.miditools.MidiPlayer();\n",
              "                               mp.addPlayer(\"#midiPlayerDiv114609\");\n",
              "                               mp.base64Load(\"data:audio/midi;base64,TVRoZAAAAAYAAQACBABNVHJrAAAAGgD/UQMHoSAA/1kCAAAA/1gEBAIYCIgA/y8ATVRyawAAAUcA/wMFUGlhbm8AwAAA4ABAAMAApACQU1qCAIBTAACQVFqCAIBUAACQQVoAkFNahACAQQAAkEhahACASAAAkExahACAUwAAkFFajACAUQAAkFhaiACATAAAgFgAAJBBWgCQU1qEAIBBAACQSFqEAIBIAACQTFqEAIBTAACQUVqQAIBRAACQU1qCAIBTAACQVFqCAIBMAACAVAAAkEBaAJBTWoQAgEAAAJBHWoQAgEcAAJBKWoQAgFMAAJBPWowAgE8AAJBbWogAgEoAAIBbAACQQFoAkFNahACAQAAAkEdahACARwAAkEpahACAUwAAkE9akACATwAAkEpaggCASgAAkExaggCASgAAgEwAAJA+WgCQTVqEAIA+AACQRVqEAIBFAACQSFqEAIBIAACQSlqIAIBKAACQRVqEAIBFAIQAgE0AiAD/LwA=\");\n",
              "                        });\n",
              "                </script>"
            ]
          },
          "metadata": {}
        },
        {
          "output_type": "stream",
          "name": "stdout",
          "text": [
            "Saving checkpoint for epoch 205 at ./ai-music/ckpt/ckpt-43\n"
          ]
        },
        {
          "output_type": "stream",
          "name": "stderr",
          "text": [
            "  1%|▏         | 1/78 [00:00<00:40,  1.88it/s]"
          ]
        },
        {
          "output_type": "stream",
          "name": "stdout",
          "text": [
            "Epoch 206 Batch 0 Loss 0.3428 Accuracy 0.8885\n"
          ]
        },
        {
          "output_type": "stream",
          "name": "stderr",
          "text": [
            " 40%|███▉      | 31/78 [00:14<00:25,  1.83it/s]"
          ]
        },
        {
          "output_type": "stream",
          "name": "stdout",
          "text": [
            "Epoch 206 Batch 30 Loss 0.3579 Accuracy 0.8813\n"
          ]
        },
        {
          "output_type": "stream",
          "name": "stderr",
          "text": [
            " 78%|███████▊  | 61/78 [00:28<00:09,  1.81it/s]"
          ]
        },
        {
          "output_type": "stream",
          "name": "stdout",
          "text": [
            "Epoch 206 Batch 60 Loss 0.3311 Accuracy 0.8906\n"
          ]
        },
        {
          "output_type": "stream",
          "name": "stderr",
          "text": [
            "100%|██████████| 78/78 [00:36<00:00,  2.14it/s]\n"
          ]
        },
        {
          "output_type": "stream",
          "name": "stdout",
          "text": [
            "Epoch 206: Loss 0.3205, Valiation loss 6.1706, Accuracy 0.8941, Valiation accuracy 0.2805\n",
            "đã lưu lại history !\n",
            "Time taken for 1 epoch: 37.07 secs\n"
          ]
        },
        {
          "output_type": "stream",
          "name": "stderr",
          "text": [
            "  1%|▏         | 1/78 [00:00<00:36,  2.13it/s]"
          ]
        },
        {
          "output_type": "stream",
          "name": "stdout",
          "text": [
            "Epoch 207 Batch 0 Loss 0.3077 Accuracy 0.8967\n"
          ]
        },
        {
          "output_type": "stream",
          "name": "stderr",
          "text": [
            " 40%|███▉      | 31/78 [00:14<00:25,  1.84it/s]"
          ]
        },
        {
          "output_type": "stream",
          "name": "stdout",
          "text": [
            "Epoch 207 Batch 30 Loss 0.3492 Accuracy 0.8841\n"
          ]
        },
        {
          "output_type": "stream",
          "name": "stderr",
          "text": [
            " 78%|███████▊  | 61/78 [00:28<00:09,  1.83it/s]"
          ]
        },
        {
          "output_type": "stream",
          "name": "stdout",
          "text": [
            "Epoch 207 Batch 60 Loss 0.3277 Accuracy 0.8917\n"
          ]
        },
        {
          "output_type": "stream",
          "name": "stderr",
          "text": [
            "100%|██████████| 78/78 [00:36<00:00,  2.14it/s]\n"
          ]
        },
        {
          "output_type": "stream",
          "name": "stdout",
          "text": [
            "Epoch 207: Loss 0.3176, Valiation loss 6.1795, Accuracy 0.8950, Valiation accuracy 0.2805\n",
            "đã lưu lại history !\n",
            "Time taken for 1 epoch: 41.60 secs\n"
          ]
        },
        {
          "output_type": "stream",
          "name": "stderr",
          "text": [
            "  1%|▏         | 1/78 [00:00<00:35,  2.16it/s]"
          ]
        },
        {
          "output_type": "stream",
          "name": "stdout",
          "text": [
            "Epoch 208 Batch 0 Loss 0.3441 Accuracy 0.8871\n"
          ]
        },
        {
          "output_type": "stream",
          "name": "stderr",
          "text": [
            " 40%|███▉      | 31/78 [00:14<00:25,  1.84it/s]"
          ]
        },
        {
          "output_type": "stream",
          "name": "stdout",
          "text": [
            "Epoch 208 Batch 30 Loss 0.3595 Accuracy 0.8811\n"
          ]
        },
        {
          "output_type": "stream",
          "name": "stderr",
          "text": [
            " 78%|███████▊  | 61/78 [00:28<00:09,  1.81it/s]"
          ]
        },
        {
          "output_type": "stream",
          "name": "stdout",
          "text": [
            "Epoch 208 Batch 60 Loss 0.3286 Accuracy 0.8914\n"
          ]
        },
        {
          "output_type": "stream",
          "name": "stderr",
          "text": [
            "100%|██████████| 78/78 [00:36<00:00,  2.14it/s]\n"
          ]
        },
        {
          "output_type": "stream",
          "name": "stdout",
          "text": [
            "Epoch 208: Loss 0.3169, Valiation loss 6.1867, Accuracy 0.8954, Valiation accuracy 0.2805\n",
            "đã lưu lại history !\n",
            "Time taken for 1 epoch: 41.38 secs\n"
          ]
        },
        {
          "output_type": "stream",
          "name": "stderr",
          "text": [
            "  1%|▏         | 1/78 [00:00<00:35,  2.15it/s]"
          ]
        },
        {
          "output_type": "stream",
          "name": "stdout",
          "text": [
            "Epoch 209 Batch 0 Loss 0.3480 Accuracy 0.8841\n"
          ]
        },
        {
          "output_type": "stream",
          "name": "stderr",
          "text": [
            " 40%|███▉      | 31/78 [00:14<00:25,  1.83it/s]"
          ]
        },
        {
          "output_type": "stream",
          "name": "stdout",
          "text": [
            "Epoch 209 Batch 30 Loss 0.3492 Accuracy 0.8846\n"
          ]
        },
        {
          "output_type": "stream",
          "name": "stderr",
          "text": [
            " 78%|███████▊  | 61/78 [00:28<00:09,  1.83it/s]"
          ]
        },
        {
          "output_type": "stream",
          "name": "stdout",
          "text": [
            "Epoch 209 Batch 60 Loss 0.3206 Accuracy 0.8941\n"
          ]
        },
        {
          "output_type": "stream",
          "name": "stderr",
          "text": [
            "100%|██████████| 78/78 [00:36<00:00,  2.15it/s]\n"
          ]
        },
        {
          "output_type": "stream",
          "name": "stdout",
          "text": [
            "Epoch 209: Loss 0.3103, Valiation loss 6.1944, Accuracy 0.8976, Valiation accuracy 0.2805\n",
            "đã lưu lại history !\n",
            "Time taken for 1 epoch: 36.91 secs\n"
          ]
        },
        {
          "output_type": "stream",
          "name": "stderr",
          "text": [
            "  1%|▏         | 1/78 [00:00<00:36,  2.12it/s]"
          ]
        },
        {
          "output_type": "stream",
          "name": "stdout",
          "text": [
            "Epoch 210 Batch 0 Loss 0.3496 Accuracy 0.8874\n"
          ]
        },
        {
          "output_type": "stream",
          "name": "stderr",
          "text": [
            " 40%|███▉      | 31/78 [00:14<00:25,  1.83it/s]"
          ]
        },
        {
          "output_type": "stream",
          "name": "stdout",
          "text": [
            "Epoch 210 Batch 30 Loss 0.3485 Accuracy 0.8847\n"
          ]
        },
        {
          "output_type": "stream",
          "name": "stderr",
          "text": [
            " 78%|███████▊  | 61/78 [00:28<00:09,  1.82it/s]"
          ]
        },
        {
          "output_type": "stream",
          "name": "stdout",
          "text": [
            "Epoch 210 Batch 60 Loss 0.3209 Accuracy 0.8939\n"
          ]
        },
        {
          "output_type": "stream",
          "name": "stderr",
          "text": [
            "100%|██████████| 78/78 [00:36<00:00,  2.14it/s]\n"
          ]
        },
        {
          "output_type": "stream",
          "name": "stdout",
          "text": [
            "Epoch 210: Loss 0.3111, Valiation loss 6.2015, Accuracy 0.8971, Valiation accuracy 0.2805\n",
            "đã lưu lại history !\n",
            "Time taken for 1 epoch: 36.94 secs\n",
            "#####################0.3238 -> 0.3111\n",
            "generated(3.2943):\n",
            "[  3 136  73 134 134 134 134 134 134 134 134 134 134 134 134 134 134 134\n",
            " 134 134 134 134 134 134 134 134 134 134 134 134 134 134 134 134 134 134]\n",
            "\n",
            "Non midi note detected. Only returning valid portion. Index, seed 63 (79, 2)\n"
          ]
        },
        {
          "output_type": "display_data",
          "data": {
            "text/plain": [
              "<IPython.core.display.HTML object>"
            ],
            "text/html": [
              "\n",
              "                <div id=\"midiPlayerDiv115043\"></div>\n",
              "                <link rel=\"stylesheet\" href=\"//cuthbertLab.github.io/music21j/css/m21.css\"\n",
              "                    type=\"text/css\" />\n",
              "                \n",
              "                    <script src=\"//cuthbertLab.github.io/music21j/ext/require/require.js\"\n",
              "                    ></script>\n",
              "                \n",
              "                <script>\n",
              "                require.config({\n",
              "                    paths: {'music21': '//cuthbertLab.github.io/music21j/src/music21'}\n",
              "                });\n",
              "                require(['music21'], function() {\n",
              "                               mp = new music21.miditools.MidiPlayer();\n",
              "                               mp.addPlayer(\"#midiPlayerDiv115043\");\n",
              "                               mp.base64Load(\"data:audio/midi;base64,TVRoZAAAAAYAAQACBABNVHJrAAAAGgD/UQMHoSAA/1kCAAAA/1gEBAIYCIgA/y8ATVRyawAAAUcA/wMFUGlhbm8AwAAA4ABAAMAApACQU1qCAIBTAACQVFqCAIBUAACQQVoAkFNahACAQQAAkEhahACASAAAkExahACAUwAAkFFajACAUQAAkFhaiACATAAAgFgAAJBBWgCQU1qEAIBBAACQSFqEAIBIAACQTFqEAIBTAACQUVqQAIBRAACQU1qCAIBTAACQVFqCAIBMAACAVAAAkEBaAJBTWoQAgEAAAJBHWoQAgEcAAJBKWoQAgFMAAJBPWowAgE8AAJBbWogAgEoAAIBbAACQQFoAkFNahACAQAAAkEdahACARwAAkEpahACAUwAAkE9akACATwAAkEpaggCASgAAkExaggCASgAAgEwAAJA+WgCQTVqEAIA+AACQRVqEAIBFAACQSFqEAIBIAACQSlqIAIBKAACQRVqEAIBFAIQAgE0AiAD/LwA=\");\n",
              "                        });\n",
              "                </script>"
            ]
          },
          "metadata": {}
        },
        {
          "output_type": "stream",
          "name": "stdout",
          "text": [
            "Saving checkpoint for epoch 210 at ./ai-music/ckpt/ckpt-44\n"
          ]
        },
        {
          "output_type": "stream",
          "name": "stderr",
          "text": [
            "  1%|▏         | 1/78 [00:00<00:40,  1.88it/s]"
          ]
        },
        {
          "output_type": "stream",
          "name": "stdout",
          "text": [
            "Epoch 211 Batch 0 Loss 0.3296 Accuracy 0.8910\n"
          ]
        },
        {
          "output_type": "stream",
          "name": "stderr",
          "text": [
            " 40%|███▉      | 31/78 [00:14<00:25,  1.83it/s]"
          ]
        },
        {
          "output_type": "stream",
          "name": "stdout",
          "text": [
            "Epoch 211 Batch 30 Loss 0.3417 Accuracy 0.8865\n"
          ]
        },
        {
          "output_type": "stream",
          "name": "stderr",
          "text": [
            " 78%|███████▊  | 61/78 [00:28<00:09,  1.83it/s]"
          ]
        },
        {
          "output_type": "stream",
          "name": "stdout",
          "text": [
            "Epoch 211 Batch 60 Loss 0.3171 Accuracy 0.8950\n"
          ]
        },
        {
          "output_type": "stream",
          "name": "stderr",
          "text": [
            "100%|██████████| 78/78 [00:36<00:00,  2.14it/s]\n"
          ]
        },
        {
          "output_type": "stream",
          "name": "stdout",
          "text": [
            "Epoch 211: Loss 0.3068, Valiation loss 6.2119, Accuracy 0.8985, Valiation accuracy 0.2806\n",
            "đã lưu lại history !\n",
            "Time taken for 1 epoch: 36.99 secs\n"
          ]
        },
        {
          "output_type": "stream",
          "name": "stderr",
          "text": [
            "  1%|▏         | 1/78 [00:00<00:36,  2.12it/s]"
          ]
        },
        {
          "output_type": "stream",
          "name": "stdout",
          "text": [
            "Epoch 212 Batch 0 Loss 0.3277 Accuracy 0.8902\n"
          ]
        },
        {
          "output_type": "stream",
          "name": "stderr",
          "text": [
            " 40%|███▉      | 31/78 [00:14<00:25,  1.82it/s]"
          ]
        },
        {
          "output_type": "stream",
          "name": "stdout",
          "text": [
            "Epoch 212 Batch 30 Loss 0.3408 Accuracy 0.8876\n"
          ]
        },
        {
          "output_type": "stream",
          "name": "stderr",
          "text": [
            " 78%|███████▊  | 61/78 [00:28<00:09,  1.84it/s]"
          ]
        },
        {
          "output_type": "stream",
          "name": "stdout",
          "text": [
            "Epoch 212 Batch 60 Loss 0.3168 Accuracy 0.8954\n"
          ]
        },
        {
          "output_type": "stream",
          "name": "stderr",
          "text": [
            "100%|██████████| 78/78 [00:36<00:00,  2.14it/s]\n"
          ]
        },
        {
          "output_type": "stream",
          "name": "stdout",
          "text": [
            "Epoch 212: Loss 0.3069, Valiation loss 6.2206, Accuracy 0.8986, Valiation accuracy 0.2803\n",
            "đã lưu lại history !\n",
            "Time taken for 1 epoch: 41.38 secs\n"
          ]
        },
        {
          "output_type": "stream",
          "name": "stderr",
          "text": [
            "  1%|▏         | 1/78 [00:00<00:36,  2.14it/s]"
          ]
        },
        {
          "output_type": "stream",
          "name": "stdout",
          "text": [
            "Epoch 213 Batch 0 Loss 0.3517 Accuracy 0.8862\n"
          ]
        },
        {
          "output_type": "stream",
          "name": "stderr",
          "text": [
            " 40%|███▉      | 31/78 [00:14<00:25,  1.84it/s]"
          ]
        },
        {
          "output_type": "stream",
          "name": "stdout",
          "text": [
            "Epoch 213 Batch 30 Loss 0.3372 Accuracy 0.8884\n"
          ]
        },
        {
          "output_type": "stream",
          "name": "stderr",
          "text": [
            " 78%|███████▊  | 61/78 [00:28<00:09,  1.82it/s]"
          ]
        },
        {
          "output_type": "stream",
          "name": "stdout",
          "text": [
            "Epoch 213 Batch 60 Loss 0.3130 Accuracy 0.8967\n"
          ]
        },
        {
          "output_type": "stream",
          "name": "stderr",
          "text": [
            "100%|██████████| 78/78 [00:36<00:00,  2.14it/s]\n"
          ]
        },
        {
          "output_type": "stream",
          "name": "stdout",
          "text": [
            "Epoch 213: Loss 0.3029, Valiation loss 6.2306, Accuracy 0.9001, Valiation accuracy 0.2803\n",
            "đã lưu lại history !\n",
            "Time taken for 1 epoch: 36.94 secs\n"
          ]
        },
        {
          "output_type": "stream",
          "name": "stderr",
          "text": [
            "  1%|▏         | 1/78 [00:00<00:36,  2.11it/s]"
          ]
        },
        {
          "output_type": "stream",
          "name": "stdout",
          "text": [
            "Epoch 214 Batch 0 Loss 0.3316 Accuracy 0.8898\n"
          ]
        },
        {
          "output_type": "stream",
          "name": "stderr",
          "text": [
            " 40%|███▉      | 31/78 [00:14<00:25,  1.83it/s]"
          ]
        },
        {
          "output_type": "stream",
          "name": "stdout",
          "text": [
            "Epoch 214 Batch 30 Loss 0.3388 Accuracy 0.8880\n"
          ]
        },
        {
          "output_type": "stream",
          "name": "stderr",
          "text": [
            " 78%|███████▊  | 61/78 [00:28<00:09,  1.84it/s]"
          ]
        },
        {
          "output_type": "stream",
          "name": "stdout",
          "text": [
            "Epoch 214 Batch 60 Loss 0.3114 Accuracy 0.8974\n"
          ]
        },
        {
          "output_type": "stream",
          "name": "stderr",
          "text": [
            "100%|██████████| 78/78 [00:36<00:00,  2.15it/s]\n"
          ]
        },
        {
          "output_type": "stream",
          "name": "stdout",
          "text": [
            "Epoch 214: Loss 0.3015, Valiation loss 6.2412, Accuracy 0.9006, Valiation accuracy 0.2802\n",
            "đã lưu lại history !\n",
            "Time taken for 1 epoch: 36.99 secs\n"
          ]
        },
        {
          "output_type": "stream",
          "name": "stderr",
          "text": [
            "  1%|▏         | 1/78 [00:00<00:37,  2.07it/s]"
          ]
        },
        {
          "output_type": "stream",
          "name": "stdout",
          "text": [
            "Epoch 215 Batch 0 Loss 0.3364 Accuracy 0.8856\n"
          ]
        },
        {
          "output_type": "stream",
          "name": "stderr",
          "text": [
            " 40%|███▉      | 31/78 [00:14<00:25,  1.82it/s]"
          ]
        },
        {
          "output_type": "stream",
          "name": "stdout",
          "text": [
            "Epoch 215 Batch 30 Loss 0.3340 Accuracy 0.8890\n"
          ]
        },
        {
          "output_type": "stream",
          "name": "stderr",
          "text": [
            " 78%|███████▊  | 61/78 [00:28<00:09,  1.82it/s]"
          ]
        },
        {
          "output_type": "stream",
          "name": "stdout",
          "text": [
            "Epoch 215 Batch 60 Loss 0.3087 Accuracy 0.8979\n"
          ]
        },
        {
          "output_type": "stream",
          "name": "stderr",
          "text": [
            "100%|██████████| 78/78 [00:36<00:00,  2.15it/s]\n"
          ]
        },
        {
          "output_type": "stream",
          "name": "stdout",
          "text": [
            "Epoch 215: Loss 0.3002, Valiation loss 6.2471, Accuracy 0.9008, Valiation accuracy 0.2804\n",
            "đã lưu lại history !\n",
            "Time taken for 1 epoch: 41.62 secs\n",
            "#####################0.3111 -> 0.3002\n",
            "generated(3.2784):\n",
            "[  3 136  73 134 134 134 134 134 134 134 134 134 134 134 134 134 134 134\n",
            " 134 134 134 134 134 134 134 134 134 134 134 134 134 134 134 134 134 134]\n",
            "\n",
            "Non midi note detected. Only returning valid portion. Index, seed 63 (79, 2)\n"
          ]
        },
        {
          "output_type": "display_data",
          "data": {
            "text/plain": [
              "<IPython.core.display.HTML object>"
            ],
            "text/html": [
              "\n",
              "                <div id=\"midiPlayerDiv115477\"></div>\n",
              "                <link rel=\"stylesheet\" href=\"//cuthbertLab.github.io/music21j/css/m21.css\"\n",
              "                    type=\"text/css\" />\n",
              "                \n",
              "                    <script src=\"//cuthbertLab.github.io/music21j/ext/require/require.js\"\n",
              "                    ></script>\n",
              "                \n",
              "                <script>\n",
              "                require.config({\n",
              "                    paths: {'music21': '//cuthbertLab.github.io/music21j/src/music21'}\n",
              "                });\n",
              "                require(['music21'], function() {\n",
              "                               mp = new music21.miditools.MidiPlayer();\n",
              "                               mp.addPlayer(\"#midiPlayerDiv115477\");\n",
              "                               mp.base64Load(\"data:audio/midi;base64,TVRoZAAAAAYAAQACBABNVHJrAAAAGgD/UQMHoSAA/1kCAAAA/1gEBAIYCIgA/y8ATVRyawAAAUcA/wMFUGlhbm8AwAAA4ABAAMAApACQU1qCAIBTAACQVFqCAIBUAACQQVoAkFNahACAQQAAkEhahACASAAAkExahACAUwAAkFFajACAUQAAkFhaiACATAAAgFgAAJBBWgCQU1qEAIBBAACQSFqEAIBIAACQTFqEAIBTAACQUVqQAIBRAACQU1qCAIBTAACQVFqCAIBMAACAVAAAkEBaAJBTWoQAgEAAAJBHWoQAgEcAAJBKWoQAgFMAAJBPWowAgE8AAJBbWogAgEoAAIBbAACQQFoAkFNahACAQAAAkEdahACARwAAkEpahACAUwAAkE9akACATwAAkEpaggCASgAAkExaggCASgAAgEwAAJA+WgCQTVqEAIA+AACQRVqEAIBFAACQSFqEAIBIAACQSlqIAIBKAACQRVqEAIBFAIQAgE0AiAD/LwA=\");\n",
              "                        });\n",
              "                </script>"
            ]
          },
          "metadata": {}
        },
        {
          "output_type": "stream",
          "name": "stdout",
          "text": [
            "Saving checkpoint for epoch 215 at ./ai-music/ckpt/ckpt-45\n"
          ]
        },
        {
          "output_type": "stream",
          "name": "stderr",
          "text": [
            "  1%|▏         | 1/78 [00:00<00:40,  1.88it/s]"
          ]
        },
        {
          "output_type": "stream",
          "name": "stdout",
          "text": [
            "Epoch 216 Batch 0 Loss 0.3094 Accuracy 0.8990\n"
          ]
        },
        {
          "output_type": "stream",
          "name": "stderr",
          "text": [
            " 40%|███▉      | 31/78 [00:14<00:25,  1.83it/s]"
          ]
        },
        {
          "output_type": "stream",
          "name": "stdout",
          "text": [
            "Epoch 216 Batch 30 Loss 0.3317 Accuracy 0.8903\n"
          ]
        },
        {
          "output_type": "stream",
          "name": "stderr",
          "text": [
            " 78%|███████▊  | 61/78 [00:28<00:09,  1.81it/s]"
          ]
        },
        {
          "output_type": "stream",
          "name": "stdout",
          "text": [
            "Epoch 216 Batch 60 Loss 0.3073 Accuracy 0.8986\n"
          ]
        },
        {
          "output_type": "stream",
          "name": "stderr",
          "text": [
            "100%|██████████| 78/78 [00:36<00:00,  2.13it/s]\n"
          ]
        },
        {
          "output_type": "stream",
          "name": "stdout",
          "text": [
            "Epoch 216: Loss 0.2986, Valiation loss 6.2557, Accuracy 0.9016, Valiation accuracy 0.2805\n",
            "đã lưu lại history !\n",
            "Time taken for 1 epoch: 37.24 secs\n"
          ]
        },
        {
          "output_type": "stream",
          "name": "stderr",
          "text": [
            "  1%|▏         | 1/78 [00:00<00:36,  2.11it/s]"
          ]
        },
        {
          "output_type": "stream",
          "name": "stdout",
          "text": [
            "Epoch 217 Batch 0 Loss 0.3086 Accuracy 0.8947\n"
          ]
        },
        {
          "output_type": "stream",
          "name": "stderr",
          "text": [
            " 40%|███▉      | 31/78 [00:14<00:25,  1.83it/s]"
          ]
        },
        {
          "output_type": "stream",
          "name": "stdout",
          "text": [
            "Epoch 217 Batch 30 Loss 0.3237 Accuracy 0.8923\n"
          ]
        },
        {
          "output_type": "stream",
          "name": "stderr",
          "text": [
            " 78%|███████▊  | 61/78 [00:28<00:09,  1.84it/s]"
          ]
        },
        {
          "output_type": "stream",
          "name": "stdout",
          "text": [
            "Epoch 217 Batch 60 Loss 0.3040 Accuracy 0.8992\n"
          ]
        },
        {
          "output_type": "stream",
          "name": "stderr",
          "text": [
            "100%|██████████| 78/78 [00:36<00:00,  2.15it/s]\n"
          ]
        },
        {
          "output_type": "stream",
          "name": "stdout",
          "text": [
            "Epoch 217: Loss 0.2934, Valiation loss 6.2632, Accuracy 0.9028, Valiation accuracy 0.2806\n",
            "đã lưu lại history !\n",
            "Time taken for 1 epoch: 36.99 secs\n"
          ]
        },
        {
          "output_type": "stream",
          "name": "stderr",
          "text": [
            "  1%|▏         | 1/78 [00:00<00:37,  2.08it/s]"
          ]
        },
        {
          "output_type": "stream",
          "name": "stdout",
          "text": [
            "Epoch 218 Batch 0 Loss 0.3284 Accuracy 0.8889\n"
          ]
        },
        {
          "output_type": "stream",
          "name": "stderr",
          "text": [
            " 40%|███▉      | 31/78 [00:14<00:25,  1.82it/s]"
          ]
        },
        {
          "output_type": "stream",
          "name": "stdout",
          "text": [
            "Epoch 218 Batch 30 Loss 0.3286 Accuracy 0.8908\n"
          ]
        },
        {
          "output_type": "stream",
          "name": "stderr",
          "text": [
            " 78%|███████▊  | 61/78 [00:28<00:09,  1.81it/s]"
          ]
        },
        {
          "output_type": "stream",
          "name": "stdout",
          "text": [
            "Epoch 218 Batch 60 Loss 0.3036 Accuracy 0.8995\n"
          ]
        },
        {
          "output_type": "stream",
          "name": "stderr",
          "text": [
            "100%|██████████| 78/78 [00:36<00:00,  2.15it/s]\n"
          ]
        },
        {
          "output_type": "stream",
          "name": "stdout",
          "text": [
            "Epoch 218: Loss 0.2921, Valiation loss 6.2704, Accuracy 0.9037, Valiation accuracy 0.2806\n",
            "đã lưu lại history !\n",
            "Time taken for 1 epoch: 37.01 secs\n"
          ]
        },
        {
          "output_type": "stream",
          "name": "stderr",
          "text": [
            "  1%|▏         | 1/78 [00:00<00:36,  2.13it/s]"
          ]
        },
        {
          "output_type": "stream",
          "name": "stdout",
          "text": [
            "Epoch 219 Batch 0 Loss 0.3094 Accuracy 0.8964\n"
          ]
        },
        {
          "output_type": "stream",
          "name": "stderr",
          "text": [
            " 40%|███▉      | 31/78 [00:14<00:25,  1.83it/s]"
          ]
        },
        {
          "output_type": "stream",
          "name": "stdout",
          "text": [
            "Epoch 219 Batch 30 Loss 0.3245 Accuracy 0.8926\n"
          ]
        },
        {
          "output_type": "stream",
          "name": "stderr",
          "text": [
            " 78%|███████▊  | 61/78 [00:28<00:09,  1.82it/s]"
          ]
        },
        {
          "output_type": "stream",
          "name": "stdout",
          "text": [
            "Epoch 219 Batch 60 Loss 0.3018 Accuracy 0.9003\n"
          ]
        },
        {
          "output_type": "stream",
          "name": "stderr",
          "text": [
            "100%|██████████| 78/78 [00:36<00:00,  2.14it/s]\n"
          ]
        },
        {
          "output_type": "stream",
          "name": "stdout",
          "text": [
            "Epoch 219: Loss 0.2918, Valiation loss 6.2786, Accuracy 0.9036, Valiation accuracy 0.2803\n",
            "đã lưu lại history !\n",
            "Time taken for 1 epoch: 36.92 secs\n"
          ]
        },
        {
          "output_type": "stream",
          "name": "stderr",
          "text": [
            "  1%|▏         | 1/78 [00:00<00:36,  2.12it/s]"
          ]
        },
        {
          "output_type": "stream",
          "name": "stdout",
          "text": [
            "Epoch 220 Batch 0 Loss 0.3178 Accuracy 0.8952\n"
          ]
        },
        {
          "output_type": "stream",
          "name": "stderr",
          "text": [
            " 40%|███▉      | 31/78 [00:14<00:25,  1.84it/s]"
          ]
        },
        {
          "output_type": "stream",
          "name": "stdout",
          "text": [
            "Epoch 220 Batch 30 Loss 0.3188 Accuracy 0.8941\n"
          ]
        },
        {
          "output_type": "stream",
          "name": "stderr",
          "text": [
            " 78%|███████▊  | 61/78 [00:28<00:09,  1.84it/s]"
          ]
        },
        {
          "output_type": "stream",
          "name": "stdout",
          "text": [
            "Epoch 220 Batch 60 Loss 0.2956 Accuracy 0.9023\n"
          ]
        },
        {
          "output_type": "stream",
          "name": "stderr",
          "text": [
            "100%|██████████| 78/78 [00:36<00:00,  2.14it/s]\n"
          ]
        },
        {
          "output_type": "stream",
          "name": "stdout",
          "text": [
            "Epoch 220: Loss 0.2886, Valiation loss 6.2878, Accuracy 0.9046, Valiation accuracy 0.2803\n",
            "đã lưu lại history !\n",
            "Time taken for 1 epoch: 41.37 secs\n",
            "#####################0.3002 -> 0.2886\n",
            "generated(3.5237):\n",
            "[  3 136  73 134 134 134 134 134 134 134 134 134 134 134 134 134 134 134\n",
            " 134 134 134 134 134 134 134 134 134 134 134 134 134 134 134 134 134 134]\n",
            "\n",
            "Non midi note detected. Only returning valid portion. Index, seed 63 (79, 2)\n"
          ]
        },
        {
          "output_type": "display_data",
          "data": {
            "text/plain": [
              "<IPython.core.display.HTML object>"
            ],
            "text/html": [
              "\n",
              "                <div id=\"midiPlayerDiv115911\"></div>\n",
              "                <link rel=\"stylesheet\" href=\"//cuthbertLab.github.io/music21j/css/m21.css\"\n",
              "                    type=\"text/css\" />\n",
              "                \n",
              "                    <script src=\"//cuthbertLab.github.io/music21j/ext/require/require.js\"\n",
              "                    ></script>\n",
              "                \n",
              "                <script>\n",
              "                require.config({\n",
              "                    paths: {'music21': '//cuthbertLab.github.io/music21j/src/music21'}\n",
              "                });\n",
              "                require(['music21'], function() {\n",
              "                               mp = new music21.miditools.MidiPlayer();\n",
              "                               mp.addPlayer(\"#midiPlayerDiv115911\");\n",
              "                               mp.base64Load(\"data:audio/midi;base64,TVRoZAAAAAYAAQACBABNVHJrAAAAGgD/UQMHoSAA/1kCAAAA/1gEBAIYCIgA/y8ATVRyawAAAUcA/wMFUGlhbm8AwAAA4ABAAMAApACQU1qCAIBTAACQVFqCAIBUAACQQVoAkFNahACAQQAAkEhahACASAAAkExahACAUwAAkFFajACAUQAAkFhaiACATAAAgFgAAJBBWgCQU1qEAIBBAACQSFqEAIBIAACQTFqEAIBTAACQUVqQAIBRAACQU1qCAIBTAACQVFqCAIBMAACAVAAAkEBaAJBTWoQAgEAAAJBHWoQAgEcAAJBKWoQAgFMAAJBPWowAgE8AAJBbWogAgEoAAIBbAACQQFoAkFNahACAQAAAkEdahACARwAAkEpahACAUwAAkE9akACATwAAkEpaggCASgAAkExaggCASgAAgEwAAJA+WgCQTVqEAIA+AACQRVqEAIBFAACQSFqEAIBIAACQSlqIAIBKAACQRVqEAIBFAIQAgE0AiAD/LwA=\");\n",
              "                        });\n",
              "                </script>"
            ]
          },
          "metadata": {}
        },
        {
          "output_type": "stream",
          "name": "stdout",
          "text": [
            "Saving checkpoint for epoch 220 at ./ai-music/ckpt/ckpt-46\n"
          ]
        },
        {
          "output_type": "stream",
          "name": "stderr",
          "text": [
            "  1%|▏         | 1/78 [00:00<00:40,  1.92it/s]"
          ]
        },
        {
          "output_type": "stream",
          "name": "stdout",
          "text": [
            "Epoch 221 Batch 0 Loss 0.3062 Accuracy 0.9021\n"
          ]
        },
        {
          "output_type": "stream",
          "name": "stderr",
          "text": [
            " 40%|███▉      | 31/78 [00:14<00:25,  1.83it/s]"
          ]
        },
        {
          "output_type": "stream",
          "name": "stdout",
          "text": [
            "Epoch 221 Batch 30 Loss 0.3214 Accuracy 0.8936\n"
          ]
        },
        {
          "output_type": "stream",
          "name": "stderr",
          "text": [
            " 78%|███████▊  | 61/78 [00:28<00:09,  1.80it/s]"
          ]
        },
        {
          "output_type": "stream",
          "name": "stdout",
          "text": [
            "Epoch 221 Batch 60 Loss 0.2948 Accuracy 0.9027\n"
          ]
        },
        {
          "output_type": "stream",
          "name": "stderr",
          "text": [
            "100%|██████████| 78/78 [00:36<00:00,  2.14it/s]\n"
          ]
        },
        {
          "output_type": "stream",
          "name": "stdout",
          "text": [
            "Epoch 221: Loss 0.2863, Valiation loss 6.2960, Accuracy 0.9056, Valiation accuracy 0.2803\n",
            "đã lưu lại history !\n",
            "Time taken for 1 epoch: 41.61 secs\n"
          ]
        },
        {
          "output_type": "stream",
          "name": "stderr",
          "text": [
            "  1%|▏         | 1/78 [00:00<00:37,  2.08it/s]"
          ]
        },
        {
          "output_type": "stream",
          "name": "stdout",
          "text": [
            "Epoch 222 Batch 0 Loss 0.2990 Accuracy 0.9034\n"
          ]
        },
        {
          "output_type": "stream",
          "name": "stderr",
          "text": [
            " 40%|███▉      | 31/78 [00:14<00:25,  1.83it/s]"
          ]
        },
        {
          "output_type": "stream",
          "name": "stdout",
          "text": [
            "Epoch 222 Batch 30 Loss 0.3169 Accuracy 0.8949\n"
          ]
        },
        {
          "output_type": "stream",
          "name": "stderr",
          "text": [
            " 78%|███████▊  | 61/78 [00:28<00:09,  1.83it/s]"
          ]
        },
        {
          "output_type": "stream",
          "name": "stdout",
          "text": [
            "Epoch 222 Batch 60 Loss 0.2939 Accuracy 0.9028\n"
          ]
        },
        {
          "output_type": "stream",
          "name": "stderr",
          "text": [
            "100%|██████████| 78/78 [00:36<00:00,  2.15it/s]\n"
          ]
        },
        {
          "output_type": "stream",
          "name": "stdout",
          "text": [
            "Epoch 222: Loss 0.2855, Valiation loss 6.3021, Accuracy 0.9057, Valiation accuracy 0.2804\n",
            "đã lưu lại history !\n",
            "Time taken for 1 epoch: 36.97 secs\n"
          ]
        },
        {
          "output_type": "stream",
          "name": "stderr",
          "text": [
            "  1%|▏         | 1/78 [00:00<00:36,  2.10it/s]"
          ]
        },
        {
          "output_type": "stream",
          "name": "stdout",
          "text": [
            "Epoch 223 Batch 0 Loss 0.3113 Accuracy 0.8968\n"
          ]
        },
        {
          "output_type": "stream",
          "name": "stderr",
          "text": [
            " 40%|███▉      | 31/78 [00:14<00:25,  1.83it/s]"
          ]
        },
        {
          "output_type": "stream",
          "name": "stdout",
          "text": [
            "Epoch 223 Batch 30 Loss 0.3187 Accuracy 0.8947\n"
          ]
        },
        {
          "output_type": "stream",
          "name": "stderr",
          "text": [
            " 78%|███████▊  | 61/78 [00:28<00:09,  1.82it/s]"
          ]
        },
        {
          "output_type": "stream",
          "name": "stdout",
          "text": [
            "Epoch 223 Batch 60 Loss 0.2946 Accuracy 0.9029\n"
          ]
        },
        {
          "output_type": "stream",
          "name": "stderr",
          "text": [
            "100%|██████████| 78/78 [00:36<00:00,  2.14it/s]\n"
          ]
        },
        {
          "output_type": "stream",
          "name": "stdout",
          "text": [
            "Epoch 223: Loss 0.2845, Valiation loss 6.3095, Accuracy 0.9063, Valiation accuracy 0.2804\n",
            "đã lưu lại history !\n",
            "Time taken for 1 epoch: 41.61 secs\n"
          ]
        },
        {
          "output_type": "stream",
          "name": "stderr",
          "text": [
            "  1%|▏         | 1/78 [00:00<00:36,  2.10it/s]"
          ]
        },
        {
          "output_type": "stream",
          "name": "stdout",
          "text": [
            "Epoch 224 Batch 0 Loss 0.3048 Accuracy 0.8990\n"
          ]
        },
        {
          "output_type": "stream",
          "name": "stderr",
          "text": [
            " 40%|███▉      | 31/78 [00:14<00:25,  1.81it/s]"
          ]
        },
        {
          "output_type": "stream",
          "name": "stdout",
          "text": [
            "Epoch 224 Batch 30 Loss 0.3100 Accuracy 0.8972\n"
          ]
        },
        {
          "output_type": "stream",
          "name": "stderr",
          "text": [
            " 78%|███████▊  | 61/78 [00:28<00:09,  1.80it/s]"
          ]
        },
        {
          "output_type": "stream",
          "name": "stdout",
          "text": [
            "Epoch 224 Batch 60 Loss 0.2891 Accuracy 0.9044\n"
          ]
        },
        {
          "output_type": "stream",
          "name": "stderr",
          "text": [
            "100%|██████████| 78/78 [00:36<00:00,  2.14it/s]\n"
          ]
        },
        {
          "output_type": "stream",
          "name": "stdout",
          "text": [
            "Epoch 224: Loss 0.2800, Valiation loss 6.3182, Accuracy 0.9076, Valiation accuracy 0.2804\n",
            "đã lưu lại history !\n",
            "Time taken for 1 epoch: 41.62 secs\n"
          ]
        },
        {
          "output_type": "stream",
          "name": "stderr",
          "text": [
            "  1%|▏         | 1/78 [00:00<00:36,  2.10it/s]"
          ]
        },
        {
          "output_type": "stream",
          "name": "stdout",
          "text": [
            "Epoch 225 Batch 0 Loss 0.2632 Accuracy 0.9159\n"
          ]
        },
        {
          "output_type": "stream",
          "name": "stderr",
          "text": [
            " 40%|███▉      | 31/78 [00:14<00:25,  1.83it/s]"
          ]
        },
        {
          "output_type": "stream",
          "name": "stdout",
          "text": [
            "Epoch 225 Batch 30 Loss 0.3014 Accuracy 0.9000\n"
          ]
        },
        {
          "output_type": "stream",
          "name": "stderr",
          "text": [
            " 78%|███████▊  | 61/78 [00:28<00:09,  1.83it/s]"
          ]
        },
        {
          "output_type": "stream",
          "name": "stdout",
          "text": [
            "Epoch 225 Batch 60 Loss 0.2845 Accuracy 0.9061\n"
          ]
        },
        {
          "output_type": "stream",
          "name": "stderr",
          "text": [
            "100%|██████████| 78/78 [00:36<00:00,  2.15it/s]\n"
          ]
        },
        {
          "output_type": "stream",
          "name": "stdout",
          "text": [
            "Epoch 225: Loss 0.2763, Valiation loss 6.3252, Accuracy 0.9088, Valiation accuracy 0.2805\n",
            "đã lưu lại history !\n",
            "Time taken for 1 epoch: 37.00 secs\n",
            "#####################0.2886 -> 0.2763\n",
            "generated(3.8871):\n",
            "[  3 136  73 134 134 134 134 134 134 134 134 134 134 134 134 134 134 134\n",
            " 134 134 134 134 134 134 134 134 134 134 134 134 134 134 134 134 134 134]\n",
            "\n",
            "Non midi note detected. Only returning valid portion. Index, seed 63 (79, 2)\n"
          ]
        },
        {
          "output_type": "display_data",
          "data": {
            "text/plain": [
              "<IPython.core.display.HTML object>"
            ],
            "text/html": [
              "\n",
              "                <div id=\"midiPlayerDiv116345\"></div>\n",
              "                <link rel=\"stylesheet\" href=\"//cuthbertLab.github.io/music21j/css/m21.css\"\n",
              "                    type=\"text/css\" />\n",
              "                \n",
              "                    <script src=\"//cuthbertLab.github.io/music21j/ext/require/require.js\"\n",
              "                    ></script>\n",
              "                \n",
              "                <script>\n",
              "                require.config({\n",
              "                    paths: {'music21': '//cuthbertLab.github.io/music21j/src/music21'}\n",
              "                });\n",
              "                require(['music21'], function() {\n",
              "                               mp = new music21.miditools.MidiPlayer();\n",
              "                               mp.addPlayer(\"#midiPlayerDiv116345\");\n",
              "                               mp.base64Load(\"data:audio/midi;base64,TVRoZAAAAAYAAQACBABNVHJrAAAAGgD/UQMHoSAA/1kCAAAA/1gEBAIYCIgA/y8ATVRyawAAAUcA/wMFUGlhbm8AwAAA4ABAAMAApACQU1qCAIBTAACQVFqCAIBUAACQQVoAkFNahACAQQAAkEhahACASAAAkExahACAUwAAkFFajACAUQAAkFhaiACATAAAgFgAAJBBWgCQU1qEAIBBAACQSFqEAIBIAACQTFqEAIBTAACQUVqQAIBRAACQU1qCAIBTAACQVFqCAIBMAACAVAAAkEBaAJBTWoQAgEAAAJBHWoQAgEcAAJBKWoQAgFMAAJBPWowAgE8AAJBbWogAgEoAAIBbAACQQFoAkFNahACAQAAAkEdahACARwAAkEpahACAUwAAkE9akACATwAAkEpaggCASgAAkExaggCASgAAgEwAAJA+WgCQTVqEAIA+AACQRVqEAIBFAACQSFqEAIBIAACQSlqIAIBKAACQRVqEAIBFAIQAgE0AiAD/LwA=\");\n",
              "                        });\n",
              "                </script>"
            ]
          },
          "metadata": {}
        },
        {
          "output_type": "stream",
          "name": "stdout",
          "text": [
            "Saving checkpoint for epoch 225 at ./ai-music/ckpt/ckpt-47\n"
          ]
        },
        {
          "output_type": "stream",
          "name": "stderr",
          "text": [
            "  1%|▏         | 1/78 [00:00<00:40,  1.89it/s]"
          ]
        },
        {
          "output_type": "stream",
          "name": "stdout",
          "text": [
            "Epoch 226 Batch 0 Loss 0.2876 Accuracy 0.9075\n"
          ]
        },
        {
          "output_type": "stream",
          "name": "stderr",
          "text": [
            " 40%|███▉      | 31/78 [00:14<00:25,  1.83it/s]"
          ]
        },
        {
          "output_type": "stream",
          "name": "stdout",
          "text": [
            "Epoch 226 Batch 30 Loss 0.3057 Accuracy 0.8987\n"
          ]
        },
        {
          "output_type": "stream",
          "name": "stderr",
          "text": [
            " 78%|███████▊  | 61/78 [00:28<00:09,  1.82it/s]"
          ]
        },
        {
          "output_type": "stream",
          "name": "stdout",
          "text": [
            "Epoch 226 Batch 60 Loss 0.2855 Accuracy 0.9054\n"
          ]
        },
        {
          "output_type": "stream",
          "name": "stderr",
          "text": [
            "100%|██████████| 78/78 [00:36<00:00,  2.13it/s]\n"
          ]
        },
        {
          "output_type": "stream",
          "name": "stdout",
          "text": [
            "Epoch 226: Loss 0.2771, Valiation loss 6.3330, Accuracy 0.9084, Valiation accuracy 0.2807\n",
            "đã lưu lại history !\n",
            "Time taken for 1 epoch: 41.60 secs\n"
          ]
        },
        {
          "output_type": "stream",
          "name": "stderr",
          "text": [
            "  1%|▏         | 1/78 [00:00<00:36,  2.14it/s]"
          ]
        },
        {
          "output_type": "stream",
          "name": "stdout",
          "text": [
            "Epoch 227 Batch 0 Loss 0.2731 Accuracy 0.9113\n"
          ]
        },
        {
          "output_type": "stream",
          "name": "stderr",
          "text": [
            " 40%|███▉      | 31/78 [00:14<00:25,  1.84it/s]"
          ]
        },
        {
          "output_type": "stream",
          "name": "stdout",
          "text": [
            "Epoch 227 Batch 30 Loss 0.3013 Accuracy 0.9005\n"
          ]
        },
        {
          "output_type": "stream",
          "name": "stderr",
          "text": [
            " 78%|███████▊  | 61/78 [00:28<00:09,  1.83it/s]"
          ]
        },
        {
          "output_type": "stream",
          "name": "stdout",
          "text": [
            "Epoch 227 Batch 60 Loss 0.2837 Accuracy 0.9063\n"
          ]
        },
        {
          "output_type": "stream",
          "name": "stderr",
          "text": [
            "100%|██████████| 78/78 [00:36<00:00,  2.15it/s]\n"
          ]
        },
        {
          "output_type": "stream",
          "name": "stdout",
          "text": [
            "Epoch 227: Loss 0.2752, Valiation loss 6.3427, Accuracy 0.9092, Valiation accuracy 0.2806\n",
            "đã lưu lại history !\n",
            "Time taken for 1 epoch: 41.60 secs\n"
          ]
        },
        {
          "output_type": "stream",
          "name": "stderr",
          "text": [
            "  1%|▏         | 1/78 [00:00<00:35,  2.15it/s]"
          ]
        },
        {
          "output_type": "stream",
          "name": "stdout",
          "text": [
            "Epoch 228 Batch 0 Loss 0.2828 Accuracy 0.9053\n"
          ]
        },
        {
          "output_type": "stream",
          "name": "stderr",
          "text": [
            " 40%|███▉      | 31/78 [00:14<00:25,  1.83it/s]"
          ]
        },
        {
          "output_type": "stream",
          "name": "stdout",
          "text": [
            "Epoch 228 Batch 30 Loss 0.3041 Accuracy 0.8999\n"
          ]
        },
        {
          "output_type": "stream",
          "name": "stderr",
          "text": [
            " 78%|███████▊  | 61/78 [00:28<00:09,  1.83it/s]"
          ]
        },
        {
          "output_type": "stream",
          "name": "stdout",
          "text": [
            "Epoch 228 Batch 60 Loss 0.2811 Accuracy 0.9074\n"
          ]
        },
        {
          "output_type": "stream",
          "name": "stderr",
          "text": [
            "100%|██████████| 78/78 [00:36<00:00,  2.14it/s]\n"
          ]
        },
        {
          "output_type": "stream",
          "name": "stdout",
          "text": [
            "Epoch 228: Loss 0.2735, Valiation loss 6.3515, Accuracy 0.9101, Valiation accuracy 0.2805\n",
            "đã lưu lại history !\n",
            "Time taken for 1 epoch: 41.36 secs\n"
          ]
        },
        {
          "output_type": "stream",
          "name": "stderr",
          "text": [
            "  1%|▏         | 1/78 [00:00<00:36,  2.13it/s]"
          ]
        },
        {
          "output_type": "stream",
          "name": "stdout",
          "text": [
            "Epoch 229 Batch 0 Loss 0.3151 Accuracy 0.8960\n"
          ]
        },
        {
          "output_type": "stream",
          "name": "stderr",
          "text": [
            " 40%|███▉      | 31/78 [00:14<00:25,  1.83it/s]"
          ]
        },
        {
          "output_type": "stream",
          "name": "stdout",
          "text": [
            "Epoch 229 Batch 30 Loss 0.3001 Accuracy 0.9007\n"
          ]
        },
        {
          "output_type": "stream",
          "name": "stderr",
          "text": [
            " 78%|███████▊  | 61/78 [00:28<00:09,  1.83it/s]"
          ]
        },
        {
          "output_type": "stream",
          "name": "stdout",
          "text": [
            "Epoch 229 Batch 60 Loss 0.2821 Accuracy 0.9068\n"
          ]
        },
        {
          "output_type": "stream",
          "name": "stderr",
          "text": [
            "100%|██████████| 78/78 [00:36<00:00,  2.14it/s]\n"
          ]
        },
        {
          "output_type": "stream",
          "name": "stdout",
          "text": [
            "Epoch 229: Loss 0.2732, Valiation loss 6.3603, Accuracy 0.9099, Valiation accuracy 0.2805\n",
            "đã lưu lại history !\n",
            "Time taken for 1 epoch: 37.05 secs\n"
          ]
        },
        {
          "output_type": "stream",
          "name": "stderr",
          "text": [
            "  1%|▏         | 1/78 [00:00<00:36,  2.10it/s]"
          ]
        },
        {
          "output_type": "stream",
          "name": "stdout",
          "text": [
            "Epoch 230 Batch 0 Loss 0.3015 Accuracy 0.8991\n"
          ]
        },
        {
          "output_type": "stream",
          "name": "stderr",
          "text": [
            " 40%|███▉      | 31/78 [00:14<00:25,  1.83it/s]"
          ]
        },
        {
          "output_type": "stream",
          "name": "stdout",
          "text": [
            "Epoch 230 Batch 30 Loss 0.2975 Accuracy 0.9018\n"
          ]
        },
        {
          "output_type": "stream",
          "name": "stderr",
          "text": [
            " 78%|███████▊  | 61/78 [00:28<00:09,  1.83it/s]"
          ]
        },
        {
          "output_type": "stream",
          "name": "stdout",
          "text": [
            "Epoch 230 Batch 60 Loss 0.2767 Accuracy 0.9090\n"
          ]
        },
        {
          "output_type": "stream",
          "name": "stderr",
          "text": [
            "100%|██████████| 78/78 [00:36<00:00,  2.14it/s]\n"
          ]
        },
        {
          "output_type": "stream",
          "name": "stdout",
          "text": [
            "Epoch 230: Loss 0.2673, Valiation loss 6.3695, Accuracy 0.9121, Valiation accuracy 0.2805\n",
            "đã lưu lại history !\n",
            "Time taken for 1 epoch: 41.38 secs\n",
            "#####################0.2763 -> 0.2673\n",
            "generated(3.3157):\n",
            "[  3 136  73 134 134 134 134 134 134 134 134 134 134 134 134 134 134 134\n",
            " 134 134 134 134 134 134 134 134 134 134 134 134 134 134 136 134 134 134]\n",
            "\n",
            "Non midi note detected. Only returning valid portion. Index, seed 63 (79, 2)\n"
          ]
        },
        {
          "output_type": "display_data",
          "data": {
            "text/plain": [
              "<IPython.core.display.HTML object>"
            ],
            "text/html": [
              "\n",
              "                <div id=\"midiPlayerDiv116779\"></div>\n",
              "                <link rel=\"stylesheet\" href=\"//cuthbertLab.github.io/music21j/css/m21.css\"\n",
              "                    type=\"text/css\" />\n",
              "                \n",
              "                    <script src=\"//cuthbertLab.github.io/music21j/ext/require/require.js\"\n",
              "                    ></script>\n",
              "                \n",
              "                <script>\n",
              "                require.config({\n",
              "                    paths: {'music21': '//cuthbertLab.github.io/music21j/src/music21'}\n",
              "                });\n",
              "                require(['music21'], function() {\n",
              "                               mp = new music21.miditools.MidiPlayer();\n",
              "                               mp.addPlayer(\"#midiPlayerDiv116779\");\n",
              "                               mp.base64Load(\"data:audio/midi;base64,TVRoZAAAAAYAAQACBABNVHJrAAAAGgD/UQMHoSAA/1kCAAAA/1gEBAIYCIgA/y8ATVRyawAAAUcA/wMFUGlhbm8AwAAA4ABAAMAApACQU1qCAIBTAACQVFqCAIBUAACQQVoAkFNahACAQQAAkEhahACASAAAkExahACAUwAAkFFajACAUQAAkFhaiACATAAAgFgAAJBBWgCQU1qEAIBBAACQSFqEAIBIAACQTFqEAIBTAACQUVqQAIBRAACQU1qCAIBTAACQVFqCAIBMAACAVAAAkEBaAJBTWoQAgEAAAJBHWoQAgEcAAJBKWoQAgFMAAJBPWowAgE8AAJBbWogAgEoAAIBbAACQQFoAkFNahACAQAAAkEdahACARwAAkEpahACAUwAAkE9akACATwAAkEpaggCASgAAkExaggCASgAAgEwAAJA+WgCQTVqEAIA+AACQRVqEAIBFAACQSFqEAIBIAACQSlqIAIBKAACQRVqEAIBFAIQAgE0AiAD/LwA=\");\n",
              "                        });\n",
              "                </script>"
            ]
          },
          "metadata": {}
        },
        {
          "output_type": "stream",
          "name": "stdout",
          "text": [
            "Saving checkpoint for epoch 230 at ./ai-music/ckpt/ckpt-48\n"
          ]
        },
        {
          "output_type": "stream",
          "name": "stderr",
          "text": [
            "  1%|▏         | 1/78 [00:00<00:39,  1.95it/s]"
          ]
        },
        {
          "output_type": "stream",
          "name": "stdout",
          "text": [
            "Epoch 231 Batch 0 Loss 0.2803 Accuracy 0.9075\n"
          ]
        },
        {
          "output_type": "stream",
          "name": "stderr",
          "text": [
            " 40%|███▉      | 31/78 [00:14<00:25,  1.82it/s]"
          ]
        },
        {
          "output_type": "stream",
          "name": "stdout",
          "text": [
            "Epoch 231 Batch 30 Loss 0.2990 Accuracy 0.9015\n"
          ]
        },
        {
          "output_type": "stream",
          "name": "stderr",
          "text": [
            " 78%|███████▊  | 61/78 [00:28<00:09,  1.81it/s]"
          ]
        },
        {
          "output_type": "stream",
          "name": "stdout",
          "text": [
            "Epoch 231 Batch 60 Loss 0.2789 Accuracy 0.9081\n"
          ]
        },
        {
          "output_type": "stream",
          "name": "stderr",
          "text": [
            "100%|██████████| 78/78 [00:36<00:00,  2.14it/s]\n"
          ]
        },
        {
          "output_type": "stream",
          "name": "stdout",
          "text": [
            "Epoch 231: Loss 0.2700, Valiation loss 6.3784, Accuracy 0.9110, Valiation accuracy 0.2805\n",
            "đã lưu lại history !\n",
            "Time taken for 1 epoch: 41.42 secs\n"
          ]
        },
        {
          "output_type": "stream",
          "name": "stderr",
          "text": [
            "  1%|▏         | 1/78 [00:00<00:36,  2.10it/s]"
          ]
        },
        {
          "output_type": "stream",
          "name": "stdout",
          "text": [
            "Epoch 232 Batch 0 Loss 0.2810 Accuracy 0.9066\n"
          ]
        },
        {
          "output_type": "stream",
          "name": "stderr",
          "text": [
            " 40%|███▉      | 31/78 [00:14<00:25,  1.82it/s]"
          ]
        },
        {
          "output_type": "stream",
          "name": "stdout",
          "text": [
            "Epoch 232 Batch 30 Loss 0.2969 Accuracy 0.9017\n"
          ]
        },
        {
          "output_type": "stream",
          "name": "stderr",
          "text": [
            " 78%|███████▊  | 61/78 [00:28<00:09,  1.82it/s]"
          ]
        },
        {
          "output_type": "stream",
          "name": "stdout",
          "text": [
            "Epoch 232 Batch 60 Loss 0.2768 Accuracy 0.9085\n"
          ]
        },
        {
          "output_type": "stream",
          "name": "stderr",
          "text": [
            "100%|██████████| 78/78 [00:36<00:00,  2.15it/s]\n"
          ]
        },
        {
          "output_type": "stream",
          "name": "stdout",
          "text": [
            "Epoch 232: Loss 0.2675, Valiation loss 6.3872, Accuracy 0.9118, Valiation accuracy 0.2804\n",
            "đã lưu lại history !\n",
            "Time taken for 1 epoch: 36.87 secs\n"
          ]
        },
        {
          "output_type": "stream",
          "name": "stderr",
          "text": [
            "  1%|▏         | 1/78 [00:00<00:36,  2.13it/s]"
          ]
        },
        {
          "output_type": "stream",
          "name": "stdout",
          "text": [
            "Epoch 233 Batch 0 Loss 0.3162 Accuracy 0.8984\n"
          ]
        },
        {
          "output_type": "stream",
          "name": "stderr",
          "text": [
            " 40%|███▉      | 31/78 [00:14<00:25,  1.83it/s]"
          ]
        },
        {
          "output_type": "stream",
          "name": "stdout",
          "text": [
            "Epoch 233 Batch 30 Loss 0.2915 Accuracy 0.9036\n"
          ]
        },
        {
          "output_type": "stream",
          "name": "stderr",
          "text": [
            " 78%|███████▊  | 61/78 [00:28<00:09,  1.82it/s]"
          ]
        },
        {
          "output_type": "stream",
          "name": "stdout",
          "text": [
            "Epoch 233 Batch 60 Loss 0.2722 Accuracy 0.9101\n"
          ]
        },
        {
          "output_type": "stream",
          "name": "stderr",
          "text": [
            "100%|██████████| 78/78 [00:36<00:00,  2.14it/s]\n"
          ]
        },
        {
          "output_type": "stream",
          "name": "stdout",
          "text": [
            "Epoch 233: Loss 0.2641, Valiation loss 6.3949, Accuracy 0.9130, Valiation accuracy 0.2803\n",
            "đã lưu lại history !\n",
            "Time taken for 1 epoch: 41.37 secs\n"
          ]
        },
        {
          "output_type": "stream",
          "name": "stderr",
          "text": [
            "  1%|▏         | 1/78 [00:00<00:36,  2.11it/s]"
          ]
        },
        {
          "output_type": "stream",
          "name": "stdout",
          "text": [
            "Epoch 234 Batch 0 Loss 0.2915 Accuracy 0.9041\n"
          ]
        },
        {
          "output_type": "stream",
          "name": "stderr",
          "text": [
            " 40%|███▉      | 31/78 [00:14<00:25,  1.83it/s]"
          ]
        },
        {
          "output_type": "stream",
          "name": "stdout",
          "text": [
            "Epoch 234 Batch 30 Loss 0.2945 Accuracy 0.9026\n"
          ]
        },
        {
          "output_type": "stream",
          "name": "stderr",
          "text": [
            " 78%|███████▊  | 61/78 [00:28<00:09,  1.81it/s]"
          ]
        },
        {
          "output_type": "stream",
          "name": "stdout",
          "text": [
            "Epoch 234 Batch 60 Loss 0.2733 Accuracy 0.9101\n"
          ]
        },
        {
          "output_type": "stream",
          "name": "stderr",
          "text": [
            "100%|██████████| 78/78 [00:36<00:00,  2.14it/s]\n"
          ]
        },
        {
          "output_type": "stream",
          "name": "stdout",
          "text": [
            "Epoch 234: Loss 0.2653, Valiation loss 6.4028, Accuracy 0.9127, Valiation accuracy 0.2803\n",
            "đã lưu lại history !\n",
            "Time taken for 1 epoch: 37.09 secs\n"
          ]
        },
        {
          "output_type": "stream",
          "name": "stderr",
          "text": [
            "  1%|▏         | 1/78 [00:00<00:36,  2.11it/s]"
          ]
        },
        {
          "output_type": "stream",
          "name": "stdout",
          "text": [
            "Epoch 235 Batch 0 Loss 0.2984 Accuracy 0.9020\n"
          ]
        },
        {
          "output_type": "stream",
          "name": "stderr",
          "text": [
            " 40%|███▉      | 31/78 [00:14<00:25,  1.83it/s]"
          ]
        },
        {
          "output_type": "stream",
          "name": "stdout",
          "text": [
            "Epoch 235 Batch 30 Loss 0.2909 Accuracy 0.9040\n"
          ]
        },
        {
          "output_type": "stream",
          "name": "stderr",
          "text": [
            " 78%|███████▊  | 61/78 [00:28<00:09,  1.84it/s]"
          ]
        },
        {
          "output_type": "stream",
          "name": "stdout",
          "text": [
            "Epoch 235 Batch 60 Loss 0.2725 Accuracy 0.9103\n"
          ]
        },
        {
          "output_type": "stream",
          "name": "stderr",
          "text": [
            "100%|██████████| 78/78 [00:36<00:00,  2.15it/s]\n"
          ]
        },
        {
          "output_type": "stream",
          "name": "stdout",
          "text": [
            "Epoch 235: Loss 0.2627, Valiation loss 6.4108, Accuracy 0.9135, Valiation accuracy 0.2803\n",
            "đã lưu lại history !\n",
            "Time taken for 1 epoch: 37.02 secs\n",
            "#####################0.2673 -> 0.2627\n",
            "generated(3.5037):\n",
            "[  3 136  73 134 134 134 134 134 134 134 134 134 134 134 134 134 134 134\n",
            " 134 134 134 134 134 134 134 134 134 134 134 134 134 134 134 134 134 134]\n",
            "\n",
            "Non midi note detected. Only returning valid portion. Index, seed 63 (79, 2)\n"
          ]
        },
        {
          "output_type": "display_data",
          "data": {
            "text/plain": [
              "<IPython.core.display.HTML object>"
            ],
            "text/html": [
              "\n",
              "                <div id=\"midiPlayerDiv117213\"></div>\n",
              "                <link rel=\"stylesheet\" href=\"//cuthbertLab.github.io/music21j/css/m21.css\"\n",
              "                    type=\"text/css\" />\n",
              "                \n",
              "                    <script src=\"//cuthbertLab.github.io/music21j/ext/require/require.js\"\n",
              "                    ></script>\n",
              "                \n",
              "                <script>\n",
              "                require.config({\n",
              "                    paths: {'music21': '//cuthbertLab.github.io/music21j/src/music21'}\n",
              "                });\n",
              "                require(['music21'], function() {\n",
              "                               mp = new music21.miditools.MidiPlayer();\n",
              "                               mp.addPlayer(\"#midiPlayerDiv117213\");\n",
              "                               mp.base64Load(\"data:audio/midi;base64,TVRoZAAAAAYAAQACBABNVHJrAAAAGgD/UQMHoSAA/1kCAAAA/1gEBAIYCIgA/y8ATVRyawAAAUcA/wMFUGlhbm8AwAAA4ABAAMAApACQU1qCAIBTAACQVFqCAIBUAACQQVoAkFNahACAQQAAkEhahACASAAAkExahACAUwAAkFFajACAUQAAkFhaiACATAAAgFgAAJBBWgCQU1qEAIBBAACQSFqEAIBIAACQTFqEAIBTAACQUVqQAIBRAACQU1qCAIBTAACQVFqCAIBMAACAVAAAkEBaAJBTWoQAgEAAAJBHWoQAgEcAAJBKWoQAgFMAAJBPWowAgE8AAJBbWogAgEoAAIBbAACQQFoAkFNahACAQAAAkEdahACARwAAkEpahACAUwAAkE9akACATwAAkEpaggCASgAAkExaggCASgAAgEwAAJA+WgCQTVqEAIA+AACQRVqEAIBFAACQSFqEAIBIAACQSlqIAIBKAACQRVqEAIBFAIQAgE0AiAD/LwA=\");\n",
              "                        });\n",
              "                </script>"
            ]
          },
          "metadata": {}
        },
        {
          "output_type": "stream",
          "name": "stdout",
          "text": [
            "Saving checkpoint for epoch 235 at ./ai-music/ckpt/ckpt-49\n"
          ]
        },
        {
          "output_type": "stream",
          "name": "stderr",
          "text": [
            "  1%|▏         | 1/78 [00:00<00:39,  1.94it/s]"
          ]
        },
        {
          "output_type": "stream",
          "name": "stdout",
          "text": [
            "Epoch 236 Batch 0 Loss 0.2831 Accuracy 0.9061\n"
          ]
        },
        {
          "output_type": "stream",
          "name": "stderr",
          "text": [
            " 40%|███▉      | 31/78 [00:14<00:25,  1.84it/s]"
          ]
        },
        {
          "output_type": "stream",
          "name": "stdout",
          "text": [
            "Epoch 236 Batch 30 Loss 0.2841 Accuracy 0.9062\n"
          ]
        },
        {
          "output_type": "stream",
          "name": "stderr",
          "text": [
            " 78%|███████▊  | 61/78 [00:28<00:09,  1.81it/s]"
          ]
        },
        {
          "output_type": "stream",
          "name": "stdout",
          "text": [
            "Epoch 236 Batch 60 Loss 0.2661 Accuracy 0.9123\n"
          ]
        },
        {
          "output_type": "stream",
          "name": "stderr",
          "text": [
            "100%|██████████| 78/78 [00:36<00:00,  2.14it/s]\n"
          ]
        },
        {
          "output_type": "stream",
          "name": "stdout",
          "text": [
            "Epoch 236: Loss 0.2577, Valiation loss 6.4184, Accuracy 0.9152, Valiation accuracy 0.2803\n",
            "đã lưu lại history !\n",
            "Time taken for 1 epoch: 41.61 secs\n"
          ]
        },
        {
          "output_type": "stream",
          "name": "stderr",
          "text": [
            "  1%|▏         | 1/78 [00:00<00:35,  2.16it/s]"
          ]
        },
        {
          "output_type": "stream",
          "name": "stdout",
          "text": [
            "Epoch 237 Batch 0 Loss 0.2537 Accuracy 0.9165\n"
          ]
        },
        {
          "output_type": "stream",
          "name": "stderr",
          "text": [
            " 40%|███▉      | 31/78 [00:14<00:25,  1.83it/s]"
          ]
        },
        {
          "output_type": "stream",
          "name": "stdout",
          "text": [
            "Epoch 237 Batch 30 Loss 0.2898 Accuracy 0.9047\n"
          ]
        },
        {
          "output_type": "stream",
          "name": "stderr",
          "text": [
            " 78%|███████▊  | 61/78 [00:28<00:09,  1.83it/s]"
          ]
        },
        {
          "output_type": "stream",
          "name": "stdout",
          "text": [
            "Epoch 237 Batch 60 Loss 0.2690 Accuracy 0.9115\n"
          ]
        },
        {
          "output_type": "stream",
          "name": "stderr",
          "text": [
            "100%|██████████| 78/78 [00:36<00:00,  2.15it/s]\n"
          ]
        },
        {
          "output_type": "stream",
          "name": "stdout",
          "text": [
            "Epoch 237: Loss 0.2594, Valiation loss 6.4247, Accuracy 0.9147, Valiation accuracy 0.2804\n",
            "đã lưu lại history !\n",
            "Time taken for 1 epoch: 36.89 secs\n"
          ]
        },
        {
          "output_type": "stream",
          "name": "stderr",
          "text": [
            "  1%|▏         | 1/78 [00:00<00:36,  2.13it/s]"
          ]
        },
        {
          "output_type": "stream",
          "name": "stdout",
          "text": [
            "Epoch 238 Batch 0 Loss 0.3032 Accuracy 0.8984\n"
          ]
        },
        {
          "output_type": "stream",
          "name": "stderr",
          "text": [
            " 40%|███▉      | 31/78 [00:14<00:25,  1.83it/s]"
          ]
        },
        {
          "output_type": "stream",
          "name": "stdout",
          "text": [
            "Epoch 238 Batch 30 Loss 0.2836 Accuracy 0.9065\n"
          ]
        },
        {
          "output_type": "stream",
          "name": "stderr",
          "text": [
            " 78%|███████▊  | 61/78 [00:28<00:09,  1.82it/s]"
          ]
        },
        {
          "output_type": "stream",
          "name": "stdout",
          "text": [
            "Epoch 238 Batch 60 Loss 0.2656 Accuracy 0.9127\n"
          ]
        },
        {
          "output_type": "stream",
          "name": "stderr",
          "text": [
            "100%|██████████| 78/78 [00:36<00:00,  2.14it/s]\n"
          ]
        },
        {
          "output_type": "stream",
          "name": "stdout",
          "text": [
            "Epoch 238: Loss 0.2568, Valiation loss 6.4316, Accuracy 0.9157, Valiation accuracy 0.2804\n",
            "đã lưu lại history !\n",
            "Time taken for 1 epoch: 41.39 secs\n"
          ]
        },
        {
          "output_type": "stream",
          "name": "stderr",
          "text": [
            "  1%|▏         | 1/78 [00:00<00:36,  2.12it/s]"
          ]
        },
        {
          "output_type": "stream",
          "name": "stdout",
          "text": [
            "Epoch 239 Batch 0 Loss 0.2628 Accuracy 0.9145\n"
          ]
        },
        {
          "output_type": "stream",
          "name": "stderr",
          "text": [
            " 40%|███▉      | 31/78 [00:14<00:25,  1.83it/s]"
          ]
        },
        {
          "output_type": "stream",
          "name": "stdout",
          "text": [
            "Epoch 239 Batch 30 Loss 0.2769 Accuracy 0.9083\n"
          ]
        },
        {
          "output_type": "stream",
          "name": "stderr",
          "text": [
            " 78%|███████▊  | 61/78 [00:28<00:09,  1.83it/s]"
          ]
        },
        {
          "output_type": "stream",
          "name": "stdout",
          "text": [
            "Epoch 239 Batch 60 Loss 0.2575 Accuracy 0.9150\n"
          ]
        },
        {
          "output_type": "stream",
          "name": "stderr",
          "text": [
            "100%|██████████| 78/78 [00:36<00:00,  2.15it/s]\n"
          ]
        },
        {
          "output_type": "stream",
          "name": "stdout",
          "text": [
            "Epoch 239: Loss 0.2500, Valiation loss 6.4394, Accuracy 0.9176, Valiation accuracy 0.2806\n",
            "đã lưu lại history !\n",
            "Time taken for 1 epoch: 41.61 secs\n"
          ]
        },
        {
          "output_type": "stream",
          "name": "stderr",
          "text": [
            "  1%|▏         | 1/78 [00:00<00:36,  2.12it/s]"
          ]
        },
        {
          "output_type": "stream",
          "name": "stdout",
          "text": [
            "Epoch 240 Batch 0 Loss 0.2715 Accuracy 0.9107\n"
          ]
        },
        {
          "output_type": "stream",
          "name": "stderr",
          "text": [
            " 40%|███▉      | 31/78 [00:14<00:25,  1.84it/s]"
          ]
        },
        {
          "output_type": "stream",
          "name": "stdout",
          "text": [
            "Epoch 240 Batch 30 Loss 0.2888 Accuracy 0.9047\n"
          ]
        },
        {
          "output_type": "stream",
          "name": "stderr",
          "text": [
            " 78%|███████▊  | 61/78 [00:28<00:09,  1.82it/s]"
          ]
        },
        {
          "output_type": "stream",
          "name": "stdout",
          "text": [
            "Epoch 240 Batch 60 Loss 0.2672 Accuracy 0.9121\n"
          ]
        },
        {
          "output_type": "stream",
          "name": "stderr",
          "text": [
            "100%|██████████| 78/78 [00:36<00:00,  2.15it/s]\n"
          ]
        },
        {
          "output_type": "stream",
          "name": "stdout",
          "text": [
            "Epoch 240: Loss 0.2573, Valiation loss 6.4467, Accuracy 0.9154, Valiation accuracy 0.2805\n",
            "đã lưu lại history !\n",
            "Time taken for 1 epoch: 36.90 secs\n",
            "#####################0.2627 -> 0.2573\n",
            "generated(3.2986):\n",
            "[  3 136  73 134 134 134 134 134 134 134 134 134 134 134 134 134 134 134\n",
            " 134 134 134 134 134 134 134 134 134 134 134 134 134 134 134 134 134 134]\n",
            "\n",
            "Non midi note detected. Only returning valid portion. Index, seed 63 (79, 2)\n"
          ]
        },
        {
          "output_type": "display_data",
          "data": {
            "text/plain": [
              "<IPython.core.display.HTML object>"
            ],
            "text/html": [
              "\n",
              "                <div id=\"midiPlayerDiv117647\"></div>\n",
              "                <link rel=\"stylesheet\" href=\"//cuthbertLab.github.io/music21j/css/m21.css\"\n",
              "                    type=\"text/css\" />\n",
              "                \n",
              "                    <script src=\"//cuthbertLab.github.io/music21j/ext/require/require.js\"\n",
              "                    ></script>\n",
              "                \n",
              "                <script>\n",
              "                require.config({\n",
              "                    paths: {'music21': '//cuthbertLab.github.io/music21j/src/music21'}\n",
              "                });\n",
              "                require(['music21'], function() {\n",
              "                               mp = new music21.miditools.MidiPlayer();\n",
              "                               mp.addPlayer(\"#midiPlayerDiv117647\");\n",
              "                               mp.base64Load(\"data:audio/midi;base64,TVRoZAAAAAYAAQACBABNVHJrAAAAGgD/UQMHoSAA/1kCAAAA/1gEBAIYCIgA/y8ATVRyawAAAUcA/wMFUGlhbm8AwAAA4ABAAMAApACQU1qCAIBTAACQVFqCAIBUAACQQVoAkFNahACAQQAAkEhahACASAAAkExahACAUwAAkFFajACAUQAAkFhaiACATAAAgFgAAJBBWgCQU1qEAIBBAACQSFqEAIBIAACQTFqEAIBTAACQUVqQAIBRAACQU1qCAIBTAACQVFqCAIBMAACAVAAAkEBaAJBTWoQAgEAAAJBHWoQAgEcAAJBKWoQAgFMAAJBPWowAgE8AAJBbWogAgEoAAIBbAACQQFoAkFNahACAQAAAkEdahACARwAAkEpahACAUwAAkE9akACATwAAkEpaggCASgAAkExaggCASgAAgEwAAJA+WgCQTVqEAIA+AACQRVqEAIBFAACQSFqEAIBIAACQSlqIAIBKAACQRVqEAIBFAIQAgE0AiAD/LwA=\");\n",
              "                        });\n",
              "                </script>"
            ]
          },
          "metadata": {}
        },
        {
          "output_type": "stream",
          "name": "stdout",
          "text": [
            "Saving checkpoint for epoch 240 at ./ai-music/ckpt/ckpt-50\n"
          ]
        },
        {
          "output_type": "stream",
          "name": "stderr",
          "text": [
            "  1%|▏         | 1/78 [00:00<00:40,  1.89it/s]"
          ]
        },
        {
          "output_type": "stream",
          "name": "stdout",
          "text": [
            "Epoch 241 Batch 0 Loss 0.2867 Accuracy 0.9059\n"
          ]
        },
        {
          "output_type": "stream",
          "name": "stderr",
          "text": [
            " 40%|███▉      | 31/78 [00:14<00:25,  1.83it/s]"
          ]
        },
        {
          "output_type": "stream",
          "name": "stdout",
          "text": [
            "Epoch 241 Batch 30 Loss 0.2802 Accuracy 0.9074\n"
          ]
        },
        {
          "output_type": "stream",
          "name": "stderr",
          "text": [
            " 78%|███████▊  | 61/78 [00:28<00:09,  1.82it/s]"
          ]
        },
        {
          "output_type": "stream",
          "name": "stdout",
          "text": [
            "Epoch 241 Batch 60 Loss 0.2614 Accuracy 0.9141\n"
          ]
        },
        {
          "output_type": "stream",
          "name": "stderr",
          "text": [
            "100%|██████████| 78/78 [00:36<00:00,  2.14it/s]\n"
          ]
        },
        {
          "output_type": "stream",
          "name": "stdout",
          "text": [
            "Epoch 241: Loss 0.2530, Valiation loss 6.4525, Accuracy 0.9169, Valiation accuracy 0.2806\n",
            "đã lưu lại history !\n",
            "Time taken for 1 epoch: 37.15 secs\n"
          ]
        },
        {
          "output_type": "stream",
          "name": "stderr",
          "text": [
            "  1%|▏         | 1/78 [00:00<00:36,  2.09it/s]"
          ]
        },
        {
          "output_type": "stream",
          "name": "stdout",
          "text": [
            "Epoch 242 Batch 0 Loss 0.2748 Accuracy 0.9098\n"
          ]
        },
        {
          "output_type": "stream",
          "name": "stderr",
          "text": [
            " 40%|███▉      | 31/78 [00:14<00:25,  1.83it/s]"
          ]
        },
        {
          "output_type": "stream",
          "name": "stdout",
          "text": [
            "Epoch 242 Batch 30 Loss 0.2807 Accuracy 0.9073\n"
          ]
        },
        {
          "output_type": "stream",
          "name": "stderr",
          "text": [
            " 78%|███████▊  | 61/78 [00:28<00:09,  1.84it/s]"
          ]
        },
        {
          "output_type": "stream",
          "name": "stdout",
          "text": [
            "Epoch 242 Batch 60 Loss 0.2588 Accuracy 0.9148\n"
          ]
        },
        {
          "output_type": "stream",
          "name": "stderr",
          "text": [
            "100%|██████████| 78/78 [00:36<00:00,  2.15it/s]\n"
          ]
        },
        {
          "output_type": "stream",
          "name": "stdout",
          "text": [
            "Epoch 242: Loss 0.2510, Valiation loss 6.4598, Accuracy 0.9173, Valiation accuracy 0.2807\n",
            "đã lưu lại history !\n",
            "Time taken for 1 epoch: 37.00 secs\n"
          ]
        },
        {
          "output_type": "stream",
          "name": "stderr",
          "text": [
            "  1%|▏         | 1/78 [00:00<00:36,  2.12it/s]"
          ]
        },
        {
          "output_type": "stream",
          "name": "stdout",
          "text": [
            "Epoch 243 Batch 0 Loss 0.2394 Accuracy 0.9201\n"
          ]
        },
        {
          "output_type": "stream",
          "name": "stderr",
          "text": [
            " 40%|███▉      | 31/78 [00:14<00:25,  1.84it/s]"
          ]
        },
        {
          "output_type": "stream",
          "name": "stdout",
          "text": [
            "Epoch 243 Batch 30 Loss 0.2699 Accuracy 0.9108\n"
          ]
        },
        {
          "output_type": "stream",
          "name": "stderr",
          "text": [
            " 78%|███████▊  | 61/78 [00:28<00:09,  1.83it/s]"
          ]
        },
        {
          "output_type": "stream",
          "name": "stdout",
          "text": [
            "Epoch 243 Batch 60 Loss 0.2530 Accuracy 0.9166\n"
          ]
        },
        {
          "output_type": "stream",
          "name": "stderr",
          "text": [
            "100%|██████████| 78/78 [00:36<00:00,  2.15it/s]\n"
          ]
        },
        {
          "output_type": "stream",
          "name": "stdout",
          "text": [
            "Epoch 243: Loss 0.2458, Valiation loss 6.4672, Accuracy 0.9191, Valiation accuracy 0.2807\n",
            "đã lưu lại history !\n",
            "Time taken for 1 epoch: 41.61 secs\n"
          ]
        },
        {
          "output_type": "stream",
          "name": "stderr",
          "text": [
            "  1%|▏         | 1/78 [00:00<00:36,  2.14it/s]"
          ]
        },
        {
          "output_type": "stream",
          "name": "stdout",
          "text": [
            "Epoch 244 Batch 0 Loss 0.2602 Accuracy 0.9165\n"
          ]
        },
        {
          "output_type": "stream",
          "name": "stderr",
          "text": [
            " 40%|███▉      | 31/78 [00:14<00:25,  1.83it/s]"
          ]
        },
        {
          "output_type": "stream",
          "name": "stdout",
          "text": [
            "Epoch 244 Batch 30 Loss 0.2747 Accuracy 0.9095\n"
          ]
        },
        {
          "output_type": "stream",
          "name": "stderr",
          "text": [
            " 78%|███████▊  | 61/78 [00:28<00:09,  1.83it/s]"
          ]
        },
        {
          "output_type": "stream",
          "name": "stdout",
          "text": [
            "Epoch 244 Batch 60 Loss 0.2550 Accuracy 0.9162\n"
          ]
        },
        {
          "output_type": "stream",
          "name": "stderr",
          "text": [
            "100%|██████████| 78/78 [00:36<00:00,  2.15it/s]\n"
          ]
        },
        {
          "output_type": "stream",
          "name": "stdout",
          "text": [
            "Epoch 244: Loss 0.2480, Valiation loss 6.4745, Accuracy 0.9186, Valiation accuracy 0.2809\n",
            "đã lưu lại history !\n",
            "Time taken for 1 epoch: 37.00 secs\n"
          ]
        },
        {
          "output_type": "stream",
          "name": "stderr",
          "text": [
            "  1%|▏         | 1/78 [00:00<00:36,  2.12it/s]"
          ]
        },
        {
          "output_type": "stream",
          "name": "stdout",
          "text": [
            "Epoch 245 Batch 0 Loss 0.2686 Accuracy 0.9113\n"
          ]
        },
        {
          "output_type": "stream",
          "name": "stderr",
          "text": [
            " 40%|███▉      | 31/78 [00:14<00:25,  1.83it/s]"
          ]
        },
        {
          "output_type": "stream",
          "name": "stdout",
          "text": [
            "Epoch 245 Batch 30 Loss 0.2721 Accuracy 0.9103\n"
          ]
        },
        {
          "output_type": "stream",
          "name": "stderr",
          "text": [
            " 78%|███████▊  | 61/78 [00:28<00:09,  1.83it/s]"
          ]
        },
        {
          "output_type": "stream",
          "name": "stdout",
          "text": [
            "Epoch 245 Batch 60 Loss 0.2536 Accuracy 0.9165\n"
          ]
        },
        {
          "output_type": "stream",
          "name": "stderr",
          "text": [
            "100%|██████████| 78/78 [00:36<00:00,  2.15it/s]\n"
          ]
        },
        {
          "output_type": "stream",
          "name": "stdout",
          "text": [
            "Epoch 245: Loss 0.2445, Valiation loss 6.4827, Accuracy 0.9197, Valiation accuracy 0.2808\n",
            "đã lưu lại history !\n",
            "Time taken for 1 epoch: 41.38 secs\n",
            "#####################0.2573 -> 0.2445\n",
            "generated(3.3114):\n",
            "[  3 136  73 134 134 134 134 134 134 134 134 134 134 134 134 134 134 134\n",
            " 134 134 134 134 134 134 134 134 134 134 134 134 134 134 134 134 134 134]\n",
            "\n",
            "Non midi note detected. Only returning valid portion. Index, seed 63 (79, 2)\n"
          ]
        },
        {
          "output_type": "display_data",
          "data": {
            "text/plain": [
              "<IPython.core.display.HTML object>"
            ],
            "text/html": [
              "\n",
              "                <div id=\"midiPlayerDiv118081\"></div>\n",
              "                <link rel=\"stylesheet\" href=\"//cuthbertLab.github.io/music21j/css/m21.css\"\n",
              "                    type=\"text/css\" />\n",
              "                \n",
              "                    <script src=\"//cuthbertLab.github.io/music21j/ext/require/require.js\"\n",
              "                    ></script>\n",
              "                \n",
              "                <script>\n",
              "                require.config({\n",
              "                    paths: {'music21': '//cuthbertLab.github.io/music21j/src/music21'}\n",
              "                });\n",
              "                require(['music21'], function() {\n",
              "                               mp = new music21.miditools.MidiPlayer();\n",
              "                               mp.addPlayer(\"#midiPlayerDiv118081\");\n",
              "                               mp.base64Load(\"data:audio/midi;base64,TVRoZAAAAAYAAQACBABNVHJrAAAAGgD/UQMHoSAA/1kCAAAA/1gEBAIYCIgA/y8ATVRyawAAAUcA/wMFUGlhbm8AwAAA4ABAAMAApACQU1qCAIBTAACQVFqCAIBUAACQQVoAkFNahACAQQAAkEhahACASAAAkExahACAUwAAkFFajACAUQAAkFhaiACATAAAgFgAAJBBWgCQU1qEAIBBAACQSFqEAIBIAACQTFqEAIBTAACQUVqQAIBRAACQU1qCAIBTAACQVFqCAIBMAACAVAAAkEBaAJBTWoQAgEAAAJBHWoQAgEcAAJBKWoQAgFMAAJBPWowAgE8AAJBbWogAgEoAAIBbAACQQFoAkFNahACAQAAAkEdahACARwAAkEpahACAUwAAkE9akACATwAAkEpaggCASgAAkExaggCASgAAgEwAAJA+WgCQTVqEAIA+AACQRVqEAIBFAACQSFqEAIBIAACQSlqIAIBKAACQRVqEAIBFAIQAgE0AiAD/LwA=\");\n",
              "                        });\n",
              "                </script>"
            ]
          },
          "metadata": {}
        },
        {
          "output_type": "stream",
          "name": "stdout",
          "text": [
            "Saving checkpoint for epoch 245 at ./ai-music/ckpt/ckpt-51\n"
          ]
        },
        {
          "output_type": "stream",
          "name": "stderr",
          "text": [
            "  1%|▏         | 1/78 [00:00<00:39,  1.94it/s]"
          ]
        },
        {
          "output_type": "stream",
          "name": "stdout",
          "text": [
            "Epoch 246 Batch 0 Loss 0.2761 Accuracy 0.9095\n"
          ]
        },
        {
          "output_type": "stream",
          "name": "stderr",
          "text": [
            " 40%|███▉      | 31/78 [00:14<00:25,  1.83it/s]"
          ]
        },
        {
          "output_type": "stream",
          "name": "stdout",
          "text": [
            "Epoch 246 Batch 30 Loss 0.2664 Accuracy 0.9125\n"
          ]
        },
        {
          "output_type": "stream",
          "name": "stderr",
          "text": [
            " 78%|███████▊  | 61/78 [00:28<00:09,  1.81it/s]"
          ]
        },
        {
          "output_type": "stream",
          "name": "stdout",
          "text": [
            "Epoch 246 Batch 60 Loss 0.2525 Accuracy 0.9171\n"
          ]
        },
        {
          "output_type": "stream",
          "name": "stderr",
          "text": [
            "100%|██████████| 78/78 [00:36<00:00,  2.14it/s]\n"
          ]
        },
        {
          "output_type": "stream",
          "name": "stdout",
          "text": [
            "Epoch 246: Loss 0.2454, Valiation loss 6.4894, Accuracy 0.9195, Valiation accuracy 0.2809\n",
            "đã lưu lại history !\n",
            "Time taken for 1 epoch: 37.18 secs\n"
          ]
        },
        {
          "output_type": "stream",
          "name": "stderr",
          "text": [
            "  1%|▏         | 1/78 [00:00<00:36,  2.12it/s]"
          ]
        },
        {
          "output_type": "stream",
          "name": "stdout",
          "text": [
            "Epoch 247 Batch 0 Loss 0.2848 Accuracy 0.9077\n"
          ]
        },
        {
          "output_type": "stream",
          "name": "stderr",
          "text": [
            " 40%|███▉      | 31/78 [00:14<00:25,  1.83it/s]"
          ]
        },
        {
          "output_type": "stream",
          "name": "stdout",
          "text": [
            "Epoch 247 Batch 30 Loss 0.2673 Accuracy 0.9121\n"
          ]
        },
        {
          "output_type": "stream",
          "name": "stderr",
          "text": [
            " 78%|███████▊  | 61/78 [00:28<00:09,  1.83it/s]"
          ]
        },
        {
          "output_type": "stream",
          "name": "stdout",
          "text": [
            "Epoch 247 Batch 60 Loss 0.2525 Accuracy 0.9169\n"
          ]
        },
        {
          "output_type": "stream",
          "name": "stderr",
          "text": [
            "100%|██████████| 78/78 [00:36<00:00,  2.14it/s]\n"
          ]
        },
        {
          "output_type": "stream",
          "name": "stdout",
          "text": [
            "Epoch 247: Loss 0.2439, Valiation loss 6.4965, Accuracy 0.9198, Valiation accuracy 0.2810\n",
            "đã lưu lại history !\n",
            "Time taken for 1 epoch: 41.60 secs\n"
          ]
        },
        {
          "output_type": "stream",
          "name": "stderr",
          "text": [
            "  1%|▏         | 1/78 [00:00<00:36,  2.14it/s]"
          ]
        },
        {
          "output_type": "stream",
          "name": "stdout",
          "text": [
            "Epoch 248 Batch 0 Loss 0.3043 Accuracy 0.9013\n"
          ]
        },
        {
          "output_type": "stream",
          "name": "stderr",
          "text": [
            " 40%|███▉      | 31/78 [00:14<00:25,  1.83it/s]"
          ]
        },
        {
          "output_type": "stream",
          "name": "stdout",
          "text": [
            "Epoch 248 Batch 30 Loss 0.2642 Accuracy 0.9128\n"
          ]
        },
        {
          "output_type": "stream",
          "name": "stderr",
          "text": [
            " 78%|███████▊  | 61/78 [00:28<00:09,  1.82it/s]"
          ]
        },
        {
          "output_type": "stream",
          "name": "stdout",
          "text": [
            "Epoch 248 Batch 60 Loss 0.2464 Accuracy 0.9187\n"
          ]
        },
        {
          "output_type": "stream",
          "name": "stderr",
          "text": [
            "100%|██████████| 78/78 [00:36<00:00,  2.14it/s]\n"
          ]
        },
        {
          "output_type": "stream",
          "name": "stdout",
          "text": [
            "Epoch 248: Loss 0.2406, Valiation loss 6.5029, Accuracy 0.9209, Valiation accuracy 0.2811\n",
            "đã lưu lại history !\n",
            "Time taken for 1 epoch: 41.61 secs\n"
          ]
        },
        {
          "output_type": "stream",
          "name": "stderr",
          "text": [
            "  1%|▏         | 1/78 [00:00<00:35,  2.14it/s]"
          ]
        },
        {
          "output_type": "stream",
          "name": "stdout",
          "text": [
            "Epoch 249 Batch 0 Loss 0.2657 Accuracy 0.9128\n"
          ]
        },
        {
          "output_type": "stream",
          "name": "stderr",
          "text": [
            " 40%|███▉      | 31/78 [00:14<00:25,  1.84it/s]"
          ]
        },
        {
          "output_type": "stream",
          "name": "stdout",
          "text": [
            "Epoch 249 Batch 30 Loss 0.2615 Accuracy 0.9137\n"
          ]
        },
        {
          "output_type": "stream",
          "name": "stderr",
          "text": [
            " 78%|███████▊  | 61/78 [00:28<00:09,  1.83it/s]"
          ]
        },
        {
          "output_type": "stream",
          "name": "stdout",
          "text": [
            "Epoch 249 Batch 60 Loss 0.2453 Accuracy 0.9193\n"
          ]
        },
        {
          "output_type": "stream",
          "name": "stderr",
          "text": [
            "100%|██████████| 78/78 [00:36<00:00,  2.15it/s]\n"
          ]
        },
        {
          "output_type": "stream",
          "name": "stdout",
          "text": [
            "Epoch 249: Loss 0.2401, Valiation loss 6.5106, Accuracy 0.9213, Valiation accuracy 0.2811\n",
            "đã lưu lại history !\n",
            "Time taken for 1 epoch: 37.00 secs\n"
          ]
        },
        {
          "output_type": "stream",
          "name": "stderr",
          "text": [
            "  1%|▏         | 1/78 [00:00<00:36,  2.11it/s]"
          ]
        },
        {
          "output_type": "stream",
          "name": "stdout",
          "text": [
            "Epoch 250 Batch 0 Loss 0.2420 Accuracy 0.9214\n"
          ]
        },
        {
          "output_type": "stream",
          "name": "stderr",
          "text": [
            " 40%|███▉      | 31/78 [00:14<00:25,  1.82it/s]"
          ]
        },
        {
          "output_type": "stream",
          "name": "stdout",
          "text": [
            "Epoch 250 Batch 30 Loss 0.2632 Accuracy 0.9134\n"
          ]
        },
        {
          "output_type": "stream",
          "name": "stderr",
          "text": [
            " 78%|███████▊  | 61/78 [00:28<00:09,  1.83it/s]"
          ]
        },
        {
          "output_type": "stream",
          "name": "stdout",
          "text": [
            "Epoch 250 Batch 60 Loss 0.2462 Accuracy 0.9196\n"
          ]
        },
        {
          "output_type": "stream",
          "name": "stderr",
          "text": [
            "100%|██████████| 78/78 [00:36<00:00,  2.14it/s]\n"
          ]
        },
        {
          "output_type": "stream",
          "name": "stdout",
          "text": [
            "Epoch 250: Loss 0.2399, Valiation loss 6.5174, Accuracy 0.9216, Valiation accuracy 0.2811\n",
            "đã lưu lại history !\n",
            "Time taken for 1 epoch: 41.61 secs\n",
            "#####################0.2445 -> 0.2399\n",
            "generated(3.3861):\n",
            "[  3 136  73 134 134 134 134 134 134 134 134 134 134 134 134 134 134 134\n",
            " 134 134 134 134 134 134 134 134 134 134 134 134 134 134 134 134 134 134]\n",
            "\n",
            "Non midi note detected. Only returning valid portion. Index, seed 63 (79, 2)\n"
          ]
        },
        {
          "output_type": "display_data",
          "data": {
            "text/plain": [
              "<IPython.core.display.HTML object>"
            ],
            "text/html": [
              "\n",
              "                <div id=\"midiPlayerDiv118515\"></div>\n",
              "                <link rel=\"stylesheet\" href=\"//cuthbertLab.github.io/music21j/css/m21.css\"\n",
              "                    type=\"text/css\" />\n",
              "                \n",
              "                    <script src=\"//cuthbertLab.github.io/music21j/ext/require/require.js\"\n",
              "                    ></script>\n",
              "                \n",
              "                <script>\n",
              "                require.config({\n",
              "                    paths: {'music21': '//cuthbertLab.github.io/music21j/src/music21'}\n",
              "                });\n",
              "                require(['music21'], function() {\n",
              "                               mp = new music21.miditools.MidiPlayer();\n",
              "                               mp.addPlayer(\"#midiPlayerDiv118515\");\n",
              "                               mp.base64Load(\"data:audio/midi;base64,TVRoZAAAAAYAAQACBABNVHJrAAAAGgD/UQMHoSAA/1kCAAAA/1gEBAIYCIgA/y8ATVRyawAAAUcA/wMFUGlhbm8AwAAA4ABAAMAApACQU1qCAIBTAACQVFqCAIBUAACQQVoAkFNahACAQQAAkEhahACASAAAkExahACAUwAAkFFajACAUQAAkFhaiACATAAAgFgAAJBBWgCQU1qEAIBBAACQSFqEAIBIAACQTFqEAIBTAACQUVqQAIBRAACQU1qCAIBTAACQVFqCAIBMAACAVAAAkEBaAJBTWoQAgEAAAJBHWoQAgEcAAJBKWoQAgFMAAJBPWowAgE8AAJBbWogAgEoAAIBbAACQQFoAkFNahACAQAAAkEdahACARwAAkEpahACAUwAAkE9akACATwAAkEpaggCASgAAkExaggCASgAAgEwAAJA+WgCQTVqEAIA+AACQRVqEAIBFAACQSFqEAIBIAACQSlqIAIBKAACQRVqEAIBFAIQAgE0AiAD/LwA=\");\n",
              "                        });\n",
              "                </script>"
            ]
          },
          "metadata": {}
        },
        {
          "output_type": "stream",
          "name": "stdout",
          "text": [
            "Saving checkpoint for epoch 250 at ./ai-music/ckpt/ckpt-52\n"
          ]
        },
        {
          "output_type": "stream",
          "name": "stderr",
          "text": [
            "  1%|▏         | 1/78 [00:00<00:41,  1.86it/s]"
          ]
        },
        {
          "output_type": "stream",
          "name": "stdout",
          "text": [
            "Epoch 251 Batch 0 Loss 0.2917 Accuracy 0.9090\n"
          ]
        },
        {
          "output_type": "stream",
          "name": "stderr",
          "text": [
            " 40%|███▉      | 31/78 [00:14<00:25,  1.83it/s]"
          ]
        },
        {
          "output_type": "stream",
          "name": "stdout",
          "text": [
            "Epoch 251 Batch 30 Loss 0.2666 Accuracy 0.9125\n"
          ]
        },
        {
          "output_type": "stream",
          "name": "stderr",
          "text": [
            " 78%|███████▊  | 61/78 [00:28<00:09,  1.80it/s]"
          ]
        },
        {
          "output_type": "stream",
          "name": "stdout",
          "text": [
            "Epoch 251 Batch 60 Loss 0.2477 Accuracy 0.9189\n"
          ]
        },
        {
          "output_type": "stream",
          "name": "stderr",
          "text": [
            "100%|██████████| 78/78 [00:36<00:00,  2.14it/s]\n"
          ]
        },
        {
          "output_type": "stream",
          "name": "stdout",
          "text": [
            "Epoch 251: Loss 0.2396, Valiation loss 6.5232, Accuracy 0.9217, Valiation accuracy 0.2813\n",
            "đã lưu lại history !\n",
            "Time taken for 1 epoch: 41.39 secs\n"
          ]
        },
        {
          "output_type": "stream",
          "name": "stderr",
          "text": [
            "  1%|▏         | 1/78 [00:00<00:36,  2.09it/s]"
          ]
        },
        {
          "output_type": "stream",
          "name": "stdout",
          "text": [
            "Epoch 252 Batch 0 Loss 0.2566 Accuracy 0.9156\n"
          ]
        },
        {
          "output_type": "stream",
          "name": "stderr",
          "text": [
            " 40%|███▉      | 31/78 [00:14<00:25,  1.81it/s]"
          ]
        },
        {
          "output_type": "stream",
          "name": "stdout",
          "text": [
            "Epoch 252 Batch 30 Loss 0.2641 Accuracy 0.9127\n"
          ]
        },
        {
          "output_type": "stream",
          "name": "stderr",
          "text": [
            " 78%|███████▊  | 61/78 [00:28<00:09,  1.82it/s]"
          ]
        },
        {
          "output_type": "stream",
          "name": "stdout",
          "text": [
            "Epoch 252 Batch 60 Loss 0.2424 Accuracy 0.9202\n"
          ]
        },
        {
          "output_type": "stream",
          "name": "stderr",
          "text": [
            "100%|██████████| 78/78 [00:36<00:00,  2.15it/s]\n"
          ]
        },
        {
          "output_type": "stream",
          "name": "stdout",
          "text": [
            "Epoch 252: Loss 0.2350, Valiation loss 6.5306, Accuracy 0.9228, Valiation accuracy 0.2814\n",
            "đã lưu lại history !\n",
            "Time taken for 1 epoch: 41.38 secs\n"
          ]
        },
        {
          "output_type": "stream",
          "name": "stderr",
          "text": [
            "  1%|▏         | 1/78 [00:00<00:36,  2.14it/s]"
          ]
        },
        {
          "output_type": "stream",
          "name": "stdout",
          "text": [
            "Epoch 253 Batch 0 Loss 0.2674 Accuracy 0.9117\n"
          ]
        },
        {
          "output_type": "stream",
          "name": "stderr",
          "text": [
            " 40%|███▉      | 31/78 [00:14<00:25,  1.83it/s]"
          ]
        },
        {
          "output_type": "stream",
          "name": "stdout",
          "text": [
            "Epoch 253 Batch 30 Loss 0.2526 Accuracy 0.9166\n"
          ]
        },
        {
          "output_type": "stream",
          "name": "stderr",
          "text": [
            " 78%|███████▊  | 61/78 [00:28<00:09,  1.83it/s]"
          ]
        },
        {
          "output_type": "stream",
          "name": "stdout",
          "text": [
            "Epoch 253 Batch 60 Loss 0.2371 Accuracy 0.9220\n"
          ]
        },
        {
          "output_type": "stream",
          "name": "stderr",
          "text": [
            "100%|██████████| 78/78 [00:36<00:00,  2.15it/s]\n"
          ]
        },
        {
          "output_type": "stream",
          "name": "stdout",
          "text": [
            "Epoch 253: Loss 0.2307, Valiation loss 6.5373, Accuracy 0.9243, Valiation accuracy 0.2814\n",
            "đã lưu lại history !\n",
            "Time taken for 1 epoch: 41.37 secs\n"
          ]
        },
        {
          "output_type": "stream",
          "name": "stderr",
          "text": [
            "  1%|▏         | 1/78 [00:00<00:36,  2.11it/s]"
          ]
        },
        {
          "output_type": "stream",
          "name": "stdout",
          "text": [
            "Epoch 254 Batch 0 Loss 0.2872 Accuracy 0.9067\n"
          ]
        },
        {
          "output_type": "stream",
          "name": "stderr",
          "text": [
            " 40%|███▉      | 31/78 [00:14<00:25,  1.84it/s]"
          ]
        },
        {
          "output_type": "stream",
          "name": "stdout",
          "text": [
            "Epoch 254 Batch 30 Loss 0.2555 Accuracy 0.9160\n"
          ]
        },
        {
          "output_type": "stream",
          "name": "stderr",
          "text": [
            " 78%|███████▊  | 61/78 [00:28<00:09,  1.82it/s]"
          ]
        },
        {
          "output_type": "stream",
          "name": "stdout",
          "text": [
            "Epoch 254 Batch 60 Loss 0.2389 Accuracy 0.9218\n"
          ]
        },
        {
          "output_type": "stream",
          "name": "stderr",
          "text": [
            "100%|██████████| 78/78 [00:36<00:00,  2.14it/s]\n"
          ]
        },
        {
          "output_type": "stream",
          "name": "stdout",
          "text": [
            "Epoch 254: Loss 0.2324, Valiation loss 6.5449, Accuracy 0.9238, Valiation accuracy 0.2814\n",
            "đã lưu lại history !\n",
            "Time taken for 1 epoch: 41.60 secs\n"
          ]
        },
        {
          "output_type": "stream",
          "name": "stderr",
          "text": [
            "  1%|▏         | 1/78 [00:00<00:35,  2.14it/s]"
          ]
        },
        {
          "output_type": "stream",
          "name": "stdout",
          "text": [
            "Epoch 255 Batch 0 Loss 0.2641 Accuracy 0.9120\n"
          ]
        },
        {
          "output_type": "stream",
          "name": "stderr",
          "text": [
            " 40%|███▉      | 31/78 [00:14<00:25,  1.83it/s]"
          ]
        },
        {
          "output_type": "stream",
          "name": "stdout",
          "text": [
            "Epoch 255 Batch 30 Loss 0.2521 Accuracy 0.9168\n"
          ]
        },
        {
          "output_type": "stream",
          "name": "stderr",
          "text": [
            " 78%|███████▊  | 61/78 [00:28<00:09,  1.83it/s]"
          ]
        },
        {
          "output_type": "stream",
          "name": "stdout",
          "text": [
            "Epoch 255 Batch 60 Loss 0.2359 Accuracy 0.9225\n"
          ]
        },
        {
          "output_type": "stream",
          "name": "stderr",
          "text": [
            "100%|██████████| 78/78 [00:36<00:00,  2.14it/s]\n"
          ]
        },
        {
          "output_type": "stream",
          "name": "stdout",
          "text": [
            "Epoch 255: Loss 0.2294, Valiation loss 6.5518, Accuracy 0.9247, Valiation accuracy 0.2816\n",
            "đã lưu lại history !\n",
            "Time taken for 1 epoch: 37.05 secs\n",
            "#####################0.2399 -> 0.2294\n",
            "generated(3.2622):\n",
            "[  3 136  73 134 134 134 134 134 134 134 134 134 134 134 134 134 134 134\n",
            " 134 134 134 134 134 134 134 134 134 134 134 134 134 134 134 134 134 134]\n",
            "\n",
            "Non midi note detected. Only returning valid portion. Index, seed 63 (79, 2)\n"
          ]
        },
        {
          "output_type": "display_data",
          "data": {
            "text/plain": [
              "<IPython.core.display.HTML object>"
            ],
            "text/html": [
              "\n",
              "                <div id=\"midiPlayerDiv118949\"></div>\n",
              "                <link rel=\"stylesheet\" href=\"//cuthbertLab.github.io/music21j/css/m21.css\"\n",
              "                    type=\"text/css\" />\n",
              "                \n",
              "                    <script src=\"//cuthbertLab.github.io/music21j/ext/require/require.js\"\n",
              "                    ></script>\n",
              "                \n",
              "                <script>\n",
              "                require.config({\n",
              "                    paths: {'music21': '//cuthbertLab.github.io/music21j/src/music21'}\n",
              "                });\n",
              "                require(['music21'], function() {\n",
              "                               mp = new music21.miditools.MidiPlayer();\n",
              "                               mp.addPlayer(\"#midiPlayerDiv118949\");\n",
              "                               mp.base64Load(\"data:audio/midi;base64,TVRoZAAAAAYAAQACBABNVHJrAAAAGgD/UQMHoSAA/1kCAAAA/1gEBAIYCIgA/y8ATVRyawAAAUcA/wMFUGlhbm8AwAAA4ABAAMAApACQU1qCAIBTAACQVFqCAIBUAACQQVoAkFNahACAQQAAkEhahACASAAAkExahACAUwAAkFFajACAUQAAkFhaiACATAAAgFgAAJBBWgCQU1qEAIBBAACQSFqEAIBIAACQTFqEAIBTAACQUVqQAIBRAACQU1qCAIBTAACQVFqCAIBMAACAVAAAkEBaAJBTWoQAgEAAAJBHWoQAgEcAAJBKWoQAgFMAAJBPWowAgE8AAJBbWogAgEoAAIBbAACQQFoAkFNahACAQAAAkEdahACARwAAkEpahACAUwAAkE9akACATwAAkEpaggCASgAAkExaggCASgAAgEwAAJA+WgCQTVqEAIA+AACQRVqEAIBFAACQSFqEAIBIAACQSlqIAIBKAACQRVqEAIBFAIQAgE0AiAD/LwA=\");\n",
              "                        });\n",
              "                </script>"
            ]
          },
          "metadata": {}
        },
        {
          "output_type": "stream",
          "name": "stdout",
          "text": [
            "Saving checkpoint for epoch 255 at ./ai-music/ckpt/ckpt-53\n"
          ]
        },
        {
          "output_type": "stream",
          "name": "stderr",
          "text": [
            "  1%|▏         | 1/78 [00:00<00:40,  1.89it/s]"
          ]
        },
        {
          "output_type": "stream",
          "name": "stdout",
          "text": [
            "Epoch 256 Batch 0 Loss 0.2528 Accuracy 0.9180\n"
          ]
        },
        {
          "output_type": "stream",
          "name": "stderr",
          "text": [
            " 40%|███▉      | 31/78 [00:14<00:25,  1.83it/s]"
          ]
        },
        {
          "output_type": "stream",
          "name": "stdout",
          "text": [
            "Epoch 256 Batch 30 Loss 0.2617 Accuracy 0.9141\n"
          ]
        },
        {
          "output_type": "stream",
          "name": "stderr",
          "text": [
            " 78%|███████▊  | 61/78 [00:28<00:09,  1.84it/s]"
          ]
        },
        {
          "output_type": "stream",
          "name": "stdout",
          "text": [
            "Epoch 256 Batch 60 Loss 0.2413 Accuracy 0.9210\n"
          ]
        },
        {
          "output_type": "stream",
          "name": "stderr",
          "text": [
            "100%|██████████| 78/78 [00:36<00:00,  2.14it/s]\n"
          ]
        },
        {
          "output_type": "stream",
          "name": "stdout",
          "text": [
            "Epoch 256: Loss 0.2332, Valiation loss 6.5588, Accuracy 0.9237, Valiation accuracy 0.2817\n",
            "đã lưu lại history !\n",
            "Time taken for 1 epoch: 41.37 secs\n"
          ]
        },
        {
          "output_type": "stream",
          "name": "stderr",
          "text": [
            "  1%|▏         | 1/78 [00:00<00:35,  2.15it/s]"
          ]
        },
        {
          "output_type": "stream",
          "name": "stdout",
          "text": [
            "Epoch 257 Batch 0 Loss 0.2413 Accuracy 0.9203\n"
          ]
        },
        {
          "output_type": "stream",
          "name": "stderr",
          "text": [
            " 40%|███▉      | 31/78 [00:14<00:25,  1.83it/s]"
          ]
        },
        {
          "output_type": "stream",
          "name": "stdout",
          "text": [
            "Epoch 257 Batch 30 Loss 0.2500 Accuracy 0.9176\n"
          ]
        },
        {
          "output_type": "stream",
          "name": "stderr",
          "text": [
            " 78%|███████▊  | 61/78 [00:28<00:09,  1.82it/s]"
          ]
        },
        {
          "output_type": "stream",
          "name": "stdout",
          "text": [
            "Epoch 257 Batch 60 Loss 0.2350 Accuracy 0.9229\n"
          ]
        },
        {
          "output_type": "stream",
          "name": "stderr",
          "text": [
            "100%|██████████| 78/78 [00:36<00:00,  2.14it/s]\n"
          ]
        },
        {
          "output_type": "stream",
          "name": "stdout",
          "text": [
            "Epoch 257: Loss 0.2281, Valiation loss 6.5661, Accuracy 0.9253, Valiation accuracy 0.2817\n",
            "đã lưu lại history !\n",
            "Time taken for 1 epoch: 41.38 secs\n"
          ]
        },
        {
          "output_type": "stream",
          "name": "stderr",
          "text": [
            "  1%|▏         | 1/78 [00:00<00:36,  2.13it/s]"
          ]
        },
        {
          "output_type": "stream",
          "name": "stdout",
          "text": [
            "Epoch 258 Batch 0 Loss 0.2452 Accuracy 0.9217\n"
          ]
        },
        {
          "output_type": "stream",
          "name": "stderr",
          "text": [
            " 40%|███▉      | 31/78 [00:14<00:25,  1.84it/s]"
          ]
        },
        {
          "output_type": "stream",
          "name": "stdout",
          "text": [
            "Epoch 258 Batch 30 Loss 0.2475 Accuracy 0.9187\n"
          ]
        },
        {
          "output_type": "stream",
          "name": "stderr",
          "text": [
            " 78%|███████▊  | 61/78 [00:28<00:09,  1.83it/s]"
          ]
        },
        {
          "output_type": "stream",
          "name": "stdout",
          "text": [
            "Epoch 258 Batch 60 Loss 0.2311 Accuracy 0.9242\n"
          ]
        },
        {
          "output_type": "stream",
          "name": "stderr",
          "text": [
            "100%|██████████| 78/78 [00:36<00:00,  2.15it/s]\n"
          ]
        },
        {
          "output_type": "stream",
          "name": "stdout",
          "text": [
            "Epoch 258: Loss 0.2260, Valiation loss 6.5737, Accuracy 0.9260, Valiation accuracy 0.2817\n",
            "đã lưu lại history !\n",
            "Time taken for 1 epoch: 36.86 secs\n"
          ]
        },
        {
          "output_type": "stream",
          "name": "stderr",
          "text": [
            "  1%|▏         | 1/78 [00:00<00:36,  2.11it/s]"
          ]
        },
        {
          "output_type": "stream",
          "name": "stdout",
          "text": [
            "Epoch 259 Batch 0 Loss 0.2167 Accuracy 0.9315\n"
          ]
        },
        {
          "output_type": "stream",
          "name": "stderr",
          "text": [
            " 40%|███▉      | 31/78 [00:14<00:25,  1.82it/s]"
          ]
        },
        {
          "output_type": "stream",
          "name": "stdout",
          "text": [
            "Epoch 259 Batch 30 Loss 0.2466 Accuracy 0.9192\n"
          ]
        },
        {
          "output_type": "stream",
          "name": "stderr",
          "text": [
            " 78%|███████▊  | 61/78 [00:28<00:09,  1.82it/s]"
          ]
        },
        {
          "output_type": "stream",
          "name": "stdout",
          "text": [
            "Epoch 259 Batch 60 Loss 0.2317 Accuracy 0.9242\n"
          ]
        },
        {
          "output_type": "stream",
          "name": "stderr",
          "text": [
            "100%|██████████| 78/78 [00:36<00:00,  2.14it/s]\n"
          ]
        },
        {
          "output_type": "stream",
          "name": "stdout",
          "text": [
            "Epoch 259: Loss 0.2259, Valiation loss 6.5810, Accuracy 0.9260, Valiation accuracy 0.2817\n",
            "đã lưu lại history !\n",
            "Time taken for 1 epoch: 41.60 secs\n"
          ]
        },
        {
          "output_type": "stream",
          "name": "stderr",
          "text": [
            "  1%|▏         | 1/78 [00:00<00:36,  2.12it/s]"
          ]
        },
        {
          "output_type": "stream",
          "name": "stdout",
          "text": [
            "Epoch 260 Batch 0 Loss 0.2403 Accuracy 0.9231\n"
          ]
        },
        {
          "output_type": "stream",
          "name": "stderr",
          "text": [
            " 40%|███▉      | 31/78 [00:14<00:25,  1.83it/s]"
          ]
        },
        {
          "output_type": "stream",
          "name": "stdout",
          "text": [
            "Epoch 260 Batch 30 Loss 0.2485 Accuracy 0.9182\n"
          ]
        },
        {
          "output_type": "stream",
          "name": "stderr",
          "text": [
            " 78%|███████▊  | 61/78 [00:28<00:09,  1.82it/s]"
          ]
        },
        {
          "output_type": "stream",
          "name": "stdout",
          "text": [
            "Epoch 260 Batch 60 Loss 0.2317 Accuracy 0.9240\n"
          ]
        },
        {
          "output_type": "stream",
          "name": "stderr",
          "text": [
            "100%|██████████| 78/78 [00:36<00:00,  2.14it/s]\n"
          ]
        },
        {
          "output_type": "stream",
          "name": "stdout",
          "text": [
            "Epoch 260: Loss 0.2256, Valiation loss 6.5878, Accuracy 0.9261, Valiation accuracy 0.2818\n",
            "đã lưu lại history !\n",
            "Time taken for 1 epoch: 41.37 secs\n",
            "#####################0.2294 -> 0.2256\n",
            "generated(3.6669):\n",
            "[  3 136  73 134 134 134 134 134 134 134 134 134 134 134 134 134 134 134\n",
            " 134 134 134 134 134 134 134 134 134 134 134 134 134 134 134 134 134 134]\n",
            "\n",
            "Non midi note detected. Only returning valid portion. Index, seed 63 (79, 2)\n"
          ]
        },
        {
          "output_type": "display_data",
          "data": {
            "text/plain": [
              "<IPython.core.display.HTML object>"
            ],
            "text/html": [
              "\n",
              "                <div id=\"midiPlayerDiv119383\"></div>\n",
              "                <link rel=\"stylesheet\" href=\"//cuthbertLab.github.io/music21j/css/m21.css\"\n",
              "                    type=\"text/css\" />\n",
              "                \n",
              "                    <script src=\"//cuthbertLab.github.io/music21j/ext/require/require.js\"\n",
              "                    ></script>\n",
              "                \n",
              "                <script>\n",
              "                require.config({\n",
              "                    paths: {'music21': '//cuthbertLab.github.io/music21j/src/music21'}\n",
              "                });\n",
              "                require(['music21'], function() {\n",
              "                               mp = new music21.miditools.MidiPlayer();\n",
              "                               mp.addPlayer(\"#midiPlayerDiv119383\");\n",
              "                               mp.base64Load(\"data:audio/midi;base64,TVRoZAAAAAYAAQACBABNVHJrAAAAGgD/UQMHoSAA/1kCAAAA/1gEBAIYCIgA/y8ATVRyawAAAUcA/wMFUGlhbm8AwAAA4ABAAMAApACQU1qCAIBTAACQVFqCAIBUAACQQVoAkFNahACAQQAAkEhahACASAAAkExahACAUwAAkFFajACAUQAAkFhaiACATAAAgFgAAJBBWgCQU1qEAIBBAACQSFqEAIBIAACQTFqEAIBTAACQUVqQAIBRAACQU1qCAIBTAACQVFqCAIBMAACAVAAAkEBaAJBTWoQAgEAAAJBHWoQAgEcAAJBKWoQAgFMAAJBPWowAgE8AAJBbWogAgEoAAIBbAACQQFoAkFNahACAQAAAkEdahACARwAAkEpahACAUwAAkE9akACATwAAkEpaggCASgAAkExaggCASgAAgEwAAJA+WgCQTVqEAIA+AACQRVqEAIBFAACQSFqEAIBIAACQSlqIAIBKAACQRVqEAIBFAIQAgE0AiAD/LwA=\");\n",
              "                        });\n",
              "                </script>"
            ]
          },
          "metadata": {}
        },
        {
          "output_type": "stream",
          "name": "stdout",
          "text": [
            "Saving checkpoint for epoch 260 at ./ai-music/ckpt/ckpt-54\n"
          ]
        },
        {
          "output_type": "stream",
          "name": "stderr",
          "text": [
            "  1%|▏         | 1/78 [00:00<00:40,  1.91it/s]"
          ]
        },
        {
          "output_type": "stream",
          "name": "stdout",
          "text": [
            "Epoch 261 Batch 0 Loss 0.2466 Accuracy 0.9202\n"
          ]
        },
        {
          "output_type": "stream",
          "name": "stderr",
          "text": [
            " 40%|███▉      | 31/78 [00:14<00:25,  1.81it/s]"
          ]
        },
        {
          "output_type": "stream",
          "name": "stdout",
          "text": [
            "Epoch 261 Batch 30 Loss 0.2453 Accuracy 0.9197\n"
          ]
        },
        {
          "output_type": "stream",
          "name": "stderr",
          "text": [
            " 78%|███████▊  | 61/78 [00:28<00:09,  1.80it/s]"
          ]
        },
        {
          "output_type": "stream",
          "name": "stdout",
          "text": [
            "Epoch 261 Batch 60 Loss 0.2311 Accuracy 0.9245\n"
          ]
        },
        {
          "output_type": "stream",
          "name": "stderr",
          "text": [
            "100%|██████████| 78/78 [00:36<00:00,  2.14it/s]\n"
          ]
        },
        {
          "output_type": "stream",
          "name": "stdout",
          "text": [
            "Epoch 261: Loss 0.2237, Valiation loss 6.5947, Accuracy 0.9270, Valiation accuracy 0.2819\n",
            "đã lưu lại history !\n",
            "Time taken for 1 epoch: 41.37 secs\n"
          ]
        },
        {
          "output_type": "stream",
          "name": "stderr",
          "text": [
            "  1%|▏         | 1/78 [00:00<00:36,  2.10it/s]"
          ]
        },
        {
          "output_type": "stream",
          "name": "stdout",
          "text": [
            "Epoch 262 Batch 0 Loss 0.2313 Accuracy 0.9234\n"
          ]
        },
        {
          "output_type": "stream",
          "name": "stderr",
          "text": [
            " 40%|███▉      | 31/78 [00:14<00:25,  1.83it/s]"
          ]
        },
        {
          "output_type": "stream",
          "name": "stdout",
          "text": [
            "Epoch 262 Batch 30 Loss 0.2477 Accuracy 0.9186\n"
          ]
        },
        {
          "output_type": "stream",
          "name": "stderr",
          "text": [
            " 78%|███████▊  | 61/78 [00:28<00:09,  1.83it/s]"
          ]
        },
        {
          "output_type": "stream",
          "name": "stdout",
          "text": [
            "Epoch 262 Batch 60 Loss 0.2295 Accuracy 0.9249\n"
          ]
        },
        {
          "output_type": "stream",
          "name": "stderr",
          "text": [
            "100%|██████████| 78/78 [00:36<00:00,  2.15it/s]\n"
          ]
        },
        {
          "output_type": "stream",
          "name": "stdout",
          "text": [
            "Epoch 262: Loss 0.2240, Valiation loss 6.6019, Accuracy 0.9268, Valiation accuracy 0.2820\n",
            "đã lưu lại history !\n",
            "Time taken for 1 epoch: 41.60 secs\n"
          ]
        },
        {
          "output_type": "stream",
          "name": "stderr",
          "text": [
            "  1%|▏         | 1/78 [00:00<00:35,  2.15it/s]"
          ]
        },
        {
          "output_type": "stream",
          "name": "stdout",
          "text": [
            "Epoch 263 Batch 0 Loss 0.2244 Accuracy 0.9291\n"
          ]
        },
        {
          "output_type": "stream",
          "name": "stderr",
          "text": [
            " 40%|███▉      | 31/78 [00:14<00:25,  1.83it/s]"
          ]
        },
        {
          "output_type": "stream",
          "name": "stdout",
          "text": [
            "Epoch 263 Batch 30 Loss 0.2420 Accuracy 0.9205\n"
          ]
        },
        {
          "output_type": "stream",
          "name": "stderr",
          "text": [
            " 78%|███████▊  | 61/78 [00:28<00:09,  1.83it/s]"
          ]
        },
        {
          "output_type": "stream",
          "name": "stdout",
          "text": [
            "Epoch 263 Batch 60 Loss 0.2255 Accuracy 0.9260\n"
          ]
        },
        {
          "output_type": "stream",
          "name": "stderr",
          "text": [
            "100%|██████████| 78/78 [00:36<00:00,  2.14it/s]\n"
          ]
        },
        {
          "output_type": "stream",
          "name": "stdout",
          "text": [
            "Epoch 263: Loss 0.2203, Valiation loss 6.6091, Accuracy 0.9278, Valiation accuracy 0.2820\n",
            "đã lưu lại history !\n",
            "Time taken for 1 epoch: 36.98 secs\n"
          ]
        },
        {
          "output_type": "stream",
          "name": "stderr",
          "text": [
            "  1%|▏         | 1/78 [00:00<00:37,  2.08it/s]"
          ]
        },
        {
          "output_type": "stream",
          "name": "stdout",
          "text": [
            "Epoch 264 Batch 0 Loss 0.2146 Accuracy 0.9296\n"
          ]
        },
        {
          "output_type": "stream",
          "name": "stderr",
          "text": [
            " 40%|███▉      | 31/78 [00:14<00:25,  1.82it/s]"
          ]
        },
        {
          "output_type": "stream",
          "name": "stdout",
          "text": [
            "Epoch 264 Batch 30 Loss 0.2413 Accuracy 0.9206\n"
          ]
        },
        {
          "output_type": "stream",
          "name": "stderr",
          "text": [
            " 78%|███████▊  | 61/78 [00:28<00:09,  1.82it/s]"
          ]
        },
        {
          "output_type": "stream",
          "name": "stdout",
          "text": [
            "Epoch 264 Batch 60 Loss 0.2270 Accuracy 0.9254\n"
          ]
        },
        {
          "output_type": "stream",
          "name": "stderr",
          "text": [
            "100%|██████████| 78/78 [00:36<00:00,  2.15it/s]\n"
          ]
        },
        {
          "output_type": "stream",
          "name": "stdout",
          "text": [
            "Epoch 264: Loss 0.2201, Valiation loss 6.6159, Accuracy 0.9278, Valiation accuracy 0.2821\n",
            "đã lưu lại history !\n",
            "Time taken for 1 epoch: 41.61 secs\n"
          ]
        },
        {
          "output_type": "stream",
          "name": "stderr",
          "text": [
            "  1%|▏         | 1/78 [00:00<00:35,  2.15it/s]"
          ]
        },
        {
          "output_type": "stream",
          "name": "stdout",
          "text": [
            "Epoch 265 Batch 0 Loss 0.2376 Accuracy 0.9246\n"
          ]
        },
        {
          "output_type": "stream",
          "name": "stderr",
          "text": [
            " 40%|███▉      | 31/78 [00:14<00:25,  1.84it/s]"
          ]
        },
        {
          "output_type": "stream",
          "name": "stdout",
          "text": [
            "Epoch 265 Batch 30 Loss 0.2374 Accuracy 0.9222\n"
          ]
        },
        {
          "output_type": "stream",
          "name": "stderr",
          "text": [
            " 78%|███████▊  | 61/78 [00:28<00:09,  1.82it/s]"
          ]
        },
        {
          "output_type": "stream",
          "name": "stdout",
          "text": [
            "Epoch 265 Batch 60 Loss 0.2240 Accuracy 0.9267\n"
          ]
        },
        {
          "output_type": "stream",
          "name": "stderr",
          "text": [
            "100%|██████████| 78/78 [00:36<00:00,  2.14it/s]\n"
          ]
        },
        {
          "output_type": "stream",
          "name": "stdout",
          "text": [
            "Epoch 265: Loss 0.2180, Valiation loss 6.6218, Accuracy 0.9288, Valiation accuracy 0.2822\n",
            "đã lưu lại history !\n",
            "Time taken for 1 epoch: 41.37 secs\n",
            "#####################0.2256 -> 0.2180\n",
            "generated(3.2840):\n",
            "[  3 136  73 134 134 134 134 134 134 134 134 134 134 134 134 134 134 134\n",
            " 134 134 134 134 134 134 134 134 134 134 134 134 134 134 134 134 134 134]\n",
            "\n",
            "Non midi note detected. Only returning valid portion. Index, seed 63 (79, 2)\n"
          ]
        },
        {
          "output_type": "display_data",
          "data": {
            "text/plain": [
              "<IPython.core.display.HTML object>"
            ],
            "text/html": [
              "\n",
              "                <div id=\"midiPlayerDiv119817\"></div>\n",
              "                <link rel=\"stylesheet\" href=\"//cuthbertLab.github.io/music21j/css/m21.css\"\n",
              "                    type=\"text/css\" />\n",
              "                \n",
              "                    <script src=\"//cuthbertLab.github.io/music21j/ext/require/require.js\"\n",
              "                    ></script>\n",
              "                \n",
              "                <script>\n",
              "                require.config({\n",
              "                    paths: {'music21': '//cuthbertLab.github.io/music21j/src/music21'}\n",
              "                });\n",
              "                require(['music21'], function() {\n",
              "                               mp = new music21.miditools.MidiPlayer();\n",
              "                               mp.addPlayer(\"#midiPlayerDiv119817\");\n",
              "                               mp.base64Load(\"data:audio/midi;base64,TVRoZAAAAAYAAQACBABNVHJrAAAAGgD/UQMHoSAA/1kCAAAA/1gEBAIYCIgA/y8ATVRyawAAAUcA/wMFUGlhbm8AwAAA4ABAAMAApACQU1qCAIBTAACQVFqCAIBUAACQQVoAkFNahACAQQAAkEhahACASAAAkExahACAUwAAkFFajACAUQAAkFhaiACATAAAgFgAAJBBWgCQU1qEAIBBAACQSFqEAIBIAACQTFqEAIBTAACQUVqQAIBRAACQU1qCAIBTAACQVFqCAIBMAACAVAAAkEBaAJBTWoQAgEAAAJBHWoQAgEcAAJBKWoQAgFMAAJBPWowAgE8AAJBbWogAgEoAAIBbAACQQFoAkFNahACAQAAAkEdahACARwAAkEpahACAUwAAkE9akACATwAAkEpaggCASgAAkExaggCASgAAgEwAAJA+WgCQTVqEAIA+AACQRVqEAIBFAACQSFqEAIBIAACQSlqIAIBKAACQRVqEAIBFAIQAgE0AiAD/LwA=\");\n",
              "                        });\n",
              "                </script>"
            ]
          },
          "metadata": {}
        },
        {
          "output_type": "stream",
          "name": "stdout",
          "text": [
            "Saving checkpoint for epoch 265 at ./ai-music/ckpt/ckpt-55\n"
          ]
        },
        {
          "output_type": "stream",
          "name": "stderr",
          "text": [
            "  1%|▏         | 1/78 [00:00<00:40,  1.90it/s]"
          ]
        },
        {
          "output_type": "stream",
          "name": "stdout",
          "text": [
            "Epoch 266 Batch 0 Loss 0.2345 Accuracy 0.9234\n"
          ]
        },
        {
          "output_type": "stream",
          "name": "stderr",
          "text": [
            " 40%|███▉      | 31/78 [00:14<00:25,  1.83it/s]"
          ]
        },
        {
          "output_type": "stream",
          "name": "stdout",
          "text": [
            "Epoch 266 Batch 30 Loss 0.2361 Accuracy 0.9225\n"
          ]
        },
        {
          "output_type": "stream",
          "name": "stderr",
          "text": [
            " 78%|███████▊  | 61/78 [00:28<00:09,  1.82it/s]"
          ]
        },
        {
          "output_type": "stream",
          "name": "stdout",
          "text": [
            "Epoch 266 Batch 60 Loss 0.2232 Accuracy 0.9269\n"
          ]
        },
        {
          "output_type": "stream",
          "name": "stderr",
          "text": [
            "100%|██████████| 78/78 [00:36<00:00,  2.14it/s]\n"
          ]
        },
        {
          "output_type": "stream",
          "name": "stdout",
          "text": [
            "Epoch 266: Loss 0.2163, Valiation loss 6.6280, Accuracy 0.9292, Valiation accuracy 0.2823\n",
            "đã lưu lại history !\n",
            "Time taken for 1 epoch: 41.37 secs\n"
          ]
        },
        {
          "output_type": "stream",
          "name": "stderr",
          "text": [
            "  1%|▏         | 1/78 [00:00<00:36,  2.11it/s]"
          ]
        },
        {
          "output_type": "stream",
          "name": "stdout",
          "text": [
            "Epoch 267 Batch 0 Loss 0.2417 Accuracy 0.9207\n"
          ]
        },
        {
          "output_type": "stream",
          "name": "stderr",
          "text": [
            " 40%|███▉      | 31/78 [00:14<00:25,  1.82it/s]"
          ]
        },
        {
          "output_type": "stream",
          "name": "stdout",
          "text": [
            "Epoch 267 Batch 30 Loss 0.2369 Accuracy 0.9222\n"
          ]
        },
        {
          "output_type": "stream",
          "name": "stderr",
          "text": [
            " 78%|███████▊  | 61/78 [00:28<00:09,  1.81it/s]"
          ]
        },
        {
          "output_type": "stream",
          "name": "stdout",
          "text": [
            "Epoch 267 Batch 60 Loss 0.2229 Accuracy 0.9268\n"
          ]
        },
        {
          "output_type": "stream",
          "name": "stderr",
          "text": [
            "100%|██████████| 78/78 [00:36<00:00,  2.14it/s]\n"
          ]
        },
        {
          "output_type": "stream",
          "name": "stdout",
          "text": [
            "Epoch 267: Loss 0.2170, Valiation loss 6.6346, Accuracy 0.9289, Valiation accuracy 0.2823\n",
            "đã lưu lại history !\n",
            "Time taken for 1 epoch: 41.42 secs\n"
          ]
        },
        {
          "output_type": "stream",
          "name": "stderr",
          "text": [
            "  1%|▏         | 1/78 [00:00<00:37,  2.08it/s]"
          ]
        },
        {
          "output_type": "stream",
          "name": "stdout",
          "text": [
            "Epoch 268 Batch 0 Loss 0.2432 Accuracy 0.9203\n"
          ]
        },
        {
          "output_type": "stream",
          "name": "stderr",
          "text": [
            " 40%|███▉      | 31/78 [00:14<00:25,  1.82it/s]"
          ]
        },
        {
          "output_type": "stream",
          "name": "stdout",
          "text": [
            "Epoch 268 Batch 30 Loss 0.2370 Accuracy 0.9220\n"
          ]
        },
        {
          "output_type": "stream",
          "name": "stderr",
          "text": [
            " 78%|███████▊  | 61/78 [00:28<00:09,  1.81it/s]"
          ]
        },
        {
          "output_type": "stream",
          "name": "stdout",
          "text": [
            "Epoch 268 Batch 60 Loss 0.2213 Accuracy 0.9274\n"
          ]
        },
        {
          "output_type": "stream",
          "name": "stderr",
          "text": [
            "100%|██████████| 78/78 [00:36<00:00,  2.14it/s]\n"
          ]
        },
        {
          "output_type": "stream",
          "name": "stdout",
          "text": [
            "Epoch 268: Loss 0.2158, Valiation loss 6.6418, Accuracy 0.9293, Valiation accuracy 0.2824\n",
            "đã lưu lại history !\n",
            "Time taken for 1 epoch: 41.61 secs\n"
          ]
        },
        {
          "output_type": "stream",
          "name": "stderr",
          "text": [
            "  1%|▏         | 1/78 [00:00<00:36,  2.12it/s]"
          ]
        },
        {
          "output_type": "stream",
          "name": "stdout",
          "text": [
            "Epoch 269 Batch 0 Loss 0.2443 Accuracy 0.9199\n"
          ]
        },
        {
          "output_type": "stream",
          "name": "stderr",
          "text": [
            " 40%|███▉      | 31/78 [00:14<00:25,  1.83it/s]"
          ]
        },
        {
          "output_type": "stream",
          "name": "stdout",
          "text": [
            "Epoch 269 Batch 30 Loss 0.2310 Accuracy 0.9238\n"
          ]
        },
        {
          "output_type": "stream",
          "name": "stderr",
          "text": [
            " 78%|███████▊  | 61/78 [00:28<00:09,  1.83it/s]"
          ]
        },
        {
          "output_type": "stream",
          "name": "stdout",
          "text": [
            "Epoch 269 Batch 60 Loss 0.2191 Accuracy 0.9280\n"
          ]
        },
        {
          "output_type": "stream",
          "name": "stderr",
          "text": [
            "100%|██████████| 78/78 [00:36<00:00,  2.15it/s]\n"
          ]
        },
        {
          "output_type": "stream",
          "name": "stdout",
          "text": [
            "Epoch 269: Loss 0.2129, Valiation loss 6.6486, Accuracy 0.9302, Valiation accuracy 0.2824\n",
            "đã lưu lại history !\n",
            "Time taken for 1 epoch: 41.60 secs\n"
          ]
        },
        {
          "output_type": "stream",
          "name": "stderr",
          "text": [
            "  1%|▏         | 1/78 [00:00<00:36,  2.11it/s]"
          ]
        },
        {
          "output_type": "stream",
          "name": "stdout",
          "text": [
            "Epoch 270 Batch 0 Loss 0.2073 Accuracy 0.9339\n"
          ]
        },
        {
          "output_type": "stream",
          "name": "stderr",
          "text": [
            " 40%|███▉      | 31/78 [00:14<00:25,  1.83it/s]"
          ]
        },
        {
          "output_type": "stream",
          "name": "stdout",
          "text": [
            "Epoch 270 Batch 30 Loss 0.2330 Accuracy 0.9236\n"
          ]
        },
        {
          "output_type": "stream",
          "name": "stderr",
          "text": [
            " 78%|███████▊  | 61/78 [00:28<00:09,  1.83it/s]"
          ]
        },
        {
          "output_type": "stream",
          "name": "stdout",
          "text": [
            "Epoch 270 Batch 60 Loss 0.2207 Accuracy 0.9280\n"
          ]
        },
        {
          "output_type": "stream",
          "name": "stderr",
          "text": [
            "100%|██████████| 78/78 [00:36<00:00,  2.15it/s]\n"
          ]
        },
        {
          "output_type": "stream",
          "name": "stdout",
          "text": [
            "Epoch 270: Loss 0.2154, Valiation loss 6.6557, Accuracy 0.9298, Valiation accuracy 0.2824\n",
            "đã lưu lại history !\n",
            "Time taken for 1 epoch: 36.89 secs\n",
            "#####################0.2180 -> 0.2154\n",
            "generated(3.3120):\n",
            "[  3 136  73 134 134 134 134 134 134 134 134 134 134 134 134 134 134 134\n",
            " 134 134 134 134 134 134 134 134 134 134 134 134 134 134 134 134 134 134]\n",
            "\n",
            "Non midi note detected. Only returning valid portion. Index, seed 63 (79, 2)\n"
          ]
        },
        {
          "output_type": "display_data",
          "data": {
            "text/plain": [
              "<IPython.core.display.HTML object>"
            ],
            "text/html": [
              "\n",
              "                <div id=\"midiPlayerDiv120251\"></div>\n",
              "                <link rel=\"stylesheet\" href=\"//cuthbertLab.github.io/music21j/css/m21.css\"\n",
              "                    type=\"text/css\" />\n",
              "                \n",
              "                    <script src=\"//cuthbertLab.github.io/music21j/ext/require/require.js\"\n",
              "                    ></script>\n",
              "                \n",
              "                <script>\n",
              "                require.config({\n",
              "                    paths: {'music21': '//cuthbertLab.github.io/music21j/src/music21'}\n",
              "                });\n",
              "                require(['music21'], function() {\n",
              "                               mp = new music21.miditools.MidiPlayer();\n",
              "                               mp.addPlayer(\"#midiPlayerDiv120251\");\n",
              "                               mp.base64Load(\"data:audio/midi;base64,TVRoZAAAAAYAAQACBABNVHJrAAAAGgD/UQMHoSAA/1kCAAAA/1gEBAIYCIgA/y8ATVRyawAAAUcA/wMFUGlhbm8AwAAA4ABAAMAApACQU1qCAIBTAACQVFqCAIBUAACQQVoAkFNahACAQQAAkEhahACASAAAkExahACAUwAAkFFajACAUQAAkFhaiACATAAAgFgAAJBBWgCQU1qEAIBBAACQSFqEAIBIAACQTFqEAIBTAACQUVqQAIBRAACQU1qCAIBTAACQVFqCAIBMAACAVAAAkEBaAJBTWoQAgEAAAJBHWoQAgEcAAJBKWoQAgFMAAJBPWowAgE8AAJBbWogAgEoAAIBbAACQQFoAkFNahACAQAAAkEdahACARwAAkEpahACAUwAAkE9akACATwAAkEpaggCASgAAkExaggCASgAAgEwAAJA+WgCQTVqEAIA+AACQRVqEAIBFAACQSFqEAIBIAACQSlqIAIBKAACQRVqEAIBFAIQAgE0AiAD/LwA=\");\n",
              "                        });\n",
              "                </script>"
            ]
          },
          "metadata": {}
        },
        {
          "output_type": "stream",
          "name": "stdout",
          "text": [
            "Saving checkpoint for epoch 270 at ./ai-music/ckpt/ckpt-56\n"
          ]
        },
        {
          "output_type": "stream",
          "name": "stderr",
          "text": [
            "  1%|▏         | 1/78 [00:00<00:41,  1.87it/s]"
          ]
        },
        {
          "output_type": "stream",
          "name": "stdout",
          "text": [
            "Epoch 271 Batch 0 Loss 0.2330 Accuracy 0.9233\n"
          ]
        },
        {
          "output_type": "stream",
          "name": "stderr",
          "text": [
            " 40%|███▉      | 31/78 [00:14<00:25,  1.83it/s]"
          ]
        },
        {
          "output_type": "stream",
          "name": "stdout",
          "text": [
            "Epoch 271 Batch 30 Loss 0.2317 Accuracy 0.9241\n"
          ]
        },
        {
          "output_type": "stream",
          "name": "stderr",
          "text": [
            " 78%|███████▊  | 61/78 [00:28<00:09,  1.83it/s]"
          ]
        },
        {
          "output_type": "stream",
          "name": "stdout",
          "text": [
            "Epoch 271 Batch 60 Loss 0.2163 Accuracy 0.9292\n"
          ]
        },
        {
          "output_type": "stream",
          "name": "stderr",
          "text": [
            "100%|██████████| 78/78 [00:36<00:00,  2.14it/s]\n"
          ]
        },
        {
          "output_type": "stream",
          "name": "stdout",
          "text": [
            "Epoch 271: Loss 0.2111, Valiation loss 6.6628, Accuracy 0.9310, Valiation accuracy 0.2825\n",
            "đã lưu lại history !\n",
            "Time taken for 1 epoch: 37.03 secs\n"
          ]
        },
        {
          "output_type": "stream",
          "name": "stderr",
          "text": [
            "  1%|▏         | 1/78 [00:00<00:36,  2.08it/s]"
          ]
        },
        {
          "output_type": "stream",
          "name": "stdout",
          "text": [
            "Epoch 272 Batch 0 Loss 0.2200 Accuracy 0.9303\n"
          ]
        },
        {
          "output_type": "stream",
          "name": "stderr",
          "text": [
            " 40%|███▉      | 31/78 [00:14<00:25,  1.82it/s]"
          ]
        },
        {
          "output_type": "stream",
          "name": "stdout",
          "text": [
            "Epoch 272 Batch 30 Loss 0.2276 Accuracy 0.9255\n"
          ]
        },
        {
          "output_type": "stream",
          "name": "stderr",
          "text": [
            " 78%|███████▊  | 61/78 [00:28<00:09,  1.83it/s]"
          ]
        },
        {
          "output_type": "stream",
          "name": "stdout",
          "text": [
            "Epoch 272 Batch 60 Loss 0.2151 Accuracy 0.9297\n"
          ]
        },
        {
          "output_type": "stream",
          "name": "stderr",
          "text": [
            "100%|██████████| 78/78 [00:36<00:00,  2.15it/s]\n"
          ]
        },
        {
          "output_type": "stream",
          "name": "stdout",
          "text": [
            "Epoch 272: Loss 0.2088, Valiation loss 6.6695, Accuracy 0.9319, Valiation accuracy 0.2826\n",
            "đã lưu lại history !\n",
            "Time taken for 1 epoch: 37.02 secs\n"
          ]
        },
        {
          "output_type": "stream",
          "name": "stderr",
          "text": [
            "  1%|▏         | 1/78 [00:00<00:36,  2.11it/s]"
          ]
        },
        {
          "output_type": "stream",
          "name": "stdout",
          "text": [
            "Epoch 273 Batch 0 Loss 0.2332 Accuracy 0.9223\n"
          ]
        },
        {
          "output_type": "stream",
          "name": "stderr",
          "text": [
            "  4%|▍         | 3/78 [00:01<00:29,  2.51it/s]"
          ]
        }
      ]
    },
    {
      "cell_type": "code",
      "source": [
        "\n",
        "# def load_model(fp):\n",
        "#     return tf.saved_model.load(fp)\n",
        "\n",
        "\n",
        "# def get_song_tokens(vocab):\n",
        "#     return midi2idxenc('../midi_songs/ff4pclov.mid', vocab, add_bos=True, add_eos=False)\n",
        "\n",
        "\n",
        "# def get_middle_c_song(vocab):\n",
        "#     return [vocab.stoi['n100'], vocab.stoi['d10'], vocab.stoi['n109'], vocab.stoi['d10'], vocab.stoi['n112'],\n",
        "#             vocab.stoi['d10']]\n",
        "\n",
        "\n",
        "# loaded_model = tf.saved_model.load('./')\n",
        "# generator = MusicGenerator(loaded_model)\n",
        "# created_vocab = MusicVocab.create()\n",
        "\n",
        "# # tokens_original = midi2idxenc('../midi_songs/costadsol.mid', created_vocab, add_bos=False, add_eos=False)\n",
        "# # tokens_original = get_middle_c_song(created_vocab)\n",
        "\n",
        "# gen_len = 1024\n",
        "# generated = generator.extend_sequence(input_sequence=None, max_generate_len=gen_len)\n",
        "# print(generated[-(gen_len + 2):])\n",
        "\n",
        "# generated = idxenc2stream(generated.numpy(), vocab=created_vocab)\n",
        "# sp = music21.midi.realtime.StreamPlayer(generated)\n",
        "# sp.play()\n"
      ],
      "metadata": {
        "id": "5jOpvLEhwQRH"
      },
      "execution_count": null,
      "outputs": []
    }
  ]
}